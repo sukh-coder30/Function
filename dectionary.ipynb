{
 "cells": [
  {
   "cell_type": "code",
   "execution_count": 1,
   "id": "c160804b-fc17-4c3f-bc0d-7ab97baa5ac4",
   "metadata": {},
   "outputs": [],
   "source": [
    "#dictionary> Which store data in the form of key value pairs."
   ]
  },
  {
   "cell_type": "code",
   "execution_count": 2,
   "id": "ac86e044-c578-4a10-bf7f-2a66db56cfd7",
   "metadata": {},
   "outputs": [
    {
     "data": {
      "text/plain": [
       "{'key_course': 'data science', 'duration': 200}"
      ]
     },
     "execution_count": 2,
     "metadata": {},
     "output_type": "execute_result"
    }
   ],
   "source": [
    "my_dict = {\"key_course\": \"data science\", \"duration\":200}\n",
    "my_dict"
   ]
  },
  {
   "cell_type": "code",
   "execution_count": 4,
   "id": "992dce55-e7c3-4643-85c9-bb52b7e7940f",
   "metadata": {},
   "outputs": [
    {
     "data": {
      "text/plain": [
       "dict"
      ]
     },
     "execution_count": 4,
     "metadata": {},
     "output_type": "execute_result"
    }
   ],
   "source": [
    "type(my_dict)"
   ]
  },
  {
   "cell_type": "code",
   "execution_count": 5,
   "id": "038816c2-7c98-4db1-8195-ad2b77c13187",
   "metadata": {},
   "outputs": [
    {
     "data": {
      "text/plain": [
       "{'dad': 12345, 'mom': 4567}"
      ]
     },
     "execution_count": 5,
     "metadata": {},
     "output_type": "execute_result"
    }
   ],
   "source": [
    "# use case \n",
    "phonebook = {\"dad\":12345, \"mom\":4567}\n",
    "phonebook"
   ]
  },
  {
   "cell_type": "code",
   "execution_count": 6,
   "id": "43993156-f3da-49d1-871a-a229a038f077",
   "metadata": {},
   "outputs": [
    {
     "data": {
      "text/plain": [
       "12345"
      ]
     },
     "execution_count": 6,
     "metadata": {},
     "output_type": "execute_result"
    }
   ],
   "source": [
    "phonebook[\"dad\"]"
   ]
  },
  {
   "cell_type": "code",
   "execution_count": 7,
   "id": "427d8639-33ee-4ec8-9f88-42ab22d5f0a2",
   "metadata": {},
   "outputs": [
    {
     "data": {
      "text/plain": [
       "dict_keys(['dad', 'mom'])"
      ]
     },
     "execution_count": 7,
     "metadata": {},
     "output_type": "execute_result"
    }
   ],
   "source": [
    "phonebook.keys()"
   ]
  },
  {
   "cell_type": "code",
   "execution_count": 8,
   "id": "2c633983-fb84-4eff-8665-3b25469088b7",
   "metadata": {},
   "outputs": [
    {
     "data": {
      "text/plain": [
       "dict_values([12345, 4567])"
      ]
     },
     "execution_count": 8,
     "metadata": {},
     "output_type": "execute_result"
    }
   ],
   "source": [
    "phonebook.values()"
   ]
  },
  {
   "cell_type": "code",
   "execution_count": 9,
   "id": "f3cd70ff-d2fa-4c7c-8e1e-90b5b576462a",
   "metadata": {},
   "outputs": [],
   "source": [
    "# array stored homogenouse data list stored hatrogenouse data"
   ]
  },
  {
   "cell_type": "code",
   "execution_count": null,
   "id": "c753d279-4a69-4243-8d64-430ab900cea0",
   "metadata": {},
   "outputs": [],
   "source": [
    "#note: dictionory are unordered. but from python 3.7 version retain the order of insertion."
   ]
  },
  {
   "cell_type": "code",
   "execution_count": 1,
   "id": "412c3482-065a-4e0c-ab2e-bbd29e4310ff",
   "metadata": {},
   "outputs": [
    {
     "data": {
      "text/plain": [
       "{'name': 'Ajay', 'email': 'sk@gmail.com', 'contact': 1234}"
      ]
     },
     "execution_count": 1,
     "metadata": {},
     "output_type": "execute_result"
    }
   ],
   "source": [
    "d = {\"name\":\"Ajay\", \"email\":\"sk@gmail.com\", \"contact\":1234}\n",
    "\n",
    "d"
   ]
  },
  {
   "cell_type": "code",
   "execution_count": 2,
   "id": "d67a4160-69f6-40c6-8540-4fcfff477a5b",
   "metadata": {},
   "outputs": [
    {
     "data": {
      "text/plain": [
       "'Ajay'"
      ]
     },
     "execution_count": 2,
     "metadata": {},
     "output_type": "execute_result"
    }
   ],
   "source": [
    "d[\"name\"]"
   ]
  },
  {
   "cell_type": "code",
   "execution_count": 3,
   "id": "4e946ccb-2336-49c6-b2f2-a3dadcf29f4f",
   "metadata": {},
   "outputs": [],
   "source": [
    "d[\"name\"] = \"ram\""
   ]
  },
  {
   "cell_type": "code",
   "execution_count": 4,
   "id": "effd0745-3d3c-403b-887e-726613a6f635",
   "metadata": {},
   "outputs": [
    {
     "data": {
      "text/plain": [
       "{'name': 'ram', 'email': 'sk@gmail.com', 'contact': 1234}"
      ]
     },
     "execution_count": 4,
     "metadata": {},
     "output_type": "execute_result"
    }
   ],
   "source": [
    "d"
   ]
  },
  {
   "cell_type": "code",
   "execution_count": 5,
   "id": "2a1d918e-6199-414a-a4a0-8eb25f90656c",
   "metadata": {},
   "outputs": [
    {
     "ename": "TypeError",
     "evalue": "unhashable type: 'list'",
     "output_type": "error",
     "traceback": [
      "\u001b[0;31m---------------------------------------------------------------------------\u001b[0m",
      "\u001b[0;31mTypeError\u001b[0m                                 Traceback (most recent call last)",
      "Cell \u001b[0;32mIn[5], line 1\u001b[0m\n\u001b[0;32m----> 1\u001b[0m d \u001b[38;5;241m=\u001b[39m {[\u001b[38;5;241m1\u001b[39m, \u001b[38;5;241m2\u001b[39m, \u001b[38;5;241m3\u001b[39m]: \u001b[38;5;124m\"\u001b[39m\u001b[38;5;124mabc\u001b[39m\u001b[38;5;124m\"\u001b[39m}\n\u001b[1;32m      2\u001b[0m d\n",
      "\u001b[0;31mTypeError\u001b[0m: unhashable type: 'list'"
     ]
    }
   ],
   "source": [
    "d = {[1, 2, 3]: \"abc\"}\n",
    "d\n"
   ]
  },
  {
   "cell_type": "code",
   "execution_count": 6,
   "id": "620dac54-59e9-4726-8934-5c7dfb206378",
   "metadata": {},
   "outputs": [
    {
     "data": {
      "text/plain": [
       "{(1, 2, 3): 'abc'}"
      ]
     },
     "execution_count": 6,
     "metadata": {},
     "output_type": "execute_result"
    }
   ],
   "source": [
    "d = {(1, 2, 3): \"abc\"}\n",
    "d"
   ]
  },
  {
   "cell_type": "code",
   "execution_count": 7,
   "id": "4a614c33-4feb-4979-9623-36227a5ff24f",
   "metadata": {},
   "outputs": [
    {
     "data": {
      "text/plain": [
       "dict"
      ]
     },
     "execution_count": 7,
     "metadata": {},
     "output_type": "execute_result"
    }
   ],
   "source": [
    "type(d)"
   ]
  },
  {
   "cell_type": "code",
   "execution_count": 8,
   "id": "49d9e474-a079-4d7d-9e09-b149678804f0",
   "metadata": {},
   "outputs": [
    {
     "ename": "TypeError",
     "evalue": "unhashable type: 'set'",
     "output_type": "error",
     "traceback": [
      "\u001b[0;31m---------------------------------------------------------------------------\u001b[0m",
      "\u001b[0;31mTypeError\u001b[0m                                 Traceback (most recent call last)",
      "Cell \u001b[0;32mIn[8], line 1\u001b[0m\n\u001b[0;32m----> 1\u001b[0m d \u001b[38;5;241m=\u001b[39m {{\u001b[38;5;241m1\u001b[39m, \u001b[38;5;241m2\u001b[39m, \u001b[38;5;241m3\u001b[39m}: \u001b[38;5;124m\"\u001b[39m\u001b[38;5;124mabc\u001b[39m\u001b[38;5;124m\"\u001b[39m}\n\u001b[1;32m      2\u001b[0m d\n",
      "\u001b[0;31mTypeError\u001b[0m: unhashable type: 'set'"
     ]
    }
   ],
   "source": [
    "d = {{1, 2, 3}: \"abc\"}\n",
    "d"
   ]
  },
  {
   "cell_type": "code",
   "execution_count": 9,
   "id": "ca5e1339-0333-41f7-b9e6-6221232f5bb8",
   "metadata": {},
   "outputs": [],
   "source": [
    "# only strings and number can be use in the key as dictnory"
   ]
  },
  {
   "cell_type": "code",
   "execution_count": 10,
   "id": "8c911311-b88c-4a5e-bbae-f287c0a1d25e",
   "metadata": {},
   "outputs": [
    {
     "data": {
      "text/plain": [
       "{'name': 'shyam', 'email': 'sk@gmail.com', 'contact': 1234}"
      ]
     },
     "execution_count": 10,
     "metadata": {},
     "output_type": "execute_result"
    }
   ],
   "source": [
    "d = {\"name\":\"Ajay\", \"email\":\"sk@gmail.com\", \"contact\":1234, \"name\": \"shyam\"}\n",
    "\n",
    "d"
   ]
  },
  {
   "cell_type": "code",
   "execution_count": 11,
   "id": "3b8bb4ce-814e-45e1-b4c2-6780fbe471aa",
   "metadata": {},
   "outputs": [
    {
     "data": {
      "text/plain": [
       "{'name': 'shyam',\n",
       " 'email': 'sk@gmail.com',\n",
       " 'contact': 1234,\n",
       " 'address': 'punjab'}"
      ]
     },
     "execution_count": 11,
     "metadata": {},
     "output_type": "execute_result"
    }
   ],
   "source": [
    "d[\"address\"] = \"punjab\"\n",
    "d"
   ]
  },
  {
   "cell_type": "code",
   "execution_count": 12,
   "id": "3b8083a8-4e28-492c-bb62-8317b2f07f26",
   "metadata": {},
   "outputs": [
    {
     "data": {
      "text/plain": [
       "{'name': 'shyam', 'email': 'sk@gmail.com', 'contact': 1234}"
      ]
     },
     "execution_count": 12,
     "metadata": {},
     "output_type": "execute_result"
    }
   ],
   "source": [
    "del d[\"address\"]\n",
    "d"
   ]
  },
  {
   "cell_type": "code",
   "execution_count": 13,
   "id": "501cc8f6-f4ab-48b8-954b-e8f102da578f",
   "metadata": {},
   "outputs": [],
   "source": [
    "d.clear()"
   ]
  },
  {
   "cell_type": "code",
   "execution_count": 14,
   "id": "5dff0988-a2d0-4ceb-9a7a-802523b06494",
   "metadata": {},
   "outputs": [
    {
     "data": {
      "text/plain": [
       "{}"
      ]
     },
     "execution_count": 14,
     "metadata": {},
     "output_type": "execute_result"
    }
   ],
   "source": [
    "d"
   ]
  },
  {
   "cell_type": "code",
   "execution_count": 15,
   "id": "95a2aae9-5994-4387-bbcf-80f6855bcb91",
   "metadata": {},
   "outputs": [
    {
     "data": {
      "text/plain": [
       "3"
      ]
     },
     "execution_count": 15,
     "metadata": {},
     "output_type": "execute_result"
    }
   ],
   "source": [
    "d = {\"name\":\"Ajay\", \"email\":\"sk@gmail.com\", \"contact\":1234, \"name\": \"shyam\"}\n",
    "\n",
    "len(d)\n"
   ]
  },
  {
   "cell_type": "code",
   "execution_count": 16,
   "id": "4dc40919-4996-4868-b984-de0247d30261",
   "metadata": {},
   "outputs": [
    {
     "data": {
      "text/plain": [
       "dict_keys(['name', 'email', 'contact'])"
      ]
     },
     "execution_count": 16,
     "metadata": {},
     "output_type": "execute_result"
    }
   ],
   "source": [
    "d.keys()"
   ]
  },
  {
   "cell_type": "code",
   "execution_count": 17,
   "id": "58bd5313-8101-4769-8927-9f85c4822d89",
   "metadata": {},
   "outputs": [
    {
     "data": {
      "text/plain": [
       "dict_values(['shyam', 'sk@gmail.com', 1234])"
      ]
     },
     "execution_count": 17,
     "metadata": {},
     "output_type": "execute_result"
    }
   ],
   "source": [
    "d.values()"
   ]
  },
  {
   "cell_type": "code",
   "execution_count": 18,
   "id": "b682281a-4194-4df6-b972-584745f681d7",
   "metadata": {},
   "outputs": [
    {
     "data": {
      "text/plain": [
       "{'course': 'ds'}"
      ]
     },
     "execution_count": 18,
     "metadata": {},
     "output_type": "execute_result"
    }
   ],
   "source": [
    "d1 = {\"course\": \"ds\"}\n",
    "d1"
   ]
  },
  {
   "cell_type": "code",
   "execution_count": 19,
   "id": "f05601aa-8cc1-45e8-b57d-efeddba634ef",
   "metadata": {},
   "outputs": [
    {
     "data": {
      "text/plain": [
       "{'name': 'shyam', 'email': 'sk@gmail.com', 'contact': 1234, 'course': 'ds'}"
      ]
     },
     "execution_count": 19,
     "metadata": {},
     "output_type": "execute_result"
    }
   ],
   "source": [
    "d.update(d1)\n",
    "d"
   ]
  },
  {
   "cell_type": "code",
   "execution_count": 3,
   "id": "f68cfdf6-536f-46d8-b198-3ed61e1269c7",
   "metadata": {},
   "outputs": [
    {
     "ename": "NameError",
     "evalue": "name 'd1' is not defined",
     "output_type": "error",
     "traceback": [
      "\u001b[0;31m---------------------------------------------------------------------------\u001b[0m",
      "\u001b[0;31mNameError\u001b[0m                                 Traceback (most recent call last)",
      "Cell \u001b[0;32mIn[3], line 1\u001b[0m\n\u001b[0;32m----> 1\u001b[0m \u001b[43md1\u001b[49m\u001b[38;5;241m.\u001b[39mfromkeys((\u001b[38;5;241m1\u001b[39m, \u001b[38;5;241m2\u001b[39m, \u001b[38;5;241m3\u001b[39m), (\u001b[38;5;124m\"\u001b[39m\u001b[38;5;124ma\u001b[39m\u001b[38;5;124m\"\u001b[39m, \u001b[38;5;124m\"\u001b[39m\u001b[38;5;124mb\u001b[39m\u001b[38;5;124m\"\u001b[39m, \u001b[38;5;124m\"\u001b[39m\u001b[38;5;124mc\u001b[39m\u001b[38;5;124m\"\u001b[39m))\n",
      "\u001b[0;31mNameError\u001b[0m: name 'd1' is not defined"
     ]
    }
   ],
   "source": [
    "d1.fromkeys((1, 2, 3), (\"a\", \"b\", \"c\"))"
   ]
  },
  {
   "cell_type": "code",
   "execution_count": 5,
   "id": "b2ad821f-94de-47ad-9d6b-df25dc7f9b64",
   "metadata": {},
   "outputs": [
    {
     "name": "stdout",
     "output_type": "stream",
     "text": [
      "('Arjun', 80)\n",
      "('Ajay', 95)\n",
      "('Bijay', 100)\n"
     ]
    }
   ],
   "source": [
    "#zip function\n",
    "\n",
    "Students = [\"Arjun\", \"Ajay\", \"Bijay\"]\n",
    "marks = [80, 95, 100]\n",
    "for i in zip(Students, marks):\n",
    "    print(i)"
   ]
  },
  {
   "cell_type": "code",
   "execution_count": 8,
   "id": "8285387d-7773-4737-8a6e-1f64f81f79ee",
   "metadata": {},
   "outputs": [],
   "source": [
    "#store above in key value pair\n",
    "\n",
    "\n",
    "Students = [\"Arjun\", \"Ajay\", \"Bijay\"]\n",
    "marks = [80, 95, 100]\n",
    "std_mar ={}\n",
    "for Student, mark in zip(Students, marks):\n",
    "    std_mar[Student] = mark"
   ]
  },
  {
   "cell_type": "code",
   "execution_count": 9,
   "id": "d9f4c62f-e699-4931-a60d-ab098e1aaa25",
   "metadata": {},
   "outputs": [
    {
     "data": {
      "text/plain": [
       "{'Arjun': 80, 'Ajay': 95, 'Bijay': 100}"
      ]
     },
     "execution_count": 9,
     "metadata": {},
     "output_type": "execute_result"
    }
   ],
   "source": [
    "std_mar"
   ]
  },
  {
   "cell_type": "code",
   "execution_count": 10,
   "id": "e593b9b0-9457-4cf8-90a2-e5cbfaf6af3d",
   "metadata": {},
   "outputs": [
    {
     "data": {
      "text/plain": [
       "{'Arjun': 80, 'Ajay': 95, 'Bijay': 100}"
      ]
     },
     "execution_count": 10,
     "metadata": {},
     "output_type": "execute_result"
    }
   ],
   "source": [
    "#using dictionary comprehension\n",
    "\n",
    "Students = [\"Arjun\", \"Ajay\", \"Bijay\"]\n",
    "marks = [80, 95, 100]\n",
    "{Student: mark for Student, mark in zip(Students, marks)}"
   ]
  },
  {
   "cell_type": "code",
   "execution_count": 12,
   "id": "f2305602-834c-4712-8f9e-079ec1397a5a",
   "metadata": {},
   "outputs": [
    {
     "data": {
      "text/plain": [
       "{1: 'a1', 2: 'a2', 3: 'a3'}"
      ]
     },
     "execution_count": 12,
     "metadata": {},
     "output_type": "execute_result"
    }
   ],
   "source": [
    "#usecase\n",
    "\n",
    "usr_id = [1, 2, 3]\n",
    "user_name = [\"a1\", \"a2\", \"a3\"]\n",
    "{u_id:u_name for u_id, u_name in zip(usr_id, user_name)}\n"
   ]
  },
  {
   "cell_type": "code",
   "execution_count": null,
   "id": "e3ea59d2-be3b-472b-915c-79bcb9ed2817",
   "metadata": {},
   "outputs": [],
   "source": []
  }
 ],
 "metadata": {
  "kernelspec": {
   "display_name": "Python 3 (ipykernel)",
   "language": "python",
   "name": "python3"
  },
  "language_info": {
   "codemirror_mode": {
    "name": "ipython",
    "version": 3
   },
   "file_extension": ".py",
   "mimetype": "text/x-python",
   "name": "python",
   "nbconvert_exporter": "python",
   "pygments_lexer": "ipython3",
   "version": "3.10.8"
  }
 },
 "nbformat": 4,
 "nbformat_minor": 5
}
