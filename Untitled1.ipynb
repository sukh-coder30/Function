{
 "cells": [
  {
   "cell_type": "code",
   "execution_count": 1,
   "id": "72e91e4a-bb89-4203-99f7-3ee6c6adeca5",
   "metadata": {},
   "outputs": [
    {
     "data": {
      "text/plain": [
       "6"
      ]
     },
     "execution_count": 1,
     "metadata": {},
     "output_type": "execute_result"
    }
   ],
   "source": [
    "a = 6\n",
    "a # at the backend in the memory a memory block creat with rference name a."
   ]
  },
  {
   "cell_type": "code",
   "execution_count": 2,
   "id": "721954bc-01cb-4c52-9bc3-5735bcdec7a7",
   "metadata": {},
   "outputs": [
    {
     "data": {
      "text/plain": [
       "'Ajay'"
      ]
     },
     "execution_count": 2,
     "metadata": {},
     "output_type": "execute_result"
    }
   ],
   "source": [
    "b = \"Ajay\"\n",
    "b"
   ]
  },
  {
   "cell_type": "code",
   "execution_count": 3,
   "id": "9f8628e2-03bd-4460-b87b-5681dda524ce",
   "metadata": {},
   "outputs": [
    {
     "data": {
      "text/plain": [
       "'A'"
      ]
     },
     "execution_count": 3,
     "metadata": {},
     "output_type": "execute_result"
    }
   ],
   "source": [
    "b[0]"
   ]
  },
  {
   "cell_type": "code",
   "execution_count": 4,
   "id": "b50a5ca8-d7b5-4b03-b947-5eeda05bf61f",
   "metadata": {},
   "outputs": [
    {
     "data": {
      "text/plain": [
       "'a'"
      ]
     },
     "execution_count": 4,
     "metadata": {},
     "output_type": "execute_result"
    }
   ],
   "source": [
    "b[-2]"
   ]
  },
  {
   "cell_type": "code",
   "execution_count": 6,
   "id": "2ee2702d-2a03-4181-96e0-59c436c06a2f",
   "metadata": {},
   "outputs": [
    {
     "data": {
      "text/plain": [
       "[1, 2, 3, 4, 3.5j, True, 'Ajay']"
      ]
     },
     "execution_count": 6,
     "metadata": {},
     "output_type": "execute_result"
    }
   ],
   "source": [
    "#another type of data container\n",
    "list_cont = [1, 2, 3, 4, 3.5j, True, \"Ajay\"]\n",
    "list_cont"
   ]
  },
  {
   "cell_type": "code",
   "execution_count": 7,
   "id": "0113ccea-5ae6-4288-82bb-2777a42656b6",
   "metadata": {},
   "outputs": [
    {
     "data": {
      "text/plain": [
       "1"
      ]
     },
     "execution_count": 7,
     "metadata": {},
     "output_type": "execute_result"
    }
   ],
   "source": [
    "list_cont[0]"
   ]
  },
  {
   "cell_type": "code",
   "execution_count": 8,
   "id": "f22329e8-2eb9-4ad9-aa1a-0da249e49a19",
   "metadata": {},
   "outputs": [
    {
     "data": {
      "text/plain": [
       "3.5j"
      ]
     },
     "execution_count": 8,
     "metadata": {},
     "output_type": "execute_result"
    }
   ],
   "source": [
    "list_cont[4]"
   ]
  },
  {
   "cell_type": "code",
   "execution_count": 9,
   "id": "eab5c1e4-ee50-4b0a-8aea-f7027a55762c",
   "metadata": {},
   "outputs": [
    {
     "data": {
      "text/plain": [
       "[1, 2, 3, 4, 3.5j, True, 'vijay']"
      ]
     },
     "execution_count": 9,
     "metadata": {},
     "output_type": "execute_result"
    }
   ],
   "source": [
    "list_cont[6] = \"vijay\"\n",
    "list_cont"
   ]
  },
  {
   "cell_type": "code",
   "execution_count": null,
   "id": "2681a96e-16d1-4455-af9c-62aa293dfde6",
   "metadata": {},
   "outputs": [],
   "source": []
  }
 ],
 "metadata": {
  "kernelspec": {
   "display_name": "Python 3 (ipykernel)",
   "language": "python",
   "name": "python3"
  },
  "language_info": {
   "codemirror_mode": {
    "name": "ipython",
    "version": 3
   },
   "file_extension": ".py",
   "mimetype": "text/x-python",
   "name": "python",
   "nbconvert_exporter": "python",
   "pygments_lexer": "ipython3",
   "version": "3.10.8"
  }
 },
 "nbformat": 4,
 "nbformat_minor": 5
}
