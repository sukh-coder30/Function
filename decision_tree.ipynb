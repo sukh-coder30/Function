{
  "nbformat": 4,
  "nbformat_minor": 0,
  "metadata": {
    "colab": {
      "provenance": [],
      "authorship_tag": "ABX9TyMUiEt8kCWNoiGRLraHFZoN",
      "include_colab_link": true
    },
    "kernelspec": {
      "name": "python3",
      "display_name": "Python 3"
    },
    "language_info": {
      "name": "python"
    }
  },
  "cells": [
    {
      "cell_type": "markdown",
      "metadata": {
        "id": "view-in-github",
        "colab_type": "text"
      },
      "source": [
        "<a href=\"https://colab.research.google.com/github/sukh-coder30/Function/blob/main/decision_tree.ipynb\" target=\"_parent\"><img src=\"https://colab.research.google.com/assets/colab-badge.svg\" alt=\"Open In Colab\"/></a>"
      ]
    },
    {
      "cell_type": "markdown",
      "source": [
        "16.Write a Python program to train a Decision Tree Classifier on the Iris dataset and print the model accuracy\n"
      ],
      "metadata": {
        "id": "3zU1ntEGqId0"
      }
    },
    {
      "cell_type": "code",
      "source": [
        "import numpy as np\n",
        "import pandas as pd\n",
        "from sklearn.datasets import load_iris\n",
        "from sklearn.model_selection import train_test_split\n",
        "from sklearn.tree import DecisionTreeClassifier\n",
        "from sklearn.metrics import accuracy_score\n",
        "\n",
        "# Load the Iris dataset\n",
        "data = load_iris()\n",
        "X = data.data\n",
        "y = data.target\n",
        "\n",
        "# Split dataset into training and testing sets\n",
        "X_train, X_test, y_train, y_test = train_test_split(X, y, test_size=0.2, random_state=42)\n",
        "\n",
        "# Train a Decision Tree Classifier\n",
        "dt = DecisionTreeClassifier(random_state=42)\n",
        "dt.fit(X_train, y_train)\n",
        "\n",
        "# Make predictions\n",
        "y_pred = dt.predict(X_test)\n",
        "\n",
        "# Evaluate model accuracy\n",
        "accuracy = accuracy_score(y_test, y_pred)\n",
        "print(f\"Model Accuracy: {accuracy:.4f}\")\n"
      ],
      "metadata": {
        "colab": {
          "base_uri": "https://localhost:8080/"
        },
        "id": "ArEdYFh6qQ9f",
        "outputId": "72a23301-6c11-4c7c-c145-2550969cc452"
      },
      "execution_count": null,
      "outputs": [
        {
          "output_type": "stream",
          "name": "stdout",
          "text": [
            "Model Accuracy: 1.0000\n"
          ]
        }
      ]
    },
    {
      "cell_type": "markdown",
      "source": [
        "17. Write a Python program to train a Decision Tree Classifier using Gini Impurity as the criterion and print the\n",
        "feature importances?"
      ],
      "metadata": {
        "id": "3P_xQBmyqZwA"
      }
    },
    {
      "cell_type": "code",
      "source": [
        "import numpy as np\n",
        "import pandas as pd\n",
        "from sklearn.datasets import load_iris\n",
        "from sklearn.model_selection import train_test_split\n",
        "from sklearn.tree import DecisionTreeClassifier\n",
        "from sklearn.metrics import accuracy_score\n",
        "\n",
        "# Load the Iris dataset\n",
        "data = load_iris()\n",
        "X = data.data\n",
        "y = data.target\n",
        "\n",
        "# Split dataset into training and testing sets\n",
        "X_train, X_test, y_train, y_test = train_test_split(X, y, test_size=0.2, random_state=42)\n",
        "\n",
        "# Train a Decision Tree Classifier using Gini Impurity\n",
        "dt = DecisionTreeClassifier(criterion='gini', random_state=42)\n",
        "dt.fit(X_train, y_train)\n",
        "\n",
        "# Make predictions\n",
        "y_pred = dt.predict(X_test)\n",
        "\n",
        "# Evaluate model accuracy\n",
        "accuracy = accuracy_score(y_test, y_pred)\n",
        "print(f\"Model Accuracy: {accuracy:.4f}\")\n",
        "\n",
        "# Print feature importances\n",
        "feature_importances = dt.feature_importances_\n",
        "for feature, importance in zip(data.feature_names, feature_importances):\n",
        "    print(f\"{feature}: {importance:.4f}\")\n"
      ],
      "metadata": {
        "colab": {
          "base_uri": "https://localhost:8080/"
        },
        "id": "I2VwVfnbqkmf",
        "outputId": "af2ca870-fccd-45cc-89ab-46e994102bfb"
      },
      "execution_count": null,
      "outputs": [
        {
          "output_type": "stream",
          "name": "stdout",
          "text": [
            "Model Accuracy: 1.0000\n",
            "sepal length (cm): 0.0000\n",
            "sepal width (cm): 0.0167\n",
            "petal length (cm): 0.9061\n",
            "petal width (cm): 0.0772\n"
          ]
        }
      ]
    },
    {
      "cell_type": "markdown",
      "source": [
        "18. Write a Python program to train a Decision Tree Classifier using Entropy as the splitting criterion and print the\n",
        "model accuracy"
      ],
      "metadata": {
        "id": "YtOZt2Z5qn_b"
      }
    },
    {
      "cell_type": "code",
      "source": [
        "import numpy as np\n",
        "import pandas as pd\n",
        "from sklearn.datasets import load_iris\n",
        "from sklearn.model_selection import train_test_split\n",
        "from sklearn.tree import DecisionTreeClassifier\n",
        "from sklearn.metrics import accuracy_score\n",
        "\n",
        "# Load the Iris dataset\n",
        "data = load_iris()\n",
        "X = data.data\n",
        "y = data.target\n",
        "\n",
        "# Split dataset into training and testing sets\n",
        "X_train, X_test, y_train, y_test = train_test_split(X, y, test_size=0.2, random_state=42)\n",
        "\n",
        "# Train a Decision Tree Classifier using Entropy as the splitting criterion\n",
        "dt = DecisionTreeClassifier(criterion='entropy', random_state=42)\n",
        "dt.fit(X_train, y_train)\n",
        "\n",
        "# Make predictions\n",
        "y_pred = dt.predict(X_test)\n",
        "\n",
        "# Evaluate model accuracy\n",
        "accuracy = accuracy_score(y_test, y_pred)\n",
        "print(f\"Model Accuracy: {accuracy:.4f}\")\n",
        "\n",
        "# Print feature importances\n",
        "feature_importances = dt.feature_importances_\n",
        "for feature, importance in zip(data.feature_names, feature_importances):\n",
        "    print(f\"{feature}: {importance:.4f}\")\n"
      ],
      "metadata": {
        "colab": {
          "base_uri": "https://localhost:8080/"
        },
        "id": "kG_ILpJUqspt",
        "outputId": "cdfac6fa-9bd4-4bd0-db8b-25f46bf03f4a"
      },
      "execution_count": null,
      "outputs": [
        {
          "output_type": "stream",
          "name": "stdout",
          "text": [
            "Model Accuracy: 1.0000\n",
            "sepal length (cm): 0.0000\n",
            "sepal width (cm): 0.0145\n",
            "petal length (cm): 0.8954\n",
            "petal width (cm): 0.0901\n"
          ]
        }
      ]
    },
    {
      "cell_type": "markdown",
      "source": [
        "19. Write a Python program to train a Decision Tree Regressor on a housing dataset and evaluate using Mean\n",
        "Squared Error (MSE)"
      ],
      "metadata": {
        "id": "cassykD2qy-z"
      }
    },
    {
      "cell_type": "code",
      "source": [
        "import numpy as np\n",
        "import pandas as pd\n",
        "from sklearn.datasets import fetch_california_housing\n",
        "from sklearn.model_selection import train_test_split\n",
        "from sklearn.tree import DecisionTreeRegressor\n",
        "from sklearn.metrics import mean_squared_error\n",
        "\n",
        "# Load the California housing dataset\n",
        "data = fetch_california_housing()\n",
        "X = data.data\n",
        "y = data.target\n",
        "\n",
        "# Split dataset into training and testing sets\n",
        "X_train, X_test, y_train, y_test = train_test_split(X, y, test_size=0.2, random_state=42)\n",
        "\n",
        "# Train a Decision Tree Regressor\n",
        "dt_regressor = DecisionTreeRegressor(random_state=42)\n",
        "dt_regressor.fit(X_train, y_train)\n",
        "\n",
        "# Make predictions\n",
        "y_pred = dt_regressor.predict(X_test)\n",
        "\n",
        "# Evaluate model using Mean Squared Error (MSE)\n",
        "mse = mean_squared_error(y_test, y_pred)\n",
        "print(f\"Mean Squared Error (MSE): {mse:.4f}\")\n",
        "\n",
        "# Print feature importances\n",
        "feature_importances = dt_regressor.feature_importances_\n",
        "for feature, importance in zip(data.feature_names, feature_importances):\n",
        "    print(f\"{feature}: {importance:.4f}\")\n"
      ],
      "metadata": {
        "colab": {
          "base_uri": "https://localhost:8080/"
        },
        "id": "5qq25XNpq5Hb",
        "outputId": "5608fba2-db22-4169-e9d1-9adce56803cb"
      },
      "execution_count": null,
      "outputs": [
        {
          "output_type": "stream",
          "name": "stdout",
          "text": [
            "Mean Squared Error (MSE): 0.4952\n",
            "MedInc: 0.5285\n",
            "HouseAge: 0.0519\n",
            "AveRooms: 0.0530\n",
            "AveBedrms: 0.0287\n",
            "Population: 0.0305\n",
            "AveOccup: 0.1308\n",
            "Latitude: 0.0937\n",
            "Longitude: 0.0829\n"
          ]
        }
      ]
    },
    {
      "cell_type": "markdown",
      "source": [
        "20.  Write a Python program to train a Decision Tree Classifier and visualize the tree using graphviz\n"
      ],
      "metadata": {
        "id": "zhg6-x3frBRM"
      }
    },
    {
      "cell_type": "code",
      "source": [
        "import numpy as np\n",
        "import pandas as pd\n",
        "import graphviz\n",
        "from sklearn.datasets import load_iris\n",
        "from sklearn.model_selection import train_test_split\n",
        "from sklearn.tree import DecisionTreeClassifier, export_graphviz\n",
        "from sklearn.metrics import accuracy_score\n",
        "\n",
        "# Load the Iris dataset\n",
        "data = load_iris()\n",
        "X = data.data\n",
        "y = data.target\n",
        "\n",
        "# Split dataset into training and testing sets\n",
        "X_train, X_test, y_train, y_test = train_test_split(X, y, test_size=0.2, random_state=42)\n",
        "\n",
        "# Train a Decision Tree Classifier\n",
        "dt_classifier = DecisionTreeClassifier(random_state=42)\n",
        "dt_classifier.fit(X_train, y_train)\n",
        "\n",
        "# Make predictions\n",
        "y_pred = dt_classifier.predict(X_test)\n",
        "\n",
        "# Evaluate model accuracy\n",
        "accuracy = accuracy_score(y_test, y_pred)\n",
        "print(f\"Model Accuracy: {accuracy:.4f}\")\n",
        "\n",
        "# Visualize the Decision Tree using graphviz\n",
        "dot_data = export_graphviz(dt_classifier, out_file=None, feature_names=data.feature_names,\n",
        "                           class_names=data.target_names, filled=True, rounded=True, special_characters=True)\n",
        "graph = graphviz.Source(dot_data)\n",
        "graph.render(\"decision_tree\")  # Saves the tree visualization as 'decision_tree.pdf'"
      ],
      "metadata": {
        "colab": {
          "base_uri": "https://localhost:8080/",
          "height": 53
        },
        "id": "l7pJ5NZArIOk",
        "outputId": "81ed3723-5983-4fda-cdf2-197cd0b4bdf7"
      },
      "execution_count": null,
      "outputs": [
        {
          "output_type": "stream",
          "name": "stdout",
          "text": [
            "Model Accuracy: 1.0000\n"
          ]
        },
        {
          "output_type": "execute_result",
          "data": {
            "text/plain": [
              "'decision_tree.pdf'"
            ],
            "application/vnd.google.colaboratory.intrinsic+json": {
              "type": "string"
            }
          },
          "metadata": {},
          "execution_count": 5
        }
      ]
    },
    {
      "cell_type": "markdown",
      "source": [
        "21. Write a Python program to train a Decision Tree Classifier with a maximum depth of 3 and compare its\n",
        "accuracy with a fully grown tree"
      ],
      "metadata": {
        "id": "ovbkQ-Z8rPcr"
      }
    },
    {
      "cell_type": "code",
      "source": [
        "import numpy as np\n",
        "import pandas as pd\n",
        "import graphviz\n",
        "from sklearn.datasets import load_iris\n",
        "from sklearn.model_selection import train_test_split\n",
        "from sklearn.tree import DecisionTreeClassifier, export_graphviz\n",
        "from sklearn.metrics import accuracy_score\n",
        "\n",
        "# Load the Iris dataset\n",
        "data = load_iris()\n",
        "X = data.data\n",
        "y = data.target\n",
        "\n",
        "# Split dataset into training and testing sets\n",
        "X_train, X_test, y_train, y_test = train_test_split(X, y, test_size=0.2, random_state=42)\n",
        "\n",
        "# Train a fully grown Decision Tree Classifier\n",
        "dt_full = DecisionTreeClassifier(random_state=42)\n",
        "dt_full.fit(X_train, y_train)\n",
        "\n",
        "# Train a Decision Tree Classifier with max depth of 3\n",
        "dt_limited = DecisionTreeClassifier(max_depth=3, random_state=42)\n",
        "dt_limited.fit(X_train, y_train)\n",
        "\n",
        "# Make predictions\n",
        "y_pred_full = dt_full.predict(X_test)\n",
        "y_pred_limited = dt_limited.predict(X_test)\n",
        "\n",
        "# Evaluate model accuracy\n",
        "accuracy_full = accuracy_score(y_test, y_pred_full)\n",
        "accuracy_limited = accuracy_score(y_test, y_pred_limited)\n",
        "\n",
        "print(f\"Fully Grown Tree Accuracy: {accuracy_full:.4f}\")\n",
        "print(f\"Max Depth = 3 Tree Accuracy: {accuracy_limited:.4f}\")\n",
        "\n",
        "# Visualize the Decision Tree using graphviz\n",
        "dot_data_limited = export_graphviz(dt_limited, out_file=None, feature_names=data.feature_names,\n",
        "                                   class_names=data.target_names, filled=True, rounded=True, special_characters=True)\n",
        "graph_limited = graphviz.Source(dot_data_limited)\n",
        "graph_limited.render(\"decision_tree_limited\")  # Saves as 'decision_tree_limited.pdf'\n",
        "\n",
        "# Visualize the fully grown Decision Tree\n",
        "dot_data_full = export_graphviz(dt_full, out_file=None, feature_names=data.feature_names,\n",
        "                                class_names=data.target_names, filled=True, rounded=True, special_characters=True)\n",
        "graph_full = graphviz.Source(dot_data_full)\n",
        "graph_full.render(\"decision_tree_full\")  # Saves as 'decision_tree_full.pdf'\n"
      ],
      "metadata": {
        "colab": {
          "base_uri": "https://localhost:8080/",
          "height": 70
        },
        "id": "D-JB9-XWrVyX",
        "outputId": "2f80d2b4-bda8-4c71-880c-4d2618c732a9"
      },
      "execution_count": null,
      "outputs": [
        {
          "output_type": "stream",
          "name": "stdout",
          "text": [
            "Fully Grown Tree Accuracy: 1.0000\n",
            "Max Depth = 3 Tree Accuracy: 1.0000\n"
          ]
        },
        {
          "output_type": "execute_result",
          "data": {
            "text/plain": [
              "'decision_tree_full.pdf'"
            ],
            "application/vnd.google.colaboratory.intrinsic+json": {
              "type": "string"
            }
          },
          "metadata": {},
          "execution_count": 6
        }
      ]
    },
    {
      "cell_type": "markdown",
      "source": [
        "22. Write a Python program to train a Decision Tree Classifier using min_samples_split=5 and compare its\n",
        "accuracy with a default tree?"
      ],
      "metadata": {
        "id": "mOhW5W5bri1T"
      }
    },
    {
      "cell_type": "code",
      "source": [
        "import numpy as np\n",
        "import pandas as pd\n",
        "import graphviz\n",
        "from sklearn.datasets import load_iris\n",
        "from sklearn.model_selection import train_test_split\n",
        "from sklearn.tree import DecisionTreeClassifier, export_graphviz\n",
        "from sklearn.metrics import accuracy_score\n",
        "\n",
        "# Load the Iris dataset\n",
        "data = load_iris()\n",
        "X = data.data\n",
        "y = data.target\n",
        "\n",
        "# Split dataset into training and testing sets\n",
        "X_train, X_test, y_train, y_test = train_test_split(X, y, test_size=0.2, random_state=42)\n",
        "\n",
        "# Train a fully grown Decision Tree Classifier\n",
        "dt_full = DecisionTreeClassifier(random_state=42)\n",
        "dt_full.fit(X_train, y_train)\n",
        "\n",
        "# Train a Decision Tree Classifier with min_samples_split=5\n",
        "dt_min_samples = DecisionTreeClassifier(min_samples_split=5, random_state=42)\n",
        "dt_min_samples.fit(X_train, y_train)\n",
        "\n",
        "# Make predictions\n",
        "y_pred_full = dt_full.predict(X_test)\n",
        "y_pred_min_samples = dt_min_samples.predict(X_test)\n",
        "\n",
        "# Evaluate model accuracy\n",
        "accuracy_full = accuracy_score(y_test, y_pred_full)\n",
        "accuracy_min_samples = accuracy_score(y_test, y_pred_min_samples)\n",
        "\n",
        "print(f\"Fully Grown Tree Accuracy: {accuracy_full:.4f}\")\n",
        "print(f\"Min Samples Split = 5 Tree Accuracy: {accuracy_min_samples:.4f}\")\n",
        "\n",
        "# Visualize the Decision Tree using graphviz\n",
        "dot_data_min_samples = export_graphviz(dt_min_samples, out_file=None, feature_names=data.feature_names,\n",
        "                                       class_names=data.target_names, filled=True, rounded=True, special_characters=True)\n",
        "graph_min_samples = graphviz.Source(dot_data_min_samples)\n",
        "graph_min_samples.render(\"decision_tree_min_samples\")  # Saves as 'decision_tree_min_samples.pdf'\n",
        "\n",
        "# Visualize the fully grown Decision Tree\n",
        "dot_data_full = export_graphviz(dt_full, out_file=None, feature_names=data.feature_names,\n",
        "                                class_names=data.target_names, filled=True, rounded=True, special_characters=True)\n",
        "graph_full = graphviz.Source(dot_data_full)\n",
        "graph_full.render(\"decision_tree_full\")  # Saves as 'decision_tree_full.pdf'"
      ],
      "metadata": {
        "colab": {
          "base_uri": "https://localhost:8080/",
          "height": 70
        },
        "id": "SyRiUWI4rnjn",
        "outputId": "0c95383c-444e-4616-d918-4d87b072fb5c"
      },
      "execution_count": null,
      "outputs": [
        {
          "output_type": "stream",
          "name": "stdout",
          "text": [
            "Fully Grown Tree Accuracy: 1.0000\n",
            "Min Samples Split = 5 Tree Accuracy: 1.0000\n"
          ]
        },
        {
          "output_type": "execute_result",
          "data": {
            "text/plain": [
              "'decision_tree_full.pdf'"
            ],
            "application/vnd.google.colaboratory.intrinsic+json": {
              "type": "string"
            }
          },
          "metadata": {},
          "execution_count": 7
        }
      ]
    },
    {
      "cell_type": "markdown",
      "source": [
        "23. Write a Python program to apply feature scaling before training a Decision Tree Classifier and compare its\n",
        "accuracy with unscaled data?"
      ],
      "metadata": {
        "id": "0uNjWL6erwzP"
      }
    },
    {
      "cell_type": "code",
      "source": [
        "import numpy as np\n",
        "import pandas as pd\n",
        "import graphviz\n",
        "from sklearn.datasets import load_iris\n",
        "from sklearn.model_selection import train_test_split\n",
        "from sklearn.tree import DecisionTreeClassifier, export_graphviz\n",
        "from sklearn.metrics import accuracy_score\n",
        "from sklearn.preprocessing import StandardScaler\n",
        "\n",
        "# Load the Iris dataset\n",
        "data = load_iris()\n",
        "X = data.data\n",
        "y = data.target\n",
        "\n",
        "# Split dataset into training and testing sets\n",
        "X_train, X_test, y_train, y_test = train_test_split(X, y, test_size=0.2, random_state=42)\n",
        "\n",
        "# Train a fully grown Decision Tree Classifier without feature scaling\n",
        "dt_full = DecisionTreeClassifier(random_state=42)\n",
        "dt_full.fit(X_train, y_train)\n",
        "y_pred_full = dt_full.predict(X_test)\n",
        "accuracy_full = accuracy_score(y_test, y_pred_full)\n",
        "\n",
        "# Apply feature scaling\n",
        "scaler = StandardScaler()\n",
        "X_train_scaled = scaler.fit_transform(X_train)\n",
        "X_test_scaled = scaler.transform(X_test)\n",
        "\n",
        "# Train a Decision Tree Classifier with scaled data\n",
        "dt_scaled = DecisionTreeClassifier(random_state=42)\n",
        "dt_scaled.fit(X_train_scaled, y_train)\n",
        "y_pred_scaled = dt_scaled.predict(X_test_scaled)\n",
        "accuracy_scaled = accuracy_score(y_test, y_pred_scaled)\n",
        "\n",
        "# Print accuracy comparison\n",
        "print(f\"Fully Grown Tree Accuracy (Unscaled Data): {accuracy_full:.4f}\")\n",
        "print(f\"Decision Tree Accuracy (Scaled Data): {accuracy_scaled:.4f}\")\n",
        "\n",
        "# Visualize the Decision Tree using graphviz\n",
        "dot_data_scaled = export_graphviz(dt_scaled, out_file=None, feature_names=data.feature_names,\n",
        "                                  class_names=data.target_names, filled=True, rounded=True, special_characters=True)\n",
        "graph_scaled = graphviz.Source(dot_data_scaled)\n",
        "graph_scaled.render(\"decision_tree_scaled\")  # Saves as 'decision_tree_scaled.pdf'\n",
        "\n",
        "# Visualize the fully grown Decision Tree\n",
        "dot_data_full = export_graphviz(dt_full, out_file=None, feature_names=data.feature_names,\n",
        "                                class_names=data.target_names, filled=True, rounded=True, special_characters=True)\n",
        "graph_full = graphviz.Source(dot_data_full)\n",
        "graph_full.render(\"decision_tree_full\")  # Saves as 'decision_tree_full.pdf'"
      ],
      "metadata": {
        "colab": {
          "base_uri": "https://localhost:8080/",
          "height": 70
        },
        "id": "16Wndcllr4cK",
        "outputId": "99869e4a-c27e-4b59-e8fb-6d1c0a0bf848"
      },
      "execution_count": null,
      "outputs": [
        {
          "output_type": "stream",
          "name": "stdout",
          "text": [
            "Fully Grown Tree Accuracy (Unscaled Data): 1.0000\n",
            "Decision Tree Accuracy (Scaled Data): 1.0000\n"
          ]
        },
        {
          "output_type": "execute_result",
          "data": {
            "text/plain": [
              "'decision_tree_full.pdf'"
            ],
            "application/vnd.google.colaboratory.intrinsic+json": {
              "type": "string"
            }
          },
          "metadata": {},
          "execution_count": 8
        }
      ]
    },
    {
      "cell_type": "markdown",
      "source": [
        "24.Write a Python program to train a Decision Tree Classifier using One-vs-Rest (OvR) strategy for multiclass\n",
        "classification"
      ],
      "metadata": {
        "id": "WqvGrxkWr9BG"
      }
    },
    {
      "cell_type": "code",
      "source": [
        "import numpy as np\n",
        "import pandas as pd\n",
        "import graphviz\n",
        "from sklearn.datasets import load_iris\n",
        "from sklearn.model_selection import train_test_split\n",
        "from sklearn.tree import DecisionTreeClassifier, export_graphviz\n",
        "from sklearn.metrics import accuracy_score\n",
        "from sklearn.preprocessing import StandardScaler\n",
        "from sklearn.multiclass import OneVsRestClassifier\n",
        "\n",
        "# Load the Iris dataset\n",
        "data = load_iris()\n",
        "X = data.data\n",
        "y = data.target\n",
        "\n",
        "# Split dataset into training and testing sets\n",
        "X_train, X_test, y_train, y_test = train_test_split(X, y, test_size=0.2, random_state=42)\n",
        "\n",
        "# Train a fully grown Decision Tree Classifier without feature scaling\n",
        "dt_full = DecisionTreeClassifier(random_state=42)\n",
        "dt_full.fit(X_train, y_train)\n",
        "y_pred_full = dt_full.predict(X_test)\n",
        "accuracy_full = accuracy_score(y_test, y_pred_full)\n",
        "\n",
        "# Apply feature scaling\n",
        "scaler = StandardScaler()\n",
        "X_train_scaled = scaler.fit_transform(X_train)\n",
        "X_test_scaled = scaler.transform(X_test)\n",
        "\n",
        "# Train a Decision Tree Classifier with scaled data\n",
        "dt_scaled = DecisionTreeClassifier(random_state=42)\n",
        "dt_scaled.fit(X_train_scaled, y_train)\n",
        "y_pred_scaled = dt_scaled.predict(X_test_scaled)\n",
        "accuracy_scaled = accuracy_score(y_test, y_pred_scaled)\n",
        "\n",
        "# Train a Decision Tree Classifier using One-vs-Rest (OvR) strategy\n",
        "ovr_classifier = OneVsRestClassifier(DecisionTreeClassifier(random_state=42))\n",
        "ovr_classifier.fit(X_train, y_train)\n",
        "y_pred_ovr = ovr_classifier.predict(X_test)\n",
        "accuracy_ovr = accuracy_score(y_test, y_pred_ovr)\n",
        "\n",
        "# Print accuracy comparison\n",
        "print(f\"Fully Grown Tree Accuracy (Unscaled Data): {accuracy_full:.4f}\")\n",
        "print(f\"Decision Tree Accuracy (Scaled Data): {accuracy_scaled:.4f}\")\n",
        "print(f\"One-vs-Rest Decision Tree Accuracy: {accuracy_ovr:.4f}\")\n",
        "\n",
        "# Visualize the Decision Tree using graphviz\n",
        "dot_data_scaled = export_graphviz(dt_scaled, out_file=None, feature_names=data.feature_names,\n",
        "                                  class_names=data.target_names, filled=True, rounded=True, special_characters=True)\n",
        "graph_scaled = graphviz.Source(dot_data_scaled)\n",
        "graph_scaled.render(\"decision_tree_scaled\")  # Saves as 'decision_tree_scaled.pdf'\n",
        "\n",
        "# Visualize the fully grown Decision Tree\n",
        "dot_data_full = export_graphviz(dt_full, out_file=None, feature_names=data.feature_names,\n",
        "                                class_names=data.target_names, filled=True, rounded=True, special_characters=True)\n",
        "graph_full = graphviz.Source(dot_data_full)\n",
        "graph_full.render(\"decision_tree_full\")  # Saves as 'decision_tree_full.pdf'"
      ],
      "metadata": {
        "colab": {
          "base_uri": "https://localhost:8080/",
          "height": 87
        },
        "id": "lAt30YO7sKgA",
        "outputId": "e22d7001-8017-48d9-9c6e-dcc705022498"
      },
      "execution_count": null,
      "outputs": [
        {
          "output_type": "stream",
          "name": "stdout",
          "text": [
            "Fully Grown Tree Accuracy (Unscaled Data): 1.0000\n",
            "Decision Tree Accuracy (Scaled Data): 1.0000\n",
            "One-vs-Rest Decision Tree Accuracy: 1.0000\n"
          ]
        },
        {
          "output_type": "execute_result",
          "data": {
            "text/plain": [
              "'decision_tree_full.pdf'"
            ],
            "application/vnd.google.colaboratory.intrinsic+json": {
              "type": "string"
            }
          },
          "metadata": {},
          "execution_count": 9
        }
      ]
    },
    {
      "cell_type": "markdown",
      "source": [
        "25. Write a Python program to train a Decision Tree Classifier and display the feature importance scores?\n"
      ],
      "metadata": {
        "id": "64Ozjn4ZsVIT"
      }
    },
    {
      "cell_type": "code",
      "source": [
        "import numpy as np\n",
        "import pandas as pd\n",
        "import graphviz\n",
        "from sklearn.datasets import load_iris\n",
        "from sklearn.model_selection import train_test_split\n",
        "from sklearn.tree import DecisionTreeClassifier, export_graphviz\n",
        "from sklearn.metrics import accuracy_score\n",
        "from sklearn.preprocessing import StandardScaler\n",
        "from sklearn.multiclass import OneVsRestClassifier\n",
        "\n",
        "# Load the Iris dataset\n",
        "data = load_iris()\n",
        "X = data.data\n",
        "y = data.target\n",
        "\n",
        "# Split dataset into training and testing sets\n",
        "X_train, X_test, y_train, y_test = train_test_split(X, y, test_size=0.2, random_state=42)\n",
        "\n",
        "# Train a fully grown Decision Tree Classifier without feature scaling\n",
        "dt_full = DecisionTreeClassifier(random_state=42)\n",
        "dt_full.fit(X_train, y_train)\n",
        "y_pred_full = dt_full.predict(X_test)\n",
        "accuracy_full = accuracy_score(y_test, y_pred_full)\n",
        "\n",
        "# Apply feature scaling\n",
        "scaler = StandardScaler()\n",
        "X_train_scaled = scaler.fit_transform(X_train)\n",
        "X_test_scaled = scaler.transform(X_test)\n",
        "\n",
        "# Train a Decision Tree Classifier with scaled data\n",
        "dt_scaled = DecisionTreeClassifier(random_state=42)\n",
        "dt_scaled.fit(X_train_scaled, y_train)\n",
        "y_pred_scaled = dt_scaled.predict(X_test_scaled)\n",
        "accuracy_scaled = accuracy_score(y_test, y_pred_scaled)\n",
        "\n",
        "# Train a Decision Tree Classifier using One-vs-Rest (OvR) strategy\n",
        "ovr_classifier = OneVsRestClassifier(DecisionTreeClassifier(random_state=42))\n",
        "ovr_classifier.fit(X_train, y_train)\n",
        "y_pred_ovr = ovr_classifier.predict(X_test)\n",
        "accuracy_ovr = accuracy_score(y_test, y_pred_ovr)\n",
        "\n",
        "# Print accuracy comparison\n",
        "print(f\"Fully Grown Tree Accuracy (Unscaled Data): {accuracy_full:.4f}\")\n",
        "print(f\"Decision Tree Accuracy (Scaled Data): {accuracy_scaled:.4f}\")\n",
        "print(f\"One-vs-Rest Decision Tree Accuracy: {accuracy_ovr:.4f}\")\n",
        "\n",
        "# Print feature importance scores\n",
        "print(\"Feature Importances for Fully Grown Tree:\")\n",
        "for feature, importance in zip(data.feature_names, dt_full.feature_importances_):\n",
        "    print(f\"{feature}: {importance:.4f}\")\n",
        "\n",
        "print(\"\\nFeature Importances for Scaled Data Tree:\")\n",
        "for feature, importance in zip(data.feature_names, dt_scaled.feature_importances_):\n",
        "    print(f\"{feature}: {importance:.4f}\")\n",
        "\n",
        "# Visualize the Decision Tree using graphviz\n",
        "dot_data_scaled = export_graphviz(dt_scaled, out_file=None, feature_names=data.feature_names,\n",
        "                                  class_names=data.target_names, filled=True, rounded=True, special_characters=True)\n",
        "graph_scaled = graphviz.Source(dot_data_scaled)\n",
        "graph_scaled.render(\"decision_tree_scaled\")  # Saves as 'decision_tree_scaled.pdf'\n",
        "\n",
        "# Visualize the fully grown Decision Tree\n",
        "dot_data_full = export_graphviz(dt_full, out_file=None, feature_names=data.feature_names,\n",
        "                                class_names=data.target_names, filled=True, rounded=True, special_characters=True)\n",
        "graph_full = graphviz.Source(dot_data_full)\n",
        "graph_full.render(\"decision_tree_full\")  # Saves as 'decision_tree_full.pdf'\n"
      ],
      "metadata": {
        "colab": {
          "base_uri": "https://localhost:8080/",
          "height": 278
        },
        "id": "O2goDGlYseHj",
        "outputId": "b84e0b14-db4e-4690-e6ea-c877a6ddd2ff"
      },
      "execution_count": null,
      "outputs": [
        {
          "output_type": "stream",
          "name": "stdout",
          "text": [
            "Fully Grown Tree Accuracy (Unscaled Data): 1.0000\n",
            "Decision Tree Accuracy (Scaled Data): 1.0000\n",
            "One-vs-Rest Decision Tree Accuracy: 1.0000\n",
            "Feature Importances for Fully Grown Tree:\n",
            "sepal length (cm): 0.0000\n",
            "sepal width (cm): 0.0167\n",
            "petal length (cm): 0.9061\n",
            "petal width (cm): 0.0772\n",
            "\n",
            "Feature Importances for Scaled Data Tree:\n",
            "sepal length (cm): 0.0000\n",
            "sepal width (cm): 0.0167\n",
            "petal length (cm): 0.9061\n",
            "petal width (cm): 0.0772\n"
          ]
        },
        {
          "output_type": "execute_result",
          "data": {
            "text/plain": [
              "'decision_tree_full.pdf'"
            ],
            "application/vnd.google.colaboratory.intrinsic+json": {
              "type": "string"
            }
          },
          "metadata": {},
          "execution_count": 10
        }
      ]
    },
    {
      "cell_type": "markdown",
      "source": [
        "26. Write a Python program to train a Decision Tree Regressor with max_depth=5 and compare its performance\n",
        "with an unrestricted tree"
      ],
      "metadata": {
        "id": "qBW464R_stgQ"
      }
    },
    {
      "cell_type": "code",
      "source": [
        "import numpy as np\n",
        "import pandas as pd\n",
        "import graphviz\n",
        "from sklearn.datasets import fetch_california_housing\n",
        "from sklearn.model_selection import train_test_split\n",
        "from sklearn.tree import DecisionTreeRegressor, export_graphviz\n",
        "from sklearn.metrics import mean_squared_error\n",
        "\n",
        "# Load the California housing dataset\n",
        "data = fetch_california_housing()\n",
        "X = data.data\n",
        "y = data.target\n",
        "\n",
        "# Split dataset into training and testing sets\n",
        "X_train, _, y_train, _ = train_test_split(X, y, test_size=0.8, random_state=42)  # Use only 20% of training data\n",
        "\n",
        "# Train a fully grown Decision Tree Regressor\n",
        "dt_full = DecisionTreeRegressor(random_state=42)\n",
        "dt_full.fit(X_train, y_train)\n",
        "y_pred_full = dt_full.predict(X_test)\n",
        "mse_full = mean_squared_error(y_test, y_pred_full)\n",
        "\n",
        "# Train a Decision Tree Regressor with max_depth=5\n",
        "dt_limited = DecisionTreeRegressor(max_depth=5, random_state=42)\n",
        "dt_limited.fit(X_train, y_train)\n",
        "y_pred_limited = dt_limited.predict(X_test)\n",
        "mse_limited = mean_squared_error(y_test, y_pred_limited)\n",
        "\n",
        "# Print MSE comparison\n",
        "print(f\"Fully Grown Tree MSE: {mse_full:.4f}\")\n",
        "print(f\"Max Depth = 5 Tree MSE: {mse_limited:.4f}\")\n",
        "\n",
        "# Print feature importance scores\n",
        "print(\"Feature Importances for Fully Grown Tree:\")\n",
        "for feature, importance in zip(data.feature_names, dt_full.feature_importances_):\n",
        "    print(f\"{feature}: {importance:.4f}\")\n",
        "\n",
        "print(\"\\nFeature Importances for Max Depth = 5 Tree:\")\n",
        "for feature, importance in zip(data.feature_names, dt_limited.feature_importances_):\n",
        "    print(f\"{feature}: {importance:.4f}\")\n",
        "\n",
        "# Visualize the Decision Tree using graphviz\n",
        "dot_data_limited = export_graphviz(dt_limited, out_file=None, feature_names=data.feature_names,\n",
        "                                   filled=True, rounded=True, special_characters=True)\n",
        "graph_limited = graphviz.Source(dot_data_limited)\n",
        "graph_limited.render(\"decision_tree_limited\")  # Saves as 'decision_tree_limited.pdf'\n",
        "\n",
        "# Visualize the fully grown Decision Tree\n",
        "dot_data_full = export_graphviz(dt_full, out_file=None, feature_names=data.feature_names,\n",
        "                                filled=True, rounded=True, special_characters=True)\n",
        "graph_full = graphviz.Source(dot_data_full)\n",
        "graph_pruned.view()  # Saves as 'decision_tree_full.pdf'\n"
      ],
      "metadata": {
        "colab": {
          "base_uri": "https://localhost:8080/",
          "height": 400
        },
        "id": "SnKY5R8tsxMv",
        "outputId": "89bb3dd0-9e22-49fc-e476-970c1d6ae44c"
      },
      "execution_count": null,
      "outputs": [
        {
          "output_type": "stream",
          "name": "stdout",
          "text": [
            "Fully Grown Tree MSE: 3.6890\n",
            "Max Depth = 5 Tree MSE: 3.2646\n",
            "Feature Importances for Fully Grown Tree:\n",
            "MedInc: 0.5206\n",
            "HouseAge: 0.0569\n",
            "AveRooms: 0.0441\n",
            "AveBedrms: 0.0264\n",
            "Population: 0.0364\n",
            "AveOccup: 0.1324\n",
            "Latitude: 0.0900\n",
            "Longitude: 0.0933\n",
            "\n",
            "Feature Importances for Max Depth = 5 Tree:\n",
            "MedInc: 0.7422\n",
            "HouseAge: 0.0421\n",
            "AveRooms: 0.0060\n",
            "AveBedrms: 0.0019\n",
            "Population: 0.0105\n",
            "AveOccup: 0.1169\n",
            "Latitude: 0.0415\n",
            "Longitude: 0.0389\n"
          ]
        },
        {
          "output_type": "execute_result",
          "data": {
            "text/plain": [
              "'decision_tree_pruned.pdf'"
            ],
            "application/vnd.google.colaboratory.intrinsic+json": {
              "type": "string"
            }
          },
          "metadata": {},
          "execution_count": 17
        }
      ]
    },
    {
      "cell_type": "markdown",
      "source": [
        "27. Write a Python program to train a Decision Tree Classifier, apply Cost Complexity Pruning (CCP), and\n",
        "visualize its effect on accuracy"
      ],
      "metadata": {
        "id": "g-lp8Zv9tDiX"
      }
    },
    {
      "cell_type": "code",
      "source": [
        "import numpy as np\n",
        "import pandas as pd\n",
        "import graphviz\n",
        "import matplotlib.pyplot as plt\n",
        "from sklearn.datasets import fetch_california_housing\n",
        "from sklearn.model_selection import train_test_split\n",
        "from sklearn.tree import DecisionTreeClassifier, export_graphviz\n",
        "from sklearn.metrics import accuracy_score\n",
        "\n",
        "# Load the California housing dataset\n",
        "data = fetch_california_housing()\n",
        "X = data.data\n",
        "y = (data.target > data.target.mean()).astype(int)  # Convert regression target into binary classification\n",
        "\n",
        "# Split dataset into training and testing sets\n",
        "X_train, _, y_train, _ = train_test_split(X, y, test_size=0.8, random_state=42)  # Use only 20% of training data\n",
        "\n",
        "# Train a fully grown Decision Tree Classifier\n",
        "dt_full = DecisionTreeClassifier(random_state=42)\n",
        "dt_full.fit(X_train, y_train)\n",
        "y_pred_full = dt_full.predict(X_test)\n",
        "accuracy_full = accuracy_score(y_test, y_pred_full)\n",
        "\n",
        "# Get Cost Complexity Pruning Path\n",
        "path = dt_full.cost_complexity_pruning_path(X_train, y_train)\n",
        "ccp_alphas, impurities = path.ccp_alphas, path.impurities\n",
        "\n",
        "# Train multiple pruned trees with different alpha values\n",
        "train_scores = []\n",
        "test_scores = []\n",
        "for alpha in ccp_alphas:\n",
        "    dt_pruned = DecisionTreeClassifier(random_state=42, ccp_alpha=alpha)\n",
        "    dt_pruned.fit(X_train, y_train)\n",
        "    train_scores.append(dt_pruned.score(X_train, y_train))\n",
        "    test_scores.append(dt_pruned.score(X_test, y_test))\n",
        "\n",
        "# Plot Accuracy vs Alpha\n",
        "plt.figure(figsize=(8,6))\n",
        "plt.plot(ccp_alphas, train_scores, marker='o', label='Train Accuracy')\n",
        "plt.plot(ccp_alphas, test_scores, marker='o', label='Test Accuracy')\n",
        "plt.xlabel('Alpha (Pruning Strength)')\n",
        "plt.ylabel('Accuracy')\n",
        "plt.legend()\n",
        "plt.title('Effect of Cost Complexity Pruning on Accuracy')\n",
        "plt.show()\n",
        "\n",
        "# Print accuracy comparison\n",
        "print(f\"Fully Grown Tree Accuracy: {accuracy_full:.4f}\")\n",
        "print(f\"Best Pruned Tree Accuracy: {max(test_scores):.4f}\")\n",
        "\n",
        "# Visualize the best pruned Decision Tree\n",
        "dt_best_pruned = DecisionTreeClassifier(random_state=42, ccp_alpha=ccp_alphas[np.argmax(test_scores)])\n",
        "dt_best_pruned.fit(X_train, y_train)\n",
        "dot_data_pruned = export_graphviz(dt_best_pruned, out_file=None, feature_names=data.feature_names,\n",
        "                                  filled=True, rounded=True, special_characters=True)\n",
        "graph_pruned = graphviz.Source(dot_data_pruned)\n",
        "graph_pruned.render(\"decision_tree_pruned\")  # Saves as 'decision_tree_pruned.pdf'\n"
      ],
      "metadata": {
        "colab": {
          "base_uri": "https://localhost:8080/",
          "height": 617
        },
        "id": "N_9zSNbvtG5m",
        "outputId": "644034b3-c4d7-4248-9408-4a134650b453"
      },
      "execution_count": null,
      "outputs": [
        {
          "output_type": "display_data",
          "data": {
            "text/plain": [
              "<Figure size 800x600 with 1 Axes>"
            ],
            "image/png": "[encoded data removed]"
          },
          "metadata": {}
        },
        {
          "output_type": "stream",
          "name": "stdout",
          "text": [
            "Fully Grown Tree Accuracy: 0.7984\n",
            "Best Pruned Tree Accuracy: 0.8353\n"
          ]
        },
        {
          "output_type": "execute_result",
          "data": {
            "text/plain": [
              "'decision_tree_pruned.pdf'"
            ],
            "application/vnd.google.colaboratory.intrinsic+json": {
              "type": "string"
            }
          },
          "metadata": {},
          "execution_count": 14
        }
      ]
    },
    {
      "cell_type": "markdown",
      "source": [
        "28. Write a Python program to train a Decision Tree Classifier and evaluate its performance using Precision,\n",
        "Recall, and F1-Score?"
      ],
      "metadata": {
        "id": "jZgmySUAvekF"
      }
    },
    {
      "cell_type": "code",
      "source": [
        "import numpy as np\n",
        "import pandas as pd\n",
        "import graphviz\n",
        "import matplotlib.pyplot as plt\n",
        "from sklearn.datasets import fetch_california_housing\n",
        "from sklearn.model_selection import train_test_split\n",
        "from sklearn.tree import DecisionTreeClassifier, export_graphviz\n",
        "from sklearn.metrics import precision_score, recall_score, f1_score\n",
        "\n",
        "# Load the California housing dataset\n",
        "data = fetch_california_housing()\n",
        "X = data.data\n",
        "y = (data.target > data.target.mean()).astype(int)  # Convert regression target into binary classification\n",
        "\n",
        "# Split dataset into training and testing sets\n",
        "X_train, X_test, y_train, y_test = train_test_split(X, y, test_size=0.2, random_state=42)\n",
        "\n",
        "# Train a Decision Tree Classifier\n",
        "dt_classifier = DecisionTreeClassifier(random_state=42)\n",
        "dt_classifier.fit(X_train, y_train)\n",
        "\n",
        "# Make predictions\n",
        "y_pred = dt_classifier.predict(X_test)\n",
        "\n",
        "# Evaluate model performance\n",
        "precision = precision_score(y_test, y_pred)\n",
        "recall = recall_score(y_test, y_pred)\n",
        "f1 = f1_score(y_test, y_pred)\n",
        "\n",
        "# Print evaluation metrics\n",
        "print(f\"Precision: {precision:.4f}\")\n",
        "print(f\"Recall: {recall:.4f}\")\n",
        "print(f\"F1-Score: {f1:.4f}\")\n"
      ],
      "metadata": {
        "colab": {
          "base_uri": "https://localhost:8080/"
        },
        "id": "lMJKjcyUvnsd",
        "outputId": "abc4f665-06f1-4492-f29f-9f98d9033176"
      },
      "execution_count": null,
      "outputs": [
        {
          "output_type": "stream",
          "name": "stdout",
          "text": [
            "Precision: 0.7984\n",
            "Recall: 0.7912\n",
            "F1-Score: 0.7948\n"
          ]
        }
      ]
    },
    {
      "cell_type": "markdown",
      "source": [
        "29.Write a Python program to train a Decision Tree Classifier and visualize the confusion matrix using seaborn."
      ],
      "metadata": {
        "id": "XbkOe-2Vv3tw"
      }
    },
    {
      "cell_type": "code",
      "source": [
        "import numpy as np\n",
        "import pandas as pd\n",
        "import graphviz\n",
        "import matplotlib.pyplot as plt\n",
        "import seaborn as sns\n",
        "from sklearn.datasets import fetch_california_housing\n",
        "from sklearn.model_selection import train_test_split\n",
        "from sklearn.tree import DecisionTreeClassifier, export_graphviz\n",
        "from sklearn.metrics import precision_score, recall_score, f1_score, confusion_matrix\n",
        "\n",
        "# Load the California housing dataset\n",
        "data = fetch_california_housing()\n",
        "X = data.data\n",
        "y = (data.target > data.target.mean()).astype(int)  # Convert regression target into binary classification\n",
        "\n",
        "# Split dataset into training and testing sets\n",
        "X_train, X_test, y_train, y_test = train_test_split(X, y, test_size=0.2, random_state=42)\n",
        "\n",
        "# Train a Decision Tree Classifier\n",
        "dt_classifier = DecisionTreeClassifier(random_state=42)\n",
        "dt_classifier.fit(X_train, y_train)\n",
        "\n",
        "# Make predictions\n",
        "y_pred = dt_classifier.predict(X_test)\n",
        "\n",
        "# Evaluate model performance\n",
        "precision = precision_score(y_test, y_pred)\n",
        "recall = recall_score(y_test, y_pred)\n",
        "f1 = f1_score(y_test, y_pred)\n",
        "\n",
        "# Print evaluation metrics\n",
        "print(f\"Precision: {precision:.4f}\")\n",
        "print(f\"Recall: {recall:.4f}\")\n",
        "print(f\"F1-Score: {f1:.4f}\")\n",
        "\n",
        "# Compute confusion matrix\n",
        "cm = confusion_matrix(y_test, y_pred)\n",
        "\n",
        "# Visualize confusion matrix using seaborn\n",
        "plt.figure(figsize=(6,5))\n",
        "sns.heatmap(cm, annot=True, fmt='d', cmap='Blues', xticklabels=['Negative', 'Positive'], yticklabels=['Negative', 'Positive'])\n",
        "plt.xlabel('Predicted')\n",
        "plt.ylabel('Actual')\n",
        "plt.title('Confusion Matrix')\n",
        "plt.show()\n"
      ],
      "metadata": {
        "colab": {
          "base_uri": "https://localhost:8080/",
          "height": 539
        },
        "id": "giNXD338v9oA",
        "outputId": "e0fa45c4-f7f3-452c-c8cb-13a06c323a18"
      },
      "execution_count": null,
      "outputs": [
        {
          "output_type": "stream",
          "name": "stdout",
          "text": [
            "Precision: 0.7984\n",
            "Recall: 0.7912\n",
            "F1-Score: 0.7948\n"
          ]
        },
        {
          "output_type": "display_data",
          "data": {
            "text/plain": [
              "<Figure size 600x500 with 2 Axes>"
            ],
            "image/png": "[encoded data removed]"
          },
          "metadata": {}
        }
      ]
    },
    {
      "cell_type": "markdown",
      "source": [
        "30. Write a Python program to train a Decision Tree Classifier and use GridSearchCV to find the optimal values\n",
        "for max_depth and min_samples_split."
      ],
      "metadata": {
        "id": "JQCXMvdSwMvH"
      }
    },
    {
      "cell_type": "code",
      "source": [
        "import numpy as np\n",
        "import pandas as pd\n",
        "import graphviz\n",
        "import matplotlib.pyplot as plt\n",
        "import seaborn as sns\n",
        "from sklearn.datasets import fetch_california_housing\n",
        "from sklearn.model_selection import train_test_split, GridSearchCV\n",
        "from sklearn.tree import DecisionTreeClassifier, export_graphviz\n",
        "from sklearn.metrics import precision_score, recall_score, f1_score, confusion_matrix\n",
        "\n",
        "# Load the California housing dataset\n",
        "data = fetch_california_housing()\n",
        "X = data.data\n",
        "y = (data.target > data.target.mean()).astype(int)  # Convert regression target into binary classification\n",
        "\n",
        "# Split dataset into training and testing sets\n",
        "X_train, X_test, y_train, y_test = train_test_split(X, y, test_size=0.2, random_state=42)\n",
        "\n",
        "# Define hyperparameter grid\n",
        "param_grid = {\n",
        "    'max_depth': [3, 5, 10, None],\n",
        "    'min_samples_split': [2, 5, 10]\n",
        "}\n",
        "\n",
        "# Perform Grid Search to find optimal hyperparameters\n",
        "grid_search = GridSearchCV(DecisionTreeClassifier(random_state=42), param_grid, cv=5, scoring='f1')\n",
        "grid_search.fit(X_train, y_train)\n",
        "\n",
        "# Train the best Decision Tree Classifier\n",
        "best_dt_classifier = grid_search.best_estimator_\n",
        "best_dt_classifier.fit(X_train, y_train)\n",
        "\n",
        "# Make predictions\n",
        "y_pred = best_dt_classifier.predict(X_test)\n",
        "\n",
        "# Evaluate model performance\n",
        "precision = precision_score(y_test, y_pred)\n",
        "recall = recall_score(y_test, y_pred)\n",
        "f1 = f1_score(y_test, y_pred)\n",
        "\n",
        "# Print best parameters and evaluation metrics\n",
        "print(f\"Best Parameters: {grid_search.best_params_}\")\n",
        "print(f\"Precision: {precision:.4f}\")\n",
        "print(f\"Recall: {recall:.4f}\")\n",
        "print(f\"F1-Score: {f1:.4f}\")\n",
        "\n",
        "# Compute confusion matrix\n",
        "cm = confusion_matrix(y_test, y_pred)\n",
        "\n",
        "# Visualize confusion matrix using seaborn\n",
        "plt.figure(figsize=(6,5))\n",
        "sns.heatmap(cm, annot=True, fmt='d', cmap='Blues', xticklabels=['Negative', 'Positive'], yticklabels=['Negative', 'Positive'])\n",
        "plt.xlabel('Predicted')\n",
        "plt.ylabel('Actual')\n",
        "plt.title('Confusion Matrix')\n",
        "plt.show()"
      ],
      "metadata": {
        "colab": {
          "base_uri": "https://localhost:8080/",
          "height": 556
        },
        "id": "WIknVqzXwTCi",
        "outputId": "14e64bd8-18dc-4cf7-e885-c8fabb20cb77"
      },
      "execution_count": null,
      "outputs": [
        {
          "output_type": "stream",
          "name": "stdout",
          "text": [
            "Best Parameters: {'max_depth': 10, 'min_samples_split': 2}\n",
            "Precision: 0.8195\n",
            "Recall: 0.7833\n",
            "F1-Score: 0.8010\n"
          ]
        },
        {
          "output_type": "display_data",
          "data": {
            "text/plain": [
              "<Figure size 600x500 with 2 Axes>"
            ],
            "image/png": "[encoded data removed]"
          },
          "metadata": {}
        }
      ]
    }
  ]
}