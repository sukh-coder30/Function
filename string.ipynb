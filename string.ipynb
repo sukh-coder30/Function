{
 "cells": [
  {
   "cell_type": "code",
   "execution_count": null,
   "id": "b15bcc1b-6c64-42e8-b8e0-35cc5bfdfa04",
   "metadata": {},
   "outputs": [],
   "source": [
    "#string is sequence of character\n",
    "#character are represented in number\n",
    "#ASCII(7 BITS) and UNICODE (16 BITS)"
   ]
  },
  {
   "cell_type": "code",
   "execution_count": 1,
   "id": "b1af14e1-da54-4cb6-88f1-724e94758ac0",
   "metadata": {},
   "outputs": [
    {
     "data": {
      "text/plain": [
       "65"
      ]
     },
     "execution_count": 1,
     "metadata": {},
     "output_type": "execute_result"
    }
   ],
   "source": [
    "# ASCII Representation\n",
    "char = \"A\"\n",
    "ord(char)"
   ]
  },
  {
   "cell_type": "code",
   "execution_count": 2,
   "id": "8283ba27-11a6-4b42-ae9d-c5cb6b066053",
   "metadata": {},
   "outputs": [
    {
     "data": {
      "text/plain": [
       "'A'"
      ]
     },
     "execution_count": 2,
     "metadata": {},
     "output_type": "execute_result"
    }
   ],
   "source": [
    "chr(65)"
   ]
  },
  {
   "cell_type": "code",
   "execution_count": 3,
   "id": "8362bb03-3bab-42c7-95d9-a0370338428c",
   "metadata": {},
   "outputs": [
    {
     "data": {
      "text/plain": [
       "97"
      ]
     },
     "execution_count": 3,
     "metadata": {},
     "output_type": "execute_result"
    }
   ],
   "source": [
    "ord(\"a\")"
   ]
  },
  {
   "cell_type": "code",
   "execution_count": 4,
   "id": "030e5e31-d470-4c48-a00a-9cc3c2b28263",
   "metadata": {},
   "outputs": [
    {
     "data": {
      "text/plain": [
       "'Y'"
      ]
     },
     "execution_count": 4,
     "metadata": {},
     "output_type": "execute_result"
    }
   ],
   "source": [
    "chr(89)"
   ]
  },
  {
   "cell_type": "code",
   "execution_count": 6,
   "id": "78b1879f-bf49-45fe-9512-c2e6cd02d07c",
   "metadata": {},
   "outputs": [
    {
     "data": {
      "text/plain": [
       "'ॳ'"
      ]
     },
     "execution_count": 6,
     "metadata": {},
     "output_type": "execute_result"
    }
   ],
   "source": [
    "#Unicode representation\n",
    "'\\u0973'"
   ]
  },
  {
   "cell_type": "code",
   "execution_count": 7,
   "id": "f5cb6ad6-af02-4c12-8be9-a755ab9d3915",
   "metadata": {},
   "outputs": [
    {
     "data": {
      "text/plain": [
       "str"
      ]
     },
     "execution_count": 7,
     "metadata": {},
     "output_type": "execute_result"
    }
   ],
   "source": [
    "s = \"pwskill\"\n",
    "type(s)"
   ]
  },
  {
   "cell_type": "code",
   "execution_count": 8,
   "id": "56f192ba-0286-44b1-b1a2-671e8002f8db",
   "metadata": {},
   "outputs": [],
   "source": [
    "s = 'pwskill'"
   ]
  },
  {
   "cell_type": "code",
   "execution_count": 9,
   "id": "6de6c195-f404-4365-a9ab-ed513268d4f8",
   "metadata": {},
   "outputs": [
    {
     "data": {
      "text/plain": [
       "'pwskill'"
      ]
     },
     "execution_count": 9,
     "metadata": {},
     "output_type": "execute_result"
    }
   ],
   "source": [
    "s"
   ]
  },
  {
   "cell_type": "code",
   "execution_count": 10,
   "id": "44dccff4-829d-4f73-a5a2-3bc738c00040",
   "metadata": {},
   "outputs": [],
   "source": [
    "s = \"i'm a student\""
   ]
  },
  {
   "cell_type": "code",
   "execution_count": 11,
   "id": "da93a3b3-1f4b-472d-9d3b-61e247849b41",
   "metadata": {},
   "outputs": [
    {
     "data": {
      "text/plain": [
       "\"i'm a student\""
      ]
     },
     "execution_count": 11,
     "metadata": {},
     "output_type": "execute_result"
    }
   ],
   "source": [
    "s"
   ]
  },
  {
   "cell_type": "code",
   "execution_count": 13,
   "id": "8bb923c7-e94b-4de2-8072-62902b644ded",
   "metadata": {},
   "outputs": [
    {
     "data": {
      "text/plain": [
       "'pwskill'"
      ]
     },
     "execution_count": 13,
     "metadata": {},
     "output_type": "execute_result"
    }
   ],
   "source": [
    "a = \"pw\"\n",
    "b = \"skill\"\n",
    "a + b"
   ]
  },
  {
   "cell_type": "code",
   "execution_count": 14,
   "id": "4e55da5d-e9b9-494f-a320-77a3c0ebbffb",
   "metadata": {},
   "outputs": [
    {
     "data": {
      "text/plain": [
       "'m'"
      ]
     },
     "execution_count": 14,
     "metadata": {},
     "output_type": "execute_result"
    }
   ],
   "source": [
    "a = \"monjolika is sitting at back\"\n",
    "a[0]"
   ]
  },
  {
   "cell_type": "code",
   "execution_count": 15,
   "id": "1634034a-e6a6-4c03-9418-8a650c309c2d",
   "metadata": {},
   "outputs": [
    {
     "data": {
      "text/plain": [
       "'monjolika'"
      ]
     },
     "execution_count": 15,
     "metadata": {},
     "output_type": "execute_result"
    }
   ],
   "source": [
    "a[0:9]"
   ]
  },
  {
   "cell_type": "code",
   "execution_count": 16,
   "id": "06043778-970d-4c10-85d9-e8a33e6042af",
   "metadata": {},
   "outputs": [
    {
     "data": {
      "text/plain": [
       "'monjolika'"
      ]
     },
     "execution_count": 16,
     "metadata": {},
     "output_type": "execute_result"
    }
   ],
   "source": [
    "a[0:9:1]"
   ]
  },
  {
   "cell_type": "code",
   "execution_count": 17,
   "id": "6c796f72-88df-4fc7-8f5e-5872dc6639e0",
   "metadata": {},
   "outputs": [
    {
     "data": {
      "text/plain": [
       "'mnoia'"
      ]
     },
     "execution_count": 17,
     "metadata": {},
     "output_type": "execute_result"
    }
   ],
   "source": [
    "a[0:9:2]"
   ]
  },
  {
   "cell_type": "code",
   "execution_count": 18,
   "id": "66775958-b2b8-4b22-8588-48b3a1919962",
   "metadata": {},
   "outputs": [
    {
     "data": {
      "text/plain": [
       "'mji'"
      ]
     },
     "execution_count": 18,
     "metadata": {},
     "output_type": "execute_result"
    }
   ],
   "source": [
    "a[0:9:3]"
   ]
  },
  {
   "cell_type": "code",
   "execution_count": 19,
   "id": "9dfcb0d5-bd73-4473-a428-60592fd860c0",
   "metadata": {},
   "outputs": [
    {
     "data": {
      "text/plain": [
       "'monjolika is sitting at back'"
      ]
     },
     "execution_count": 19,
     "metadata": {},
     "output_type": "execute_result"
    }
   ],
   "source": [
    "a[0:]"
   ]
  },
  {
   "cell_type": "code",
   "execution_count": 20,
   "id": "174a50f0-20ed-4f29-bbe4-5dfe515b3e95",
   "metadata": {},
   "outputs": [
    {
     "data": {
      "text/plain": [
       "'k'"
      ]
     },
     "execution_count": 20,
     "metadata": {},
     "output_type": "execute_result"
    }
   ],
   "source": [
    "a[-1]"
   ]
  },
  {
   "cell_type": "code",
   "execution_count": 21,
   "id": "c469b054-77ca-4dfe-a631-a2a66533ce5d",
   "metadata": {},
   "outputs": [
    {
     "data": {
      "text/plain": [
       "'ack'"
      ]
     },
     "execution_count": 21,
     "metadata": {},
     "output_type": "execute_result"
    }
   ],
   "source": [
    "a[-3:]"
   ]
  },
  {
   "cell_type": "code",
   "execution_count": 23,
   "id": "dc969915-3140-46e5-a0f7-1a3853563c70",
   "metadata": {},
   "outputs": [
    {
     "data": {
      "text/plain": [
       "'monjolika is sitti'"
      ]
     },
     "execution_count": 23,
     "metadata": {},
     "output_type": "execute_result"
    }
   ],
   "source": [
    "a[0:18]"
   ]
  },
  {
   "cell_type": "code",
   "execution_count": 24,
   "id": "11614f39-5328-4d01-8284-20585f1b2fbb",
   "metadata": {},
   "outputs": [],
   "source": [
    "a = \"pwskills\""
   ]
  },
  {
   "cell_type": "code",
   "execution_count": 25,
   "id": "30a1c6de-7e37-43d2-a0a6-255857c7c081",
   "metadata": {},
   "outputs": [
    {
     "data": {
      "text/plain": [
       "'sllikswp'"
      ]
     },
     "execution_count": 25,
     "metadata": {},
     "output_type": "execute_result"
    }
   ],
   "source": [
    "a[::-1]"
   ]
  },
  {
   "cell_type": "code",
   "execution_count": 26,
   "id": "0ba3ef62-4fe9-405c-b8ee-e781ef644681",
   "metadata": {},
   "outputs": [
    {
     "data": {
      "text/plain": [
       "'I am teacher'"
      ]
     },
     "execution_count": 26,
     "metadata": {},
     "output_type": "execute_result"
    }
   ],
   "source": [
    "a = \"I am student\"\n",
    "a.replace(\"student\", \"teacher\")"
   ]
  },
  {
   "cell_type": "code",
   "execution_count": 27,
   "id": "2749b633-3638-4cfe-b315-0bb8dc17d4da",
   "metadata": {},
   "outputs": [
    {
     "data": {
      "text/plain": [
       "['aabra']"
      ]
     },
     "execution_count": 27,
     "metadata": {},
     "output_type": "execute_result"
    }
   ],
   "source": [
    "l = [\"aabra\", \"aabraka daabra\", \"aabrakadaabra\"]\n",
    "l[0:1:3]"
   ]
  },
  {
   "cell_type": "code",
   "execution_count": 28,
   "id": "c8eb9541-11b1-4673-9678-7620335dacab",
   "metadata": {},
   "outputs": [
    {
     "data": {
      "text/plain": [
       "' come as soon as possible. because YOLO. before coming DYOR'"
      ]
     },
     "execution_count": 28,
     "metadata": {},
     "output_type": "execute_result"
    }
   ],
   "source": [
    "text = \" come ASAP. because YOLO. before coming DYOR\"\n",
    "\n",
    "text.replace(\"ASAP\", \"as soon as possible\").replace(\"YOLO\""
   ]
  },
  {
   "cell_type": "code",
   "execution_count": 29,
   "id": "47cf216b-285c-4b66-881c-695eaff08d06",
   "metadata": {},
   "outputs": [
    {
     "data": {
      "text/plain": [
       "'hello worlds'"
      ]
     },
     "execution_count": 29,
     "metadata": {},
     "output_type": "execute_result"
    }
   ],
   "source": [
    "text = \"hello WoRlds\"\n",
    "text.lower()"
   ]
  },
  {
   "cell_type": "code",
   "execution_count": 30,
   "id": "336d223d-7d24-44fd-a548-80e874171a66",
   "metadata": {},
   "outputs": [
    {
     "data": {
      "text/plain": [
       "'HELLO WORLDS'"
      ]
     },
     "execution_count": 30,
     "metadata": {},
     "output_type": "execute_result"
    }
   ],
   "source": [
    "text.upper()"
   ]
  },
  {
   "cell_type": "code",
   "execution_count": 31,
   "id": "8c63dded-42c7-4135-a0dd-f0989dd595ab",
   "metadata": {},
   "outputs": [
    {
     "data": {
      "text/plain": [
       "'Hello worlds'"
      ]
     },
     "execution_count": 31,
     "metadata": {},
     "output_type": "execute_result"
    }
   ],
   "source": [
    "text.capitalize()"
   ]
  },
  {
   "cell_type": "code",
   "execution_count": 32,
   "id": "7f361e2c-a72c-45fc-8665-8a24b9e3264e",
   "metadata": {},
   "outputs": [
    {
     "data": {
      "text/plain": [
       "'HELLO wOrLDS'"
      ]
     },
     "execution_count": 32,
     "metadata": {},
     "output_type": "execute_result"
    }
   ],
   "source": [
    "text.swapcase()"
   ]
  },
  {
   "cell_type": "code",
   "execution_count": 33,
   "id": "65de6d30-8606-4b5e-85b0-8abe770925b2",
   "metadata": {},
   "outputs": [
    {
     "data": {
      "text/plain": [
       "True"
      ]
     },
     "execution_count": 33,
     "metadata": {},
     "output_type": "execute_result"
    }
   ],
   "source": [
    "s = \"I am a student\"\n",
    "\"student\" in s"
   ]
  },
  {
   "cell_type": "code",
   "execution_count": 34,
   "id": "68884f3d-239b-4e80-809c-0fb52530c983",
   "metadata": {},
   "outputs": [
    {
     "data": {
      "text/plain": [
       "['aabra']"
      ]
     },
     "execution_count": 34,
     "metadata": {},
     "output_type": "execute_result"
    }
   ],
   "source": [
    "l = [\"aabra\", \"aabraka daabra\", \"aabrakadaabra\"]\n",
    "l[0:1:3]\n"
   ]
  },
  {
   "cell_type": "code",
   "execution_count": 35,
   "id": "21c922fe-05e6-4777-9bcb-e0d8a7880f77",
   "metadata": {},
   "outputs": [
    {
     "data": {
      "text/plain": [
       "['ab tmhare wale', 'zinda hu', 'zing']"
      ]
     },
     "execution_count": 35,
     "metadata": {},
     "output_type": "execute_result"
    }
   ],
   "source": [
    "s = [\"zinda hu\", \"ab tmhare wale\", \"zing\"]\n",
    "sorted(s)"
   ]
  },
  {
   "cell_type": "code",
   "execution_count": 36,
   "id": "9cdda633-0db3-4918-96c3-6b53d1bfe459",
   "metadata": {},
   "outputs": [
    {
     "data": {
      "text/plain": [
       "'ajay'"
      ]
     },
     "execution_count": 36,
     "metadata": {},
     "output_type": "execute_result"
    }
   ],
   "source": [
    "s =\"                    ajay                 \"\n",
    "s.strip()"
   ]
  },
  {
   "cell_type": "code",
   "execution_count": 39,
   "id": "75ffbf98-f066-4ba6-8c9a-7d2e0957caad",
   "metadata": {},
   "outputs": [],
   "source": [
    "s = \"mnjo,kakuda,stree\"\n",
    "a = s.split(\",\")"
   ]
  },
  {
   "cell_type": "code",
   "execution_count": 40,
   "id": "a73ab7d4-c767-4a3e-b519-0620b49eb38c",
   "metadata": {},
   "outputs": [],
   "source": [
    "s = \"mnjo,kakuda,stree\"\n",
    "a = s.split(\",\")"
   ]
  },
  {
   "cell_type": "code",
   "execution_count": 43,
   "id": "a08012db-f786-47ce-9699-7d301261ffbd",
   "metadata": {},
   "outputs": [
    {
     "data": {
      "text/plain": [
       "'mnjo,kakuda,stree'"
      ]
     },
     "execution_count": 43,
     "metadata": {},
     "output_type": "execute_result"
    }
   ],
   "source": [
    "\",\".join(a)#.replace(\" \", \",\")"
   ]
  },
  {
   "cell_type": "code",
   "execution_count": 44,
   "id": "6dd79d36-a7dd-406a-bafb-c6bf8727bbd7",
   "metadata": {},
   "outputs": [],
   "source": [
    "data = \" Ajay,      teacher, ds     \"\n",
    "info = data.split(\",\")"
   ]
  },
  {
   "cell_type": "code",
   "execution_count": 45,
   "id": "616d034a-f334-4067-9780-cbea889475bc",
   "metadata": {},
   "outputs": [
    {
     "data": {
      "text/plain": [
       "' Ajay'"
      ]
     },
     "execution_count": 45,
     "metadata": {},
     "output_type": "execute_result"
    }
   ],
   "source": [
    "info[0]"
   ]
  },
  {
   "cell_type": "code",
   "execution_count": 46,
   "id": "324a5d10-9808-4edd-9f4a-359dbce6aadd",
   "metadata": {},
   "outputs": [
    {
     "data": {
      "text/plain": [
       "'teacher'"
      ]
     },
     "execution_count": 46,
     "metadata": {},
     "output_type": "execute_result"
    }
   ],
   "source": [
    "info[1].strip()"
   ]
  },
  {
   "cell_type": "code",
   "execution_count": 47,
   "id": "bb8f83d0-aa07-405a-beae-c131d161f61a",
   "metadata": {},
   "outputs": [],
   "source": [
    "data = \" Ajay,      teacher, ds     \"\n",
    "info = data.split(\",\")\n"
   ]
  },
  {
   "cell_type": "code",
   "execution_count": 48,
   "id": "a408eee9-2a41-47c1-af1a-feaf184e5c52",
   "metadata": {},
   "outputs": [],
   "source": [
    "#\\n>> for new line\n",
    "#\\t for tab"
   ]
  },
  {
   "cell_type": "code",
   "execution_count": 50,
   "id": "017aea19-3e3e-4fdb-8d7b-6739c5dd540f",
   "metadata": {},
   "outputs": [
    {
     "name": "stdout",
     "output_type": "stream",
     "text": [
      "name\tcourse\tfree\n",
      "Ajay\tDS\t2000\n"
     ]
    }
   ],
   "source": [
    "table = \"name\\tcourse\\tfree\\nAjay\\tDS\\t2000\"\n",
    "print(table)"
   ]
  },
  {
   "cell_type": "code",
   "execution_count": 51,
   "id": "8d94a338-b6fb-4dfb-8092-5a27b0609580",
   "metadata": {},
   "outputs": [
    {
     "name": "stdout",
     "output_type": "stream",
     "text": [
      "C:\\USER\\DOWNLOAD\\test.txt\n"
     ]
    }
   ],
   "source": [
    "file_path = \"C:\\\\USER\\\\DOWNLOAD\\\\test.txt\"\n",
    "print(file_path)"
   ]
  },
  {
   "cell_type": "code",
   "execution_count": 52,
   "id": "93fef0d3-d116-43c9-8182-b867c3c9aefc",
   "metadata": {},
   "outputs": [
    {
     "data": {
      "text/plain": [
       "'Ajay'"
      ]
     },
     "execution_count": 52,
     "metadata": {},
     "output_type": "execute_result"
    }
   ],
   "source": [
    "#string formatting\n",
    "name = \"Ajay\"\n",
    "name"
   ]
  },
  {
   "cell_type": "code",
   "execution_count": 54,
   "id": "78f35365-35d3-43a0-b45d-c160cd59deee",
   "metadata": {},
   "outputs": [
    {
     "data": {
      "text/plain": [
       "'my course name is ds and the duration is 4.'"
      ]
     },
     "execution_count": 54,
     "metadata": {},
     "output_type": "execute_result"
    }
   ],
   "source": [
    "#f string>> formatting string with variable placeholder\n",
    "course = \"ds\"\n",
    "duration = \"4\"\n",
    "\n",
    "f\"my course name is {course} and the duration is {duration}.\""
   ]
  },
  {
   "cell_type": "code",
   "execution_count": 59,
   "id": "3e722d02-ad1e-4bab-83a7-34792df2dabe",
   "metadata": {},
   "outputs": [
    {
     "data": {
      "text/plain": [
       "False"
      ]
     },
     "execution_count": 59,
     "metadata": {},
     "output_type": "execute_result"
    }
   ],
   "source": [
    "string1 = \"PWSKILL\"\n",
    "string1.startswith(\"z\")"
   ]
  },
  {
   "cell_type": "code",
   "execution_count": 61,
   "id": "4f584b9c-f90b-4961-8f9b-9dfdabdf6ce3",
   "metadata": {},
   "outputs": [
    {
     "data": {
      "text/plain": [
       "False"
      ]
     },
     "execution_count": 61,
     "metadata": {},
     "output_type": "execute_result"
    }
   ],
   "source": [
    "string1.endswith(\"l\")"
   ]
  },
  {
   "cell_type": "code",
   "execution_count": 62,
   "id": "0efb31fa-fd39-4b68-b04d-747fd815486b",
   "metadata": {},
   "outputs": [
    {
     "name": "stdout",
     "output_type": "stream",
     "text": [
      "r a m   i s   a   g o o d   b o y "
     ]
    }
   ],
   "source": [
    "s = \"ram is a good boy\"\n",
    "for i in s:\n",
    "    print(i,end = \" \")"
   ]
  },
  {
   "cell_type": "code",
   "execution_count": 63,
   "id": "86cc2696-21e2-489d-9483-3411f3794e89",
   "metadata": {},
   "outputs": [
    {
     "name": "stdout",
     "output_type": "stream",
     "text": [
      "r a m   i s   a   g o o d   b o y "
     ]
    }
   ],
   "source": [
    "s = \"ram is a good boy\"\n",
    "for i in range(len(s)):\n",
    "    print(s[i],end = \" \")"
   ]
  },
  {
   "cell_type": "code",
   "execution_count": 2,
   "id": "c70564ab-448e-43cb-a9bf-fade9626f39a",
   "metadata": {},
   "outputs": [
    {
     "data": {
      "text/plain": [
       "['abra', 'abra', 'abra']"
      ]
     },
     "execution_count": 2,
     "metadata": {},
     "output_type": "execute_result"
    }
   ],
   "source": [
    "l = [\"aabra\", \"aabraka daabra\", \"aabrakadaabra\"]\n",
    "\n",
    "a = [i[1:5] for i in l]\n",
    "a"
   ]
  },
  {
   "cell_type": "code",
   "execution_count": 4,
   "id": "de7e0b72-5813-4a11-afc5-95a238a70ed8",
   "metadata": {},
   "outputs": [
    {
     "name": "stdout",
     "output_type": "stream",
     "text": [
      "Result: 15.5\n",
      "Type of result: <class 'float'>\n"
     ]
    }
   ],
   "source": [
    "num_int = 10       # Integer\n",
    "num_float = 5.5    # Float\n",
    "\n",
    "# Adding an integer and a float\n",
    "result = num_int + num_float\n",
    "\n",
    "print(f\"Result: {result}\")\n",
    "print(f\"Type of result: {type(result)}\")"
   ]
  },
  {
   "cell_type": "code",
   "execution_count": 2,
   "id": "68178562-727f-4337-acc7-ceeb8f862843",
   "metadata": {},
   "outputs": [
    {
     "data": {
      "text/plain": [
       "'I am'"
      ]
     },
     "execution_count": 2,
     "metadata": {},
     "output_type": "execute_result"
    }
   ],
   "source": [
    "string1 = \"I am a good Student\"\n",
    "string1[0:4] #string slicing"
   ]
  },
  {
   "cell_type": "code",
   "execution_count": 3,
   "id": "3fb0a1a5-5ab4-416b-be42-364951449d9d",
   "metadata": {},
   "outputs": [
    {
     "data": {
      "text/plain": [
       "'a good '"
      ]
     },
     "execution_count": 3,
     "metadata": {},
     "output_type": "execute_result"
    }
   ],
   "source": [
    "string1[5:12] #strat index and end index"
   ]
  },
  {
   "cell_type": "code",
   "execution_count": 4,
   "id": "c4b15ac2-5aae-408a-8ae2-a31254d6cdac",
   "metadata": {},
   "outputs": [
    {
     "data": {
      "text/plain": [
       "'I am a good Student'"
      ]
     },
     "execution_count": 4,
     "metadata": {},
     "output_type": "execute_result"
    }
   ],
   "source": [
    "string1[0:]"
   ]
  },
  {
   "cell_type": "code",
   "execution_count": 7,
   "id": "45ca3229-df49-4944-903f-8e13a667272d",
   "metadata": {},
   "outputs": [
    {
     "data": {
      "text/plain": [
       "'kills'"
      ]
     },
     "execution_count": 7,
     "metadata": {},
     "output_type": "execute_result"
    }
   ],
   "source": [
    "string1[3:]"
   ]
  },
  {
   "cell_type": "code",
   "execution_count": 8,
   "id": "151ee17e-6d11-4410-9b08-12df08310a80",
   "metadata": {},
   "outputs": [
    {
     "data": {
      "text/plain": [
       "'hello'"
      ]
     },
     "execution_count": 8,
     "metadata": {},
     "output_type": "execute_result"
    }
   ],
   "source": [
    "string2 = \"hello world\"\n",
    "string2[0:5:1]"
   ]
  },
  {
   "cell_type": "code",
   "execution_count": 9,
   "id": "699cd870-178c-4182-b67e-e395037c8f1f",
   "metadata": {},
   "outputs": [
    {
     "data": {
      "text/plain": [
       "'hlo'"
      ]
     },
     "execution_count": 9,
     "metadata": {},
     "output_type": "execute_result"
    }
   ],
   "source": [
    "string2[0:5:2]"
   ]
  },
  {
   "cell_type": "code",
   "execution_count": 10,
   "id": "1f3d0342-9129-42be-94c3-2b468c666f09",
   "metadata": {},
   "outputs": [
    {
     "data": {
      "text/plain": [
       "'hlowrd'"
      ]
     },
     "execution_count": 10,
     "metadata": {},
     "output_type": "execute_result"
    }
   ],
   "source": [
    "string2[::2]"
   ]
  },
  {
   "cell_type": "code",
   "execution_count": 11,
   "id": "6916f030-1d90-42b0-9fae-7137aa46f264",
   "metadata": {},
   "outputs": [
    {
     "data": {
      "text/plain": [
       "'drwolh'"
      ]
     },
     "execution_count": 11,
     "metadata": {},
     "output_type": "execute_result"
    }
   ],
   "source": [
    "string2[::-2]"
   ]
  },
  {
   "cell_type": "code",
   "execution_count": 14,
   "id": "37d20f99-aecf-4edc-9257-7036123d9cb0",
   "metadata": {},
   "outputs": [
    {
     "data": {
      "text/plain": [
       "'w'"
      ]
     },
     "execution_count": 14,
     "metadata": {},
     "output_type": "execute_result"
    }
   ],
   "source": [
    "#it means strat from the end and move to beigning and step bey one charachter\n",
    "string2[-5]"
   ]
  },
  {
   "cell_type": "code",
   "execution_count": 15,
   "id": "8b95b45e-f36e-4402-8cce-eb0128b5aaef",
   "metadata": {},
   "outputs": [
    {
     "data": {
      "text/plain": [
       "11"
      ]
     },
     "execution_count": 15,
     "metadata": {},
     "output_type": "execute_result"
    }
   ],
   "source": [
    "len(string2)"
   ]
  },
  {
   "cell_type": "code",
   "execution_count": 17,
   "id": "7bbffc25-b23e-4501-bb73-16115c6979f9",
   "metadata": {},
   "outputs": [
    {
     "data": {
      "text/plain": [
       "'hello punjab'"
      ]
     },
     "execution_count": 17,
     "metadata": {},
     "output_type": "execute_result"
    }
   ],
   "source": [
    "string2 = \"hello world\"\n",
    "string2.replace(\"world\", \"punjab\")"
   ]
  },
  {
   "cell_type": "code",
   "execution_count": 18,
   "id": "932958e0-dd0d-4ec1-a812-97373b1659da",
   "metadata": {},
   "outputs": [
    {
     "data": {
      "text/plain": [
       "'hello world'"
      ]
     },
     "execution_count": 18,
     "metadata": {},
     "output_type": "execute_result"
    }
   ],
   "source": [
    "string3 = \"hello World\"\n",
    "string3.lower()"
   ]
  },
  {
   "cell_type": "code",
   "execution_count": 19,
   "id": "c8320213-a9d1-49ff-ae9e-bdf370e15969",
   "metadata": {},
   "outputs": [
    {
     "data": {
      "text/plain": [
       "'HELLO WORLD'"
      ]
     },
     "execution_count": 19,
     "metadata": {},
     "output_type": "execute_result"
    }
   ],
   "source": [
    "string3.upper()"
   ]
  },
  {
   "cell_type": "code",
   "execution_count": 20,
   "id": "18f1b359-8008-4b6b-b634-96ec5dbb0bb7",
   "metadata": {},
   "outputs": [
    {
     "data": {
      "text/plain": [
       "'Hello World'"
      ]
     },
     "execution_count": 20,
     "metadata": {},
     "output_type": "execute_result"
    }
   ],
   "source": [
    "string3.title()"
   ]
  },
  {
   "cell_type": "code",
   "execution_count": 24,
   "id": "8693ddba-ffae-41bd-8513-df4190407f98",
   "metadata": {},
   "outputs": [
    {
     "data": {
      "text/plain": [
       "'HELLO wORLD'"
      ]
     },
     "execution_count": 24,
     "metadata": {},
     "output_type": "execute_result"
    }
   ],
   "source": [
    "string3.swapcase()"
   ]
  },
  {
   "cell_type": "code",
   "execution_count": 27,
   "id": "7ef9b99a-1573-4c08-bd72-e23c9f29a679",
   "metadata": {},
   "outputs": [
    {
     "data": {
      "text/plain": [
       "'Hello world'"
      ]
     },
     "execution_count": 27,
     "metadata": {},
     "output_type": "execute_result"
    }
   ],
   "source": [
    "string3.capitalize()"
   ]
  },
  {
   "cell_type": "code",
   "execution_count": 28,
   "id": "f4ed9539-de51-4a45-9a4b-1c0973e3e25a",
   "metadata": {},
   "outputs": [
    {
     "data": {
      "text/plain": [
       "True"
      ]
     },
     "execution_count": 28,
     "metadata": {},
     "output_type": "execute_result"
    }
   ],
   "source": [
    "\"hello\" in string3"
   ]
  },
  {
   "cell_type": "code",
   "execution_count": 29,
   "id": "a2e5b4f4-f4f9-431e-9a04-7df6e1018cfc",
   "metadata": {},
   "outputs": [
    {
     "name": "stdout",
     "output_type": "stream",
     "text": [
      "Invalid email\n"
     ]
    }
   ],
   "source": [
    "email = \"ajay123\"\n",
    "if \"@\" in email:\n",
    "    print(\"valid email\")\n",
    "    \n",
    "else:\n",
    "    print(\"Invalid email\")"
   ]
  },
  {
   "cell_type": "code",
   "execution_count": 31,
   "id": "961d66fe-3c7c-4df5-bd84-8ae770839966",
   "metadata": {},
   "outputs": [
    {
     "name": "stdout",
     "output_type": "stream",
     "text": [
      "username is available\n"
     ]
    }
   ],
   "source": [
    "reg_username = [\"pw\", \"pw\", \"pw\"]\n",
    "new_user = \"pw1\"\n",
    "if new_user in reg_username:\n",
    "    print(\"already in use\")\n",
    "else:\n",
    "    print(\"username is available\")"
   ]
  },
  {
   "cell_type": "code",
   "execution_count": 32,
   "id": "f70d81f3-b4a2-4cbe-b4fc-4139cb0ec11d",
   "metadata": {},
   "outputs": [
    {
     "name": "stdin",
     "output_type": "stream",
     "text": [
      "scan the ptoduct code p1234\n"
     ]
    },
    {
     "name": "stdout",
     "output_type": "stream",
     "text": [
      "The product price is 100\n"
     ]
    }
   ],
   "source": [
    "product_code = \"p1234\"\n",
    "scanned_code = input(\"scan the ptoduct code\")\n",
    "if product_code == scanned_code:\n",
    "    print(\"The product price is 100\")\n",
    "else:\n",
    "    print(\"talk to representative\")"
   ]
  },
  {
   "cell_type": "code",
   "execution_count": 33,
   "id": "fde6cd5a-8cce-447c-b88d-afa6e69a6f95",
   "metadata": {},
   "outputs": [
    {
     "data": {
      "text/plain": [
       "['ajay', 'sanjay', 'vijay']"
      ]
     },
     "execution_count": 33,
     "metadata": {},
     "output_type": "execute_result"
    }
   ],
   "source": [
    "#string ordering\n",
    "\n",
    "name = [\"sanjay\", \"vijay\", \"ajay\"]\n",
    "sorted(name)"
   ]
  },
  {
   "cell_type": "code",
   "execution_count": 35,
   "id": "95843b62-82e1-4397-9cf8-fb962eab5c86",
   "metadata": {},
   "outputs": [
    {
     "data": {
      "text/plain": [
       "'pwskill'"
      ]
     },
     "execution_count": 35,
     "metadata": {},
     "output_type": "execute_result"
    }
   ],
   "source": [
    "#common string operation remove all spaces\n",
    "input_str = \"              pwskill                   \"\n",
    "input_str.strip()"
   ]
  },
  {
   "cell_type": "code",
   "execution_count": 36,
   "id": "14c46eff-9b98-4370-9476-92617e81a12c",
   "metadata": {},
   "outputs": [
    {
     "data": {
      "text/plain": [
       "'ajay, data, science, teacher'"
      ]
     },
     "execution_count": 36,
     "metadata": {},
     "output_type": "execute_result"
    }
   ],
   "source": [
    "#string splitting\n",
    "\n",
    "data = \"ajay, data, science, teacher\"\n",
    "data"
   ]
  },
  {
   "cell_type": "code",
   "execution_count": 37,
   "id": "7d794008-1138-49e1-9074-4603d4678be7",
   "metadata": {},
   "outputs": [
    {
     "data": {
      "text/plain": [
       "['ajay', ' data', ' science', ' teacher']"
      ]
     },
     "execution_count": 37,
     "metadata": {},
     "output_type": "execute_result"
    }
   ],
   "source": [
    "data.split(',')"
   ]
  },
  {
   "cell_type": "code",
   "execution_count": null,
   "id": "5dd95a7b-0253-49b2-beca-3fe86519c6d0",
   "metadata": {},
   "outputs": [],
   "source": [
    "#Escape sequences>> special combination of charaters used within a string"
   ]
  },
  {
   "cell_type": "code",
   "execution_count": 38,
   "id": "f30d1ff0-c2e2-4eee-9fd0-7783f0c5ad01",
   "metadata": {},
   "outputs": [
    {
     "data": {
      "text/plain": [
       "'123, sanmukha villa,\\nmarathali,\\nbanglore'"
      ]
     },
     "execution_count": 38,
     "metadata": {},
     "output_type": "execute_result"
    }
   ],
   "source": [
    "address = \"\"\"123, sanmukha villa,\n",
    "marathali,\n",
    "banglore\"\"\"\n",
    "address"
   ]
  },
  {
   "cell_type": "code",
   "execution_count": 39,
   "id": "e49d447c-17e4-45bf-ab54-2a797517e0f8",
   "metadata": {},
   "outputs": [
    {
     "name": "stdout",
     "output_type": "stream",
     "text": [
      "Name\tAge\tGarde\n",
      "Ajay\t21\t89\n"
     ]
    }
   ],
   "source": [
    "#\\t escape character\n",
    "table = \"Name\\tAge\\tGarde\\nAjay\\t21\\t89\"\n",
    "print(table)"
   ]
  },
  {
   "cell_type": "code",
   "execution_count": 40,
   "id": "a1491c18-4a29-47c9-b3b3-15c30560dae4",
   "metadata": {},
   "outputs": [
    {
     "name": "stdout",
     "output_type": "stream",
     "text": [
      "I can't believe its friday\n"
     ]
    }
   ],
   "source": [
    "#\\' single quote escape\n",
    "str1 = 'I can\\'t believe its friday'\n",
    "print(str1)"
   ]
  },
  {
   "cell_type": "code",
   "execution_count": 42,
   "id": "a156e98a-5d50-4e0f-8f06-49f5f314dade",
   "metadata": {},
   "outputs": [
    {
     "name": "stdout",
     "output_type": "stream",
     "text": [
      "I am teaching data science\n"
     ]
    }
   ],
   "source": [
    "#carraiage return\\r>> move the cursor to the beinging of thr line\n",
    "print(\"Hello, I am Ajay, \\rI am teaching data science\")"
   ]
  },
  {
   "cell_type": "code",
   "execution_count": 43,
   "id": "0d5da0fc-6952-46eb-a90b-90777ca3f63d",
   "metadata": {},
   "outputs": [
    {
     "name": "stdout",
     "output_type": "stream",
     "text": [
      "hello Ajay, how are you?\n"
     ]
    }
   ],
   "source": [
    "#string formatting>> creating string with placeholder variable\n",
    "name = \"Ajay\"\n",
    "greeting = f\"hello {name}, how are you?\"\n",
    "print(greeting)\n"
   ]
  },
  {
   "cell_type": "code",
   "execution_count": 44,
   "id": "bedb4358-7c83-4272-a67b-156a731ad56d",
   "metadata": {},
   "outputs": [],
   "source": [
    "#.format\n",
    "template = \"Hello,{} welcome to {}\"\n",
    "message = template.format(\"Ajay\", \"datascience\")"
   ]
  },
  {
   "cell_type": "code",
   "execution_count": 45,
   "id": "96fc29b9-5842-45b7-a409-a63d86c8fa24",
   "metadata": {},
   "outputs": [
    {
     "name": "stdout",
     "output_type": "stream",
     "text": [
      "Hello,Ajay welcome to datascience\n"
     ]
    }
   ],
   "source": [
    "print(message)"
   ]
  },
  {
   "cell_type": "code",
   "execution_count": 47,
   "id": "087ea77a-073d-4590-bc55-609e75d279ed",
   "metadata": {},
   "outputs": [
    {
     "name": "stdout",
     "output_type": "stream",
     "text": [
      "My course is pw data + frontend and duration is 4.\n"
     ]
    }
   ],
   "source": [
    "#f string is called as formatted string\n",
    "course = \"pw data + frontend\"\n",
    "duration = 4\n",
    "print(f\"My course is {course} and duration is {duration}.\")"
   ]
  },
  {
   "cell_type": "code",
   "execution_count": null,
   "id": "e2627d0e-9c4d-457a-93ea-fdbd46059232",
   "metadata": {},
   "outputs": [],
   "source": [
    "str3 = \"pwskill\" \n"
   ]
  }
 ],
 "metadata": {
  "kernelspec": {
   "display_name": "Python 3 (ipykernel)",
   "language": "python",
   "name": "python3"
  },
  "language_info": {
   "codemirror_mode": {
    "name": "ipython",
    "version": 3
   },
   "file_extension": ".py",
   "mimetype": "text/x-python",
   "name": "python",
   "nbconvert_exporter": "python",
   "pygments_lexer": "ipython3",
   "version": "3.10.8"
  }
 },
 "nbformat": 4,
 "nbformat_minor": 5
}
