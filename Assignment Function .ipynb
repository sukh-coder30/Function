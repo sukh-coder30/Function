{
 "cells": [
  {
   "cell_type": "code",
   "execution_count": 7,
   "id": "96d3539c-5352-4fdb-99ca-6034d4f162b3",
   "metadata": {},
   "outputs": [
    {
     "name": "stdout",
     "output_type": "stream",
     "text": [
      "12\n"
     ]
    }
   ],
   "source": [
    "# Q1. Write a Python function that takes a list of numbers as input and returns the sum of all even numbers in\n",
    "#the list.\n",
    "\n",
    "def func_even(n):\n",
    "    even_sum = 0\n",
    "    for i in n:\n",
    "        if i % 2 == 0:\n",
    "            even_sum += i\n",
    "    return even_sum\n",
    "numbers = [1, 2, 3, 4, 5, 6]\n",
    "result = func_even(numbers)\n",
    "print(result) "
   ]
  },
  {
   "cell_type": "code",
   "execution_count": 11,
   "id": "238e7138-75d5-4f5d-9af5-c6d23be8a3da",
   "metadata": {},
   "outputs": [
    {
     "name": "stdout",
     "output_type": "stream",
     "text": [
      "nohtyP gniyduts ma I\n"
     ]
    }
   ],
   "source": [
    "# Q2. Create a Python function that accepts a string and returns the reverse of that string.\n",
    "\n",
    "def func_str(n):\n",
    "    return n[::-1]\n",
    "mytxt = func_str(\"I am studying Python\")\n",
    "print(mytxt)"
   ]
  },
  {
   "cell_type": "code",
   "execution_count": 16,
   "id": "c095c040-dcd9-45a9-be24-a27aee212d62",
   "metadata": {},
   "outputs": [
    {
     "name": "stdout",
     "output_type": "stream",
     "text": [
      "[1, 4, 9, 16, 25, 36]\n"
     ]
    }
   ],
   "source": [
    "# Q3.  Implement a Python function that takes a list of integers and returns a new list containing the squares of\n",
    "#each number.\n",
    "\n",
    "def func_square(n):\n",
    "    square = []\n",
    "    for i in n:\n",
    "        square.append(i**2)\n",
    "    return square\n",
    "numbers = [1, 2, 3, 4, 5, 6]\n",
    "result = func_square(numbers)\n",
    "print(result) "
   ]
  },
  {
   "cell_type": "code",
   "execution_count": 26,
   "id": "d60ea894-7784-4eff-abb2-b85674a6d26b",
   "metadata": {},
   "outputs": [
    {
     "name": "stdout",
     "output_type": "stream",
     "text": [
      "3 is prime\n"
     ]
    }
   ],
   "source": [
    "# Q4. . Write a Python function that checks if a given number is prime or not from 1 to 200.\n",
    "\n",
    "def func_prime(n):\n",
    "    if n <= 1:\n",
    "        return f\"{n} is not prime\"\n",
    "    for i in range(2, int(n**0.5) + 1):\n",
    "        if n % i == 0:\n",
    "            return f\"{n} is not prime\"\n",
    "    return f\"{n} is prime\"\n",
    "\n",
    "\n",
    "result = func_prime(3)\n",
    "print(result) "
   ]
  },
  {
   "cell_type": "code",
   "execution_count": 28,
   "id": "b0b9455c-46b2-41de-81a2-94ab6d544793",
   "metadata": {},
   "outputs": [
    {
     "name": "stdout",
     "output_type": "stream",
     "text": [
      "0\n",
      "1\n",
      "1\n",
      "2\n",
      "3\n",
      "5\n",
      "8\n",
      "13\n",
      "21\n",
      "34\n"
     ]
    }
   ],
   "source": [
    "# Q5. . Create an iterator class in Python that generates the Fibonacci sequence up to a specified number of\n",
    "#terms.\n",
    "class FibonacciIterator:\n",
    "    def __init__(self, max_terms):\n",
    "        self.max_terms = max_terms  \n",
    "        self.current_term = 0      \n",
    "        self.a = 0                  \n",
    "        self.b = 1                 \n",
    "\n",
    "    def __iter__(self):\n",
    "        return self\n",
    "\n",
    "    def __next__(self):\n",
    "        if self.current_term >= self.max_terms:\n",
    "            raise StopIteration \n",
    "        if self.current_term == 0:\n",
    "            self.current_term += 1\n",
    "            return self.a\n",
    "        elif self.current_term == 1:\n",
    "            self.current_term += 1\n",
    "            return self.b\n",
    "        else:\n",
    "            self.a, self.b = self.b, self.a + self.b  \n",
    "            self.current_term += 1\n",
    "            return self.b\n",
    "fib = FibonacciIterator(10) \n",
    "for num in fib:\n",
    "    print(num)"
   ]
  },
  {
   "cell_type": "code",
   "execution_count": 30,
   "id": "98e3caad-1a28-4db3-9400-868eb4a0ec0a",
   "metadata": {},
   "outputs": [
    {
     "name": "stdout",
     "output_type": "stream",
     "text": [
      "1\n",
      "2\n",
      "4\n",
      "8\n",
      "16\n",
      "32\n",
      "64\n",
      "128\n",
      "256\n",
      "512\n",
      "1024\n"
     ]
    }
   ],
   "source": [
    "# Q.6Write a generator function in Python that yields the powers of 2 up to a given exponent.\n",
    "\n",
    "def func_exp(n):\n",
    "    for i in range(n+1):\n",
    "        yield 2**i\n",
    "\n",
    "for power in func_exp(10):\n",
    "    print(power)"
   ]
  },
  {
   "cell_type": "code",
   "execution_count": null,
   "id": "8825869d-8b17-4a37-b41e-29ae6aa90182",
   "metadata": {},
   "outputs": [],
   "source": [
    "# Q.7 . Implement a generator function that reads a file line by line and yields each line as a string.\n",
    "\n",
    "def read_file_line_by_line(file_path):\n",
    "    with open(file_path, 'r') as file:\n",
    "        for line in file:\n",
    "            yield line.strip()  \n",
    "\n",
    "for line in read_file_line_by_line('example.txt'):\n",
    "    print(line)"
   ]
  },
  {
   "cell_type": "code",
   "execution_count": 2,
   "id": "62231255-07ca-4785-abce-5d76f543fde2",
   "metadata": {},
   "outputs": [
    {
     "name": "stdout",
     "output_type": "stream",
     "text": [
      "[(4, 1), (5, 2), (1, 3), (2, 4)]\n"
     ]
    }
   ],
   "source": [
    "# Q8.  Use a lambda function in Python to sort a list of tuples based on the second element of each tuple.\n",
    "\n",
    "\n",
    "tuples_list = [(1, 3), (4, 1), (5, 2), (2, 4)]\n",
    "\n",
    "\n",
    "sorted_list = sorted(tuples_list, key=lambda x: x[1])\n",
    "\n",
    "print(sorted_list)"
   ]
  },
  {
   "cell_type": "code",
   "execution_count": 3,
   "id": "ee33329f-49b7-41f4-b9ab-84909d985557",
   "metadata": {},
   "outputs": [
    {
     "name": "stdout",
     "output_type": "stream",
     "text": [
      "[32.0, 68.0, 98.6, 212.0]\n"
     ]
    }
   ],
   "source": [
    "#Q9.  Write a Python program that uses `map()` to convert a list of temperatures from Celsius to Fahrenheit.\n",
    "\n",
    "celsius_temperatures = [0, 20, 37, 100]\n",
    "\n",
    "fahrenheit_temperatures = list(map(lambda c: (c * 9/5) + 32, celsius_temperatures))\n",
    "\n",
    "print(fahrenheit_temperatures)"
   ]
  },
  {
   "cell_type": "code",
   "execution_count": 5,
   "id": "0739bd73-7841-4538-b161-6116a8b845c0",
   "metadata": {},
   "outputs": [
    {
     "name": "stdout",
     "output_type": "stream",
     "text": [
      "Hll, Wrld!\n"
     ]
    }
   ],
   "source": [
    "# Q 10.  Create a Python program that uses `filter()` to remove all the vowels from a given string.\n",
    "\n",
    "def not_vowel(char):\n",
    "    vowels = 'aeiouAEIOU'\n",
    "    return char not in vowels\n",
    "\n",
    "input_string = \"Hello, World!\"\n",
    "\n",
    "result = ''.join(filter(not_vowel, input_string))\n",
    "\n",
    "print(result)"
   ]
  },
  {
   "cell_type": "code",
   "execution_count": 6,
   "id": "ab7fa9d0-65d9-4f47-bb4f-cc99beda1561",
   "metadata": {},
   "outputs": [
    {
     "name": "stdout",
     "output_type": "stream",
     "text": [
      "[(34587, 163.8), (98762, 284.0), (77226, 108.85), (88112, 84.97)]\n"
     ]
    }
   ],
   "source": [
    "#Q11. Imagine an accounting routine used in a book shop. It works on a list with sublists, which look like this:\n",
    "#Order Number                            Quantity    Price/item\n",
    "#34587           book title and Author     4              40.95\n",
    "#98762           Learning Python,MarkLutz  5               56.80\n",
    "#77226           Head First Python         3               32.95\n",
    "#88112           Pyhton 3                  3               24.99\n",
    "\n",
    "\n",
    "#Write a Python program, which returns a list with 2-tuples. Each tuple consists of the order number and the\n",
    "#product of the price per item and the quantity. The product should be increased by 10,- € if the value of the\n",
    "#order is smaller than 100,00 €.\n",
    "\n",
    "orders = [\n",
    "    [34587, \"book title and Author\", 4, 40.95],\n",
    "    [98762, \"Learning Python, Mark Lutz\", 5, 56.80],\n",
    "    [77226, \"Head First Python, paul barry\", 3, 32.95],\n",
    "    [88112, \"Einfuhrung in Python 3\", 3, 24.99]\n",
    "]\n",
    "\n",
    "def process_order(order):\n",
    "    order_number = order[0]\n",
    "    quantity = order[2]\n",
    "    price_per_item = order[3]\n",
    "    total_cost = quantity * price_per_item\n",
    "    if total_cost < 100:\n",
    "        total_cost += 10  \n",
    "    return (order_number, round(total_cost, 2))\n",
    "\n",
    "processed_orders = list(map(process_order, orders))\n",
    "\n",
    "print(processed_orders)"
   ]
  },
  {
   "cell_type": "code",
   "execution_count": 7,
   "id": "ffe7ba6a-3bb0-4345-b621-38b03630b1ad",
   "metadata": {},
   "outputs": [
    {
     "name": "stdout",
     "output_type": "stream",
     "text": [
      "Original numbers: [1, 2, 3, 4, 5, 6, 7, 8, 9, 10]\n",
      "Squared numbers: [1, 4, 9, 16, 25, 36, 49, 64, 81, 100]\n"
     ]
    }
   ],
   "source": [
    "#Q12. Write a Python program using lambda and map.\n",
    "\n",
    "numbers = [1, 2, 3, 4, 5, 6, 7, 8, 9, 10]\n",
    "\n",
    "\n",
    "squared_numbers = list(map(lambda x: x ** 2, numbers))\n",
    "\n",
    "print(\"Original numbers:\", numbers)\n",
    "print(\"Squared numbers:\", squared_numbers)"
   ]
  },
  {
   "cell_type": "code",
   "execution_count": null,
   "id": "88dbb99b-00d6-432b-98d3-528ce0c684a9",
   "metadata": {},
   "outputs": [],
   "source": []
  }
 ],
 "metadata": {
  "kernelspec": {
   "display_name": "Python 3 (ipykernel)",
   "language": "python",
   "name": "python3"
  },
  "language_info": {
   "codemirror_mode": {
    "name": "ipython",
    "version": 3
   },
   "file_extension": ".py",
   "mimetype": "text/x-python",
   "name": "python",
   "nbconvert_exporter": "python",
   "pygments_lexer": "ipython3",
   "version": "3.10.8"
  }
 },
 "nbformat": 4,
 "nbformat_minor": 5
}
