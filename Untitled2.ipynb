{
 "cells": [
  {
   "cell_type": "code",
   "execution_count": null,
   "id": "4e62dcff-8314-44f6-aa98-409643142576",
   "metadata": {},
   "outputs": [],
   "source": [
    "#contional statement"
   ]
  },
  {
   "cell_type": "code",
   "execution_count": 2,
   "id": "11b31365-5cd0-44ce-b42d-789dbe0c0eec",
   "metadata": {},
   "outputs": [
    {
     "name": "stdout",
     "output_type": "stream",
     "text": [
      " go for a date\n"
     ]
    }
   ],
   "source": [
    "gf_happy = True\n",
    "\n",
    "if gf_happy:\n",
    "    print(\" go for a date\")"
   ]
  },
  {
   "cell_type": "code",
   "execution_count": 3,
   "id": "30e16ef0-3cde-49cc-9a3d-f01e90d4be82",
   "metadata": {},
   "outputs": [
    {
     "name": "stdout",
     "output_type": "stream",
     "text": [
      " yes he have beer\n"
     ]
    }
   ],
   "source": [
    "beer = True\n",
    "\n",
    "if beer:\n",
    "    print(\" yes he have beer\")"
   ]
  },
  {
   "cell_type": "code",
   "execution_count": 8,
   "id": "4e9cb0b5-6140-42ee-9a94-3cc4fd79942d",
   "metadata": {},
   "outputs": [
    {
     "name": "stdin",
     "output_type": "stream",
     "text": [
      "write number 1\n"
     ]
    },
    {
     "name": "stdout",
     "output_type": "stream",
     "text": [
      "this is a dd no\n"
     ]
    }
   ],
   "source": [
    "nos = int(input(\"write number\"))\n",
    "\n",
    "if nos % 2 == 0:\n",
    "    print(\"the given number is even\")\n",
    "\n",
    "else:\n",
    "    print(\"this is a odd no\")"
   ]
  },
  {
   "cell_type": "code",
   "execution_count": 14,
   "id": "06f9c68f-f667-485d-9388-38f359548359",
   "metadata": {},
   "outputs": [
    {
     "ename": "SyntaxError",
     "evalue": "invalid syntax (3088649883.py, line 6)",
     "output_type": "error",
     "traceback": [
      "\u001b[0;36m  Cell \u001b[0;32mIn[14], line 6\u001b[0;36m\u001b[0m\n\u001b[0;31m    elif 90 <= nos > 80:\u001b[0m\n\u001b[0m    ^\u001b[0m\n\u001b[0;31mSyntaxError\u001b[0m\u001b[0;31m:\u001b[0m invalid syntax\n"
     ]
    }
   ],
   "source": [
    "nos = int(input(\"enter no\"))\n",
    "\n",
    "if nos > 90:\n",
    "    print(\" Grade is A\")\n",
    "    \n",
    "    elif 90 <= nos > 80:\n",
    "        print(\" Grade is B\")\n",
    "        \n",
    "        elif 60 <= nos >= 80:\n",
    "            print(\" Grade is c\")\n",
    "            else:\n",
    "                print(\"you are fail\")\n"
   ]
  },
  {
   "cell_type": "code",
   "execution_count": null,
   "id": "e675a943-eb8c-438d-827f-fa608bb5a8fd",
   "metadata": {},
   "outputs": [
    {
     "ename": "SyntaxError",
     "evalue": "invalid syntax (3686069767.py, line 6)",
     "output_type": "error",
     "traceback": [
      "\u001b[0;36m  Cell \u001b[0;32mIn[20], line 6\u001b[0;36m\u001b[0m\n\u001b[0;31m    else:\u001b[0m\n\u001b[0m    ^\u001b[0m\n\u001b[0;31mSyntaxError\u001b[0m\u001b[0;31m:\u001b[0m invalid syntax\n"
     ]
    }
   ],
   "source": [
    "Year = 2000\n",
    "\n",
    "if year % 4 == 0:\n",
    "         if year % 100 != 0 or year % 400 == 0:\n",
    "            print(\" year is a leap year\")\n",
    "            else:\n",
    "                print(\" year is not a leap year\")\n",
    "                         \n",
    "           "
   ]
  },
  {
   "cell_type": "code",
   "execution_count": 33,
   "id": "a304134b-ee7d-4dfa-8d17-f99683f9bd8f",
   "metadata": {},
   "outputs": [
    {
     "ename": "SyntaxError",
     "evalue": "invalid syntax (2330741228.py, line 15)",
     "output_type": "error",
     "traceback": [
      "\u001b[0;36m  Cell \u001b[0;32mIn[33], line 15\u001b[0;36m\u001b[0m\n\u001b[0;31m    else:\u001b[0m\n\u001b[0m    ^\u001b[0m\n\u001b[0;31mSyntaxError\u001b[0m\u001b[0;31m:\u001b[0m invalid syntax\n"
     ]
    }
   ],
   "source": [
    "age = 80\n",
    "disease = False\n",
    "money = 100000000\n",
    "married = True\n",
    "child = True\n",
    "job = True\n",
    "if age > 70:\n",
    "    if not disease:\n",
    "         print(\"you are good budha\")\n",
    "    elif 50 >= age <= 70:\n",
    "        if money > 100000000:\n",
    "            print(\" you are retired\")\n",
    "        elif 500000 <= money <= 100000000:\n",
    "            print(\" you have just started your career\")\n",
    "            else: \n",
    "                (\" you are bad buddha\")\n",
    "            elif 20 < age < 50:\n",
    "                if married and child and job\n",
    "                print(\" you are young\")\n",
    "            elif age < 20:\n",
    "                 print (\"print no job\")"
   ]
  },
  {
   "cell_type": "code",
   "execution_count": 34,
   "id": "9623bfc2-8ee3-4f40-8a82-e9b3b5b5099a",
   "metadata": {},
   "outputs": [
    {
     "name": "stdout",
     "output_type": "stream",
     "text": [
      "p\n",
      "w\n",
      "s\n",
      "k\n",
      "i\n",
      "l\n",
      "l\n",
      "s\n"
     ]
    }
   ],
   "source": [
    "for i in \"pwskills\":\n",
    "    print(i)"
   ]
  },
  {
   "cell_type": "code",
   "execution_count": 63,
   "id": "462a4ab7-0079-4223-a490-cd611aacdb51",
   "metadata": {},
   "outputs": [
    {
     "name": "stdout",
     "output_type": "stream",
     "text": [
      "* * * * \n",
      "* * * \n",
      "* * \n",
      "* \n",
      "\n"
     ]
    }
   ],
   "source": [
    "for i in range(5):\n",
    "    for j in range(i+1,5):\n",
    "        print( \"*\", end =\" \")\n",
    "    print()"
   ]
  },
  {
   "cell_type": "code",
   "execution_count": 1,
   "id": "d3ab284f-c0b6-4703-b489-950f2f9cf367",
   "metadata": {},
   "outputs": [
    {
     "data": {
      "text/plain": [
       "32"
      ]
     },
     "execution_count": 1,
     "metadata": {},
     "output_type": "execute_result"
    }
   ],
   "source": [
    "2 ** 5"
   ]
  },
  {
   "cell_type": "code",
   "execution_count": 4,
   "id": "953bb92d-697a-46de-92f2-276143ea8fb0",
   "metadata": {},
   "outputs": [],
   "source": [
    "b = 15\n",
    "b+=5"
   ]
  },
  {
   "cell_type": "code",
   "execution_count": 5,
   "id": "0f16ea66-d1d6-49a5-ae3e-5d64d0f691f7",
   "metadata": {},
   "outputs": [
    {
     "data": {
      "text/plain": [
       "20"
      ]
     },
     "execution_count": 5,
     "metadata": {},
     "output_type": "execute_result"
    }
   ],
   "source": [
    "b"
   ]
  },
  {
   "cell_type": "code",
   "execution_count": 6,
   "id": "f4a62815-3c98-439a-845a-e029fc0248ff",
   "metadata": {},
   "outputs": [
    {
     "data": {
      "text/plain": [
       "60"
      ]
     },
     "execution_count": 6,
     "metadata": {},
     "output_type": "execute_result"
    }
   ],
   "source": [
    "b*=3\n",
    "b"
   ]
  },
  {
   "cell_type": "code",
   "execution_count": 7,
   "id": "4581c09e-71cc-4f5f-ba63-b6f732937c3e",
   "metadata": {},
   "outputs": [],
   "source": [
    "#membership oprator"
   ]
  },
  {
   "cell_type": "code",
   "execution_count": 8,
   "id": "86667bc7-aba2-4e9a-8c1a-1361eeeff0bb",
   "metadata": {},
   "outputs": [
    {
     "data": {
      "text/plain": [
       "True"
      ]
     },
     "execution_count": 8,
     "metadata": {},
     "output_type": "execute_result"
    }
   ],
   "source": [
    "a = \"pwskill\"\n",
    "\"w\" in a"
   ]
  },
  {
   "cell_type": "code",
   "execution_count": 10,
   "id": "4f9058aa-00b6-49af-9fc2-7837aa552b9d",
   "metadata": {},
   "outputs": [
    {
     "data": {
      "text/plain": [
       "True"
      ]
     },
     "execution_count": 10,
     "metadata": {},
     "output_type": "execute_result"
    }
   ],
   "source": [
    "#identity oprator\n",
    "\n",
    "a = 2\n",
    "b = 3\n",
    "\n",
    "a = b\n",
    "\n",
    "a is b"
   ]
  },
  {
   "cell_type": "code",
   "execution_count": 11,
   "id": "e025528c-62a8-4157-ae2b-4bb612fe52df",
   "metadata": {},
   "outputs": [
    {
     "data": {
      "text/plain": [
       "'0b10001'"
      ]
     },
     "execution_count": 11,
     "metadata": {},
     "output_type": "execute_result"
    }
   ],
   "source": [
    "# bitwise oprator>> opration at bit level\n",
    "bin(17)"
   ]
  },
  {
   "cell_type": "code",
   "execution_count": 12,
   "id": "a9d1aa11-27b2-42ea-a057-c28663ef91ac",
   "metadata": {},
   "outputs": [
    {
     "data": {
      "text/plain": [
       "int"
      ]
     },
     "execution_count": 12,
     "metadata": {},
     "output_type": "execute_result"
    }
   ],
   "source": [
    "type(a)"
   ]
  },
  {
   "cell_type": "code",
   "execution_count": null,
   "id": "ab9d722f-79cb-4b2e-8dac-96ce01d432bd",
   "metadata": {},
   "outputs": [],
   "source": [
    "#Type casting oprator>> Process to convert data type from one into another\n",
    "# why? while executing code there will be mismatch in data type."
   ]
  }
 ],
 "metadata": {
  "kernelspec": {
   "display_name": "Python 3 (ipykernel)",
   "language": "python",
   "name": "python3"
  },
  "language_info": {
   "codemirror_mode": {
    "name": "ipython",
    "version": 3
   },
   "file_extension": ".py",
   "mimetype": "text/x-python",
   "name": "python",
   "nbconvert_exporter": "python",
   "pygments_lexer": "ipython3",
   "version": "3.10.8"
  }
 },
 "nbformat": 4,
 "nbformat_minor": 5
}
