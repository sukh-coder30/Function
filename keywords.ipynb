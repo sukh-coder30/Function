{
 "cells": [
  {
   "cell_type": "code",
   "execution_count": 1,
   "id": "f4480c0e-80a3-4fd5-85e5-3ac3e36e5114",
   "metadata": {},
   "outputs": [],
   "source": [
    "com = 5+6j"
   ]
  },
  {
   "cell_type": "code",
   "execution_count": 2,
   "id": "87e20589-2f3e-4979-a4e4-53c1659ef569",
   "metadata": {},
   "outputs": [
    {
     "data": {
      "text/plain": [
       "complex"
      ]
     },
     "execution_count": 2,
     "metadata": {},
     "output_type": "execute_result"
    }
   ],
   "source": [
    "type(com)"
   ]
  },
  {
   "cell_type": "code",
   "execution_count": 3,
   "id": "42377cef-f7ec-4200-8e12-80b53382606a",
   "metadata": {},
   "outputs": [
    {
     "data": {
      "text/plain": [
       "5.0"
      ]
     },
     "execution_count": 3,
     "metadata": {},
     "output_type": "execute_result"
    }
   ],
   "source": [
    "com.real"
   ]
  },
  {
   "cell_type": "code",
   "execution_count": 4,
   "id": "d88da6cd-48aa-4317-a2fd-7661b6789d4d",
   "metadata": {},
   "outputs": [
    {
     "data": {
      "text/plain": [
       "6.0"
      ]
     },
     "execution_count": 4,
     "metadata": {},
     "output_type": "execute_result"
    }
   ],
   "source": [
    "com.imag"
   ]
  },
  {
   "cell_type": "raw",
   "id": "f98fe733-be74-4805-b7df-50ccf6d1da1e",
   "metadata": {},
   "source": [
    "Rules of defining a variables>> A letter start with letter or underscore and character\n",
    "'''\n",
    "smdlksdskldsld\n",
    "'''"
   ]
  },
  {
   "cell_type": "code",
   "execution_count": 5,
   "id": "086b36ed-f2ea-4d89-b072-4884b23103a0",
   "metadata": {},
   "outputs": [
    {
     "data": {
      "text/plain": [
       "Ellipsis"
      ]
     },
     "execution_count": 5,
     "metadata": {},
     "output_type": "execute_result"
    }
   ],
   "source": [
    "..."
   ]
  },
  {
   "cell_type": "code",
   "execution_count": 8,
   "id": "6db45aa3-7119-45ec-8870-1aa1c1cc002f",
   "metadata": {},
   "outputs": [
    {
     "data": {
      "text/plain": [
       "'\\n\\njskjklsdkdskdlskd\\n'"
      ]
     },
     "execution_count": 8,
     "metadata": {},
     "output_type": "execute_result"
    }
   ],
   "source": [
    "\"\"\"\n",
    "\n",
    "jskjklsdkdskdlskd\n",
    "\"\"\""
   ]
  },
  {
   "cell_type": "code",
   "execution_count": 10,
   "id": "16b154d4-b05e-46e8-ab51-d7b7475fb444",
   "metadata": {},
   "outputs": [
    {
     "name": "stdout",
     "output_type": "stream",
     "text": [
      "\n",
      "Here is a list of the Python keywords.  Enter any keyword to get more help.\n",
      "\n",
      "False               class               from                or\n",
      "None                continue            global              pass\n",
      "True                def                 if                  raise\n",
      "and                 del                 import              return\n",
      "as                  elif                in                  try\n",
      "assert              else                is                  while\n",
      "async               except              lambda              with\n",
      "await               finally             nonlocal            yield\n",
      "break               for                 not                 \n",
      "\n"
     ]
    }
   ],
   "source": [
    "#Keywords>> are predefined words that has special meaning and specific pupose\n",
    "\n",
    "help('keywords')"
   ]
  },
  {
   "cell_type": "code",
   "execution_count": 14,
   "id": "1cf46f2b-fa9c-4e55-bb64-16658a109064",
   "metadata": {},
   "outputs": [
    {
     "name": "stdout",
     "output_type": "stream",
     "text": [
      "grater\n"
     ]
    }
   ],
   "source": [
    "#indentation >> Specific way of writing paython>> realibale\n",
    "\n",
    "if 3 > 2: # statement> fundamental blocks of code\n",
    "    print(\"grater\")"
   ]
  },
  {
   "cell_type": "code",
   "execution_count": 15,
   "id": "0ead9097-9669-487c-9b93-2aa7e6533085",
   "metadata": {},
   "outputs": [],
   "source": [
    "# statement Type>> Assignment, Expression, conditional statement, Loop"
   ]
  },
  {
   "cell_type": "code",
   "execution_count": 17,
   "id": "3c6bf0c1-c88b-4199-85e8-034098244d69",
   "metadata": {},
   "outputs": [
    {
     "data": {
      "text/plain": [
       "11"
      ]
     },
     "execution_count": 17,
     "metadata": {},
     "output_type": "execute_result"
    }
   ],
   "source": [
    "a = 5 #assigment statemnet\n",
    "b = 6 #assignment state\n",
    "a+b"
   ]
  },
  {
   "cell_type": "code",
   "execution_count": 24,
   "id": "a779dd58-abe9-4345-a20d-2672e7e27a7f",
   "metadata": {},
   "outputs": [
    {
     "name": "stdin",
     "output_type": "stream",
     "text": [
      "please enter your name:  2\n"
     ]
    }
   ],
   "source": [
    "#input output >> if you want to some user to give value of variable\n",
    "name = input(\"please enter your name: \")"
   ]
  },
  {
   "cell_type": "code",
   "execution_count": 25,
   "id": "152ae113-b80a-42d1-8519-02ab301273c2",
   "metadata": {},
   "outputs": [
    {
     "data": {
      "text/plain": [
       "'2'"
      ]
     },
     "execution_count": 25,
     "metadata": {},
     "output_type": "execute_result"
    }
   ],
   "source": [
    "name"
   ]
  },
  {
   "cell_type": "code",
   "execution_count": 26,
   "id": "c47362e5-8575-4405-9b10-4ffc24b576ae",
   "metadata": {},
   "outputs": [
    {
     "data": {
      "text/plain": [
       "str"
      ]
     },
     "execution_count": 26,
     "metadata": {},
     "output_type": "execute_result"
    }
   ],
   "source": [
    "type(name)"
   ]
  },
  {
   "cell_type": "code",
   "execution_count": 22,
   "id": "15d0126e-3332-4a4b-8813-e0273928c5b8",
   "metadata": {},
   "outputs": [],
   "source": [
    "# input take every value store in string\n",
    "# INPUTCASTING >> Change in other identifire"
   ]
  },
  {
   "cell_type": "code",
   "execution_count": 27,
   "id": "3af3e9ed-6005-494e-8061-afebd62d12ec",
   "metadata": {},
   "outputs": [
    {
     "data": {
      "text/plain": [
       "int"
      ]
     },
     "execution_count": 27,
     "metadata": {},
     "output_type": "execute_result"
    }
   ],
   "source": [
    "type(int(name))"
   ]
  },
  {
   "cell_type": "code",
   "execution_count": 28,
   "id": "fd38bd48-90f3-4cc5-85ba-8a3b3fc49d03",
   "metadata": {},
   "outputs": [
    {
     "data": {
      "text/plain": [
       "str"
      ]
     },
     "execution_count": 28,
     "metadata": {},
     "output_type": "execute_result"
    }
   ],
   "source": [
    "a = \"3.5\"\n",
    "type(a)"
   ]
  },
  {
   "cell_type": "code",
   "execution_count": 29,
   "id": "a0fecee9-e421-4b9c-9ce0-643e86d6113c",
   "metadata": {},
   "outputs": [
    {
     "data": {
      "text/plain": [
       "3.5"
      ]
     },
     "execution_count": 29,
     "metadata": {},
     "output_type": "execute_result"
    }
   ],
   "source": [
    "float(a)"
   ]
  },
  {
   "cell_type": "code",
   "execution_count": null,
   "id": "7ae0c880-94d0-4982-9130-6f57accdf67e",
   "metadata": {},
   "outputs": [],
   "source": [
    "#python is a case senstive language"
   ]
  }
 ],
 "metadata": {
  "kernelspec": {
   "display_name": "Python 3 (ipykernel)",
   "language": "python",
   "name": "python3"
  },
  "language_info": {
   "codemirror_mode": {
    "name": "ipython",
    "version": 3
   },
   "file_extension": ".py",
   "mimetype": "text/x-python",
   "name": "python",
   "nbconvert_exporter": "python",
   "pygments_lexer": "ipython3",
   "version": "3.10.8"
  }
 },
 "nbformat": 4,
 "nbformat_minor": 5
}
