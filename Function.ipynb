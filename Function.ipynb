{
 "cells": [
  {
   "cell_type": "code",
   "execution_count": 1,
   "id": "e5ea86a1-dc30-44be-98f3-255f60edf68c",
   "metadata": {},
   "outputs": [
    {
     "name": "stdout",
     "output_type": "stream",
     "text": [
      " This is my first function\n"
     ]
    }
   ],
   "source": [
    "def func():\n",
    "    print(\" This is my first function\")\n",
    "func()"
   ]
  },
  {
   "cell_type": "code",
   "execution_count": 2,
   "id": "93487289-254a-4a8e-aebc-387b2e9f1c17",
   "metadata": {},
   "outputs": [
    {
     "data": {
      "text/plain": [
       "' This is my first function in python'"
      ]
     },
     "execution_count": 2,
     "metadata": {},
     "output_type": "execute_result"
    }
   ],
   "source": [
    "def func():\n",
    "    return \" This is my first function\",\"a\", 3+7j, True\n",
    "func()"
   ]
  },
  {
   "cell_type": "code",
   "execution_count": 5,
   "id": "0dbed922-49d2-4bf4-bfa0-074ba0339103",
   "metadata": {},
   "outputs": [
    {
     "data": {
      "text/plain": [
       "' This is my first function'"
      ]
     },
     "execution_count": 5,
     "metadata": {},
     "output_type": "execute_result"
    }
   ],
   "source": [
    "func()"
   ]
  },
  {
   "cell_type": "code",
   "execution_count": 6,
   "id": "77adec0e-126c-42e2-a2c8-b6580f9af40f",
   "metadata": {},
   "outputs": [
    {
     "data": {
      "text/plain": [
       "(' This is my first function', 'a', (3+7j), True)"
      ]
     },
     "execution_count": 6,
     "metadata": {},
     "output_type": "execute_result"
    }
   ],
   "source": [
    "def func():\n",
    "    return \" This is my first function\",\"a\", 3+7j, True\n",
    "func()\n"
   ]
  },
  {
   "cell_type": "code",
   "execution_count": 7,
   "id": "c9e6e420-209b-403f-aa2c-247f74b06089",
   "metadata": {},
   "outputs": [],
   "source": [
    "a, b, c, d = func()"
   ]
  },
  {
   "cell_type": "code",
   "execution_count": 8,
   "id": "f87cdce3-5e1b-4334-81a1-a764aab8c02d",
   "metadata": {},
   "outputs": [
    {
     "data": {
      "text/plain": [
       "' This is my first function'"
      ]
     },
     "execution_count": 8,
     "metadata": {},
     "output_type": "execute_result"
    }
   ],
   "source": [
    "a"
   ]
  },
  {
   "cell_type": "code",
   "execution_count": 9,
   "id": "f6acb59d-5efa-47ab-b05c-6b323aba07bb",
   "metadata": {},
   "outputs": [
    {
     "data": {
      "text/plain": [
       "'a'"
      ]
     },
     "execution_count": 9,
     "metadata": {},
     "output_type": "execute_result"
    }
   ],
   "source": [
    "b"
   ]
  },
  {
   "cell_type": "code",
   "execution_count": 10,
   "id": "80a55f0b-6ceb-4ac3-a0ca-d6f7d6433373",
   "metadata": {},
   "outputs": [
    {
     "data": {
      "text/plain": [
       "(3+7j)"
      ]
     },
     "execution_count": 10,
     "metadata": {},
     "output_type": "execute_result"
    }
   ],
   "source": [
    "c"
   ]
  },
  {
   "cell_type": "code",
   "execution_count": 11,
   "id": "249ccc25-175c-425f-a642-de1730c89755",
   "metadata": {},
   "outputs": [
    {
     "data": {
      "text/plain": [
       "True"
      ]
     },
     "execution_count": 11,
     "metadata": {},
     "output_type": "execute_result"
    }
   ],
   "source": [
    "d"
   ]
  },
  {
   "cell_type": "code",
   "execution_count": 15,
   "id": "553818a2-d068-40f9-8157-c0f41f1ee9fd",
   "metadata": {},
   "outputs": [],
   "source": [
    "def addition(num):\n",
    "    if num:\n",
    "        return num + addition(num - 1)\n",
    "    else:\n",
    "        return 0\n",
    "        "
   ]
  },
  {
   "cell_type": "code",
   "execution_count": 16,
   "id": "52ad03e2-c529-4c0d-a3e3-68647304c798",
   "metadata": {},
   "outputs": [
    {
     "data": {
      "text/plain": [
       "55"
      ]
     },
     "execution_count": 16,
     "metadata": {},
     "output_type": "execute_result"
    }
   ],
   "source": [
    "addition(10)"
   ]
  },
  {
   "cell_type": "code",
   "execution_count": 1,
   "id": "aab79db6-6d1b-4976-ae2b-30e1b61c38fc",
   "metadata": {},
   "outputs": [
    {
     "name": "stdin",
     "output_type": "stream",
     "text": [
      "Enter a string:  adddfff.f.\n"
     ]
    },
    {
     "name": "stdout",
     "output_type": "stream",
     "text": [
      "The string is pangram\n"
     ]
    }
   ],
   "source": [
    "# write a program to check if a string is pangram\n",
    "def is_program(s):\n",
    "    alphabet = \"abcdefghijklmnopqrstuvwxyz\"\n",
    "    for char in alphabet:\n",
    "        if char not in s.lower():\n",
    "            return False\n",
    "        return True\n",
    "    \n",
    "s = input(\"Enter a string: \")\n",
    "if is_program(s):\n",
    "    print(\"The string is pangram\")\n",
    "else: \n",
    "    print(\" the string is not pangram\")\n",
    "    \n",
    "\n"
   ]
  },
  {
   "cell_type": "code",
   "execution_count": 3,
   "id": "543b36e7-1f7b-4a1e-87e5-2139efc20d64",
   "metadata": {},
   "outputs": [],
   "source": [
    "#ceil function return nearest higest value\n",
    "#floor function return nearest lower value\n"
   ]
  },
  {
   "cell_type": "code",
   "execution_count": 4,
   "id": "f2bec3ed-36be-443d-b90d-bc25f0a0b855",
   "metadata": {},
   "outputs": [
    {
     "data": {
      "text/plain": [
       "7"
      ]
     },
     "execution_count": 4,
     "metadata": {},
     "output_type": "execute_result"
    }
   ],
   "source": [
    "import math as m #math is collection of function\n",
    "\n",
    "m.ceil(6.5)"
   ]
  },
  {
   "cell_type": "code",
   "execution_count": 5,
   "id": "d9eb3ae1-64e4-4681-a057-c816d2786305",
   "metadata": {},
   "outputs": [
    {
     "data": {
      "text/plain": [
       "6"
      ]
     },
     "execution_count": 5,
     "metadata": {},
     "output_type": "execute_result"
    }
   ],
   "source": [
    "m.floor(6.5)"
   ]
  },
  {
   "cell_type": "code",
   "execution_count": 6,
   "id": "e4350133-37f8-49d7-8bd0-e9ed097e8819",
   "metadata": {},
   "outputs": [],
   "source": [
    "#user defined function\n",
    "#def func():"
   ]
  },
  {
   "cell_type": "code",
   "execution_count": 7,
   "id": "5746edfc-bf87-46c6-9feb-eea2dc301562",
   "metadata": {},
   "outputs": [],
   "source": [
    "#funtion is a block of code which perform some specific task"
   ]
  },
  {
   "cell_type": "code",
   "execution_count": 8,
   "id": "e8c23488-a592-4c56-9eea-5db85310ebba",
   "metadata": {},
   "outputs": [],
   "source": [
    "#function are reusable\n",
    "\n",
    "def greets():\n",
    "    print(\"welcome to the office\")"
   ]
  },
  {
   "cell_type": "code",
   "execution_count": 9,
   "id": "83314a3b-6c73-4fc6-9673-7a3e92f4120d",
   "metadata": {},
   "outputs": [
    {
     "name": "stdout",
     "output_type": "stream",
     "text": [
      "welcome to the office\n"
     ]
    }
   ],
   "source": [
    "greets()"
   ]
  },
  {
   "cell_type": "code",
   "execution_count": 11,
   "id": "78c4a3c4-a272-4cd6-b6a8-8aaef410e4c7",
   "metadata": {},
   "outputs": [
    {
     "name": "stdout",
     "output_type": "stream",
     "text": [
      "welcome to the office ajay\n"
     ]
    }
   ],
   "source": [
    "def greets(name):\n",
    "    print(\"welcome to the office\", name)\n",
    "\n",
    "greets(\"ajay\")"
   ]
  },
  {
   "cell_type": "code",
   "execution_count": 13,
   "id": "41135766-1095-4d5b-838f-a7359213e7ae",
   "metadata": {},
   "outputs": [
    {
     "data": {
      "text/plain": [
       "'this is my first functionin python'"
      ]
     },
     "execution_count": 13,
     "metadata": {},
     "output_type": "execute_result"
    }
   ],
   "source": [
    "def func():\n",
    "    return \"this is my first function\"\n",
    "\n",
    "func() + \"in python\""
   ]
  },
  {
   "cell_type": "code",
   "execution_count": 14,
   "id": "54762b14-03bb-486d-b151-1f7887ac41b3",
   "metadata": {},
   "outputs": [
    {
     "data": {
      "text/plain": [
       "str"
      ]
     },
     "execution_count": 14,
     "metadata": {},
     "output_type": "execute_result"
    }
   ],
   "source": [
    "a = func()\n",
    "type(a)"
   ]
  },
  {
   "cell_type": "code",
   "execution_count": 15,
   "id": "68e46922-6e9e-486c-a98d-19c0cb3d8767",
   "metadata": {},
   "outputs": [
    {
     "data": {
      "text/plain": [
       "25"
      ]
     },
     "execution_count": 15,
     "metadata": {},
     "output_type": "execute_result"
    }
   ],
   "source": [
    "def func():\n",
    "    cal = 2+3+4*5\n",
    "    return cal\n",
    "func()"
   ]
  },
  {
   "cell_type": "code",
   "execution_count": 16,
   "id": "601db32a-0786-458c-b239-1fbf0519ff91",
   "metadata": {},
   "outputs": [
    {
     "data": {
      "text/plain": [
       "64"
      ]
     },
     "execution_count": 16,
     "metadata": {},
     "output_type": "execute_result"
    }
   ],
   "source": [
    "def square_no(a):\n",
    "    return a*a\n",
    "square_no(8)"
   ]
  },
  {
   "cell_type": "code",
   "execution_count": 17,
   "id": "47084005-e741-47c4-91b3-c6911f6be09a",
   "metadata": {},
   "outputs": [
    {
     "data": {
      "text/plain": [
       "11"
      ]
     },
     "execution_count": 17,
     "metadata": {},
     "output_type": "execute_result"
    }
   ],
   "source": [
    "def add(a, b):\n",
    "    return a+b\n",
    "add(4, 7)"
   ]
  },
  {
   "cell_type": "code",
   "execution_count": null,
   "id": "eebbe50b-75a9-4331-97dc-79385ba345b2",
   "metadata": {},
   "outputs": [
    {
     "data": {
      "text/plain": [
       "'sukhkaur'"
      ]
     },
     "execution_count": 18,
     "metadata": {},
     "output_type": "execute_result"
    }
   ],
   "source": [
    "add(\"sukh\", \"kaur\")"
   ]
  },
  {
   "cell_type": "code",
   "execution_count": null,
   "id": "96d6dc50-a6a9-43ac-a749-799c41039e0f",
   "metadata": {},
   "outputs": [
    {
     "data": {
      "text/plain": [
       "16"
      ]
     },
     "execution_count": 1,
     "metadata": {},
     "output_type": "execute_result"
    }
   ],
   "source": [
    "def sum1(a, b, c):\n",
    "    return a+b+c\n",
    "sum1(1, 6, 9)"
   ]
  },
  {
   "cell_type": "code",
   "execution_count": null,
   "id": "d5175a3b-ff42-4b6d-bbb8-ee962c925188",
   "metadata": {},
   "outputs": [
    {
     "data": {
      "text/plain": [
       "5"
      ]
     },
     "execution_count": 3,
     "metadata": {},
     "output_type": "execute_result"
    }
   ],
   "source": [
    "#default argument\n",
    "def sum1( b, c, a=0):\n",
    "    return a+b+c\n",
    "sum1(2, 3)"
   ]
  },
  {
   "cell_type": "code",
   "execution_count": null,
   "id": "9b957a39-6a15-41c8-82c6-b1a5d7fe4063",
   "metadata": {},
   "outputs": [
    {
     "name": "stdin",
     "output_type": "stream",
     "text": [
      "Enter the first number 5\n",
      "Enter the first number 7\n"
     ]
    },
    {
     "data": {
      "text/plain": [
       "12"
      ]
     },
     "execution_count": 4,
     "metadata": {},
     "output_type": "execute_result"
    }
   ],
   "source": [
    "def add_two_number():\n",
    "    a = int(input(\"Enter the first number\"))\n",
    "    b = int(input(\"Enter the first number\"))\n",
    "    return a+b\n",
    "add_two_number()"
   ]
  },
  {
   "cell_type": "code",
   "execution_count": null,
   "id": "95ef1c22-5170-49fb-ac87-09f11d6d25c2",
   "metadata": {},
   "outputs": [],
   "source": [
    "def only(a):\n",
    "    n = []\n",
    "    for i in a:\n",
    "        if type(i) == int or type(i) == float:\n",
    "            n.append(i)\n",
    "    \n",
    "    return n\n"
   ]
  },
  {
   "cell_type": "code",
   "execution_count": null,
   "id": "6d21e066-844c-4f0f-8404-4146075310bc",
   "metadata": {},
   "outputs": [
    {
     "data": {
      "text/plain": [
       "[1, 2.2]"
      ]
     },
     "execution_count": 7,
     "metadata": {},
     "output_type": "execute_result"
    }
   ],
   "source": [
    "only([1, 2.2, \"ajay\", True,])"
   ]
  },
  {
   "cell_type": "code",
   "execution_count": null,
   "id": "85f06398-bf61-433e-9173-f2666b33fcfc",
   "metadata": {},
   "outputs": [],
   "source": [
    "def only(a):\n",
    "    n = []\n",
    "    for i in a:\n",
    "        if type(i) == list:\n",
    "            for j in i:\n",
    "                if type(j) == int or type(j) == float:\n",
    "                    n.append(j)\n",
    "        else:\n",
    "            \n",
    "            if type(i) == int or type(i) == float:\n",
    "                n.append(i)\n",
    "    \n",
    "    return n"
   ]
  },
  {
   "cell_type": "code",
   "execution_count": null,
   "id": "8f715c55-fdf1-4c7f-a7d3-40a228da89d1",
   "metadata": {},
   "outputs": [
    {
     "ename": "NameError",
     "evalue": "name 'only' is not defined",
     "output_type": "error",
     "traceback": [
      "\u001b[0;31m---------------------------------------------------------------------------\u001b[0m",
      "\u001b[0;31mNameError\u001b[0m                                 Traceback (most recent call last)",
      "Cell \u001b[0;32mIn[1], line 1\u001b[0m\n\u001b[0;32m----> 1\u001b[0m \u001b[43monly\u001b[49m([\u001b[38;5;241m1\u001b[39m, \u001b[38;5;241m2.2\u001b[39m, \u001b[38;5;124m\"\u001b[39m\u001b[38;5;124majay\u001b[39m\u001b[38;5;124m\"\u001b[39m, \u001b[38;5;28;01mTrue\u001b[39;00m,[\u001b[38;5;241m5\u001b[39m, \u001b[38;5;241m6\u001b[39m, \u001b[38;5;241m7\u001b[39m, \u001b[38;5;124m\"\u001b[39m\u001b[38;5;124mSona\u001b[39m\u001b[38;5;124m\"\u001b[39m]])\n",
      "\u001b[0;31mNameError\u001b[0m: name 'only' is not defined"
     ]
    }
   ],
   "source": [
    "only([1, 2.2, \"ajay\", True,[5, 6, 7, \"Sona\"]])"
   ]
  },
  {
   "cell_type": "code",
   "execution_count": null,
   "id": "552d1f6c-20a2-4efc-b56b-b83efafbb26b",
   "metadata": {},
   "outputs": [
    {
     "data": {
      "text/plain": [
       "[1, 2.2, 5, 6, 7]"
      ]
     },
     "execution_count": 3,
     "metadata": {},
     "output_type": "execute_result"
    }
   ],
   "source": [
    "def only(a):\n",
    "    n = []\n",
    "    for i in a:\n",
    "        if type(i) == list:\n",
    "            for j in i:\n",
    "                if type(j) == int or type(j) == float:\n",
    "                    n.append(j)\n",
    "        else:\n",
    "            \n",
    "            if type(i) == int or type(i) == float:\n",
    "                n.append(i)\n",
    "    \n",
    "    return n\n",
    "only([1, 2.2, \"ajay\", True,[5, 6, 7, \"Sona\"]])"
   ]
  },
  {
   "cell_type": "code",
   "execution_count": null,
   "id": "2b1f8ee3-03a3-4d0d-889c-4519867b2945",
   "metadata": {},
   "outputs": [
    {
     "data": {
      "text/plain": [
       "12"
      ]
     },
     "execution_count": 15,
     "metadata": {},
     "output_type": "execute_result"
    }
   ],
   "source": [
    "#variable length Argument>> how many number of argument we can expect\n",
    "\n",
    "def sum1(*args):\n",
    "    s = 0\n",
    "    for i in args:\n",
    "        s = s+i\n",
    "    return s\n",
    "sum1(1, 2, 4, 5)\n"
   ]
  },
  {
   "cell_type": "code",
   "execution_count": null,
   "id": "ebeb5dc1-34bb-4ca7-b371-08fc687cb78a",
   "metadata": {},
   "outputs": [],
   "source": [
    "#variable argument with default argument?\n",
    "\n",
    "def test(*args, a):\n",
    "    return args, a"
   ]
  },
  {
   "cell_type": "code",
   "execution_count": null,
   "id": "239e40da-ba4f-4804-816a-097f3c040d0a",
   "metadata": {},
   "outputs": [
    {
     "data": {
      "text/plain": [
       "((1, 2, 3), 'rest')"
      ]
     },
     "execution_count": 17,
     "metadata": {},
     "output_type": "execute_result"
    }
   ],
   "source": [
    "test(1, 2, 3, a = \"rest\")"
   ]
  },
  {
   "cell_type": "code",
   "execution_count": null,
   "id": "97f634bb-f2da-4c48-ad94-eb9c8656a424",
   "metadata": {},
   "outputs": [
    {
     "data": {
      "text/plain": [
       "[[5, 6, 7, 8], [8, 9, 7]]"
      ]
     },
     "execution_count": 18,
     "metadata": {},
     "output_type": "execute_result"
    }
   ],
   "source": [
    "#varibale takes any number of argumeny\n",
    "#positional argument>> Fixed  argumet\n",
    "#write a function can take any number of value and return a list\n",
    "def re_list(*args):\n",
    "    l = []\n",
    "    for i in args:\n",
    "        if type(i) == list:\n",
    "            l.append(i)\n",
    "    return l\n",
    "\n",
    "re_list(1, 2, 3, 4,[5, 6, 7, 8],[8, 9, 7], {14, 15, 18,})"
   ]
  },
  {
   "cell_type": "code",
   "execution_count": null,
   "id": "3bffae3c-5b3c-44a5-8805-cf6c1e8eb590",
   "metadata": {},
   "outputs": [
    {
     "data": {
      "text/plain": [
       "((1, 2, 3, 4), {'a': 100, 'b': 500})"
      ]
     },
     "execution_count": 21,
     "metadata": {},
     "output_type": "execute_result"
    }
   ],
   "source": [
    "def test1(*args, **args1):\n",
    "    return args,args1\n",
    "test1(1, 2, 3, 4, a=100, b=500)"
   ]
  },
  {
   "cell_type": "code",
   "execution_count": null,
   "id": "b33018ba-2b76-484b-99a2-87bff7905550",
   "metadata": {},
   "outputs": [
    {
     "name": "stdout",
     "output_type": "stream",
     "text": [
      "Hello, welcome!\n"
     ]
    }
   ],
   "source": [
    "#python namespace\n",
    "def greet():\n",
    "    message = \"Hello, welcome!\" #message vaiable is loacl variable\n",
    "    print(message)\n",
    "greet()"
   ]
  },
  {
   "cell_type": "code",
   "execution_count": null,
   "id": "72886efc-39eb-4225-951e-ed54a7857708",
   "metadata": {},
   "outputs": [],
   "source": []
  },
  {
   "cell_type": "code",
   "execution_count": null,
   "id": "b1ff064f-be2a-43e1-843c-b920bc19fbcb",
   "metadata": {},
   "outputs": [
    {
     "name": "stdout",
     "output_type": "stream",
     "text": [
      "Hello, welcome! to the course\n"
     ]
    }
   ],
   "source": [
    "subpart = \" to the course\" #globle variable\n",
    "def greet():\n",
    "    message = \"Hello, welcome!\" + subpart #message vaiable is loacl variable\n",
    "    print(message)\n",
    "greet()"
   ]
  },
  {
   "cell_type": "code",
   "execution_count": null,
   "id": "bc7c0b4f-1a26-4473-b5f5-8557610e378c",
   "metadata": {},
   "outputs": [
    {
     "data": {
      "text/plain": [
       "30"
      ]
     },
     "execution_count": 28,
     "metadata": {},
     "output_type": "execute_result"
    }
   ],
   "source": [
    "#Loal varaible>> a function defined inside a function\n",
    "# Global variable> access anywhere\n",
    "# function inside a function\n",
    "\n",
    "def marks_sub(**kwargs):\n",
    "    def total_marks(marks_list):\n",
    "        return sum(marks_list)\n",
    "    marks_list = []\n",
    "    for sub, marks in kwargs.items():\n",
    "        marks_list.append(marks)\n",
    "        \n",
    "    return total_marks(marks_list)\n",
    "\n",
    "marks_sub( a = 10, b = 20)"
   ]
  },
  {
   "cell_type": "code",
   "execution_count": null,
   "id": "944f39d6-b5af-4c91-9d67-e8066af02d63",
   "metadata": {},
   "outputs": [],
   "source": [
    "#iterable >> An iterable is any python obeject or sequencial structure that is capable of retrning its  member on eat a time."
   ]
  },
  {
   "cell_type": "code",
   "execution_count": 2,
   "id": "c39e6c20-d936-4f07-9d4d-aa24d1ee4a16",
   "metadata": {},
   "outputs": [
    {
     "name": "stdout",
     "output_type": "stream",
     "text": [
      "1\n",
      "2\n",
      "Ajay\n"
     ]
    }
   ],
   "source": [
    "#permitting it to be iterated over in a for loop\n",
    "\n",
    "lis = [1, 2, \"Ajay\"]\n",
    "for i in lis:\n",
    "    print("
   ]
  },
  {
   "cell_type": "code",
   "execution_count": 1,
   "id": "fa902ac5-f8f6-4d04-a41e-c248cb43c86c",
   "metadata": {},
   "outputs": [],
   "source": [
    "#iteration is a process of looping through of elemments for an iterable"
   ]
  },
  {
   "cell_type": "code",
   "execution_count": 7,
   "id": "86f9c277-712e-4436-a183-f934864019d0",
   "metadata": {},
   "outputs": [
    {
     "data": {
      "text/plain": [
       "<set_iterator at 0x76c1bc16dd00>"
      ]
     },
     "execution_count": 7,
     "metadata": {},
     "output_type": "execute_result"
    }
   ],
   "source": [
    "l = iter({1, 2, 3,4})\n",
    "l"
   ]
  },
  {
   "cell_type": "code",
   "execution_count": 8,
   "id": "45421af9-cf36-440e-a60c-46458e62541b",
   "metadata": {},
   "outputs": [
    {
     "data": {
      "text/plain": [
       "1"
      ]
     },
     "execution_count": 8,
     "metadata": {},
     "output_type": "execute_result"
    }
   ],
   "source": [
    "next(l)"
   ]
  },
  {
   "cell_type": "code",
   "execution_count": 11,
   "id": "23f626ff-340a-4553-9015-cf0162a5572d",
   "metadata": {},
   "outputs": [
    {
     "data": {
      "text/plain": [
       "[0, 1, 4, 9, 16, 25, 36, 49, 64, 81]"
      ]
     },
     "execution_count": 11,
     "metadata": {},
     "output_type": "execute_result"
    }
   ],
   "source": [
    "# what is genrator Function?\n",
    "\n",
    "def square_number(n):\n",
    "    s = []\n",
    "    for i in range(n):\n",
    "        s.append(i ** 2)\n",
    "    return s\n",
    "\n",
    "square_number(10)      "
   ]
  },
  {
   "cell_type": "code",
   "execution_count": 13,
   "id": "c22d3511-673c-4a34-880c-6382a9a80525",
   "metadata": {},
   "outputs": [
    {
     "data": {
      "text/plain": [
       "<generator object square_number at 0x76c1a27eb760>"
      ]
     },
     "execution_count": 13,
     "metadata": {},
     "output_type": "execute_result"
    }
   ],
   "source": [
    "#yield >> general function use return and genrator function use yield\n",
    "def square_number(n):\n",
    "    s = []\n",
    "    for i in range(n):\n",
    "        yield i ** 2\n",
    "\n",
    "square_number(10)"
   ]
  },
  {
   "cell_type": "code",
   "execution_count": 14,
   "id": "f64c8a02-5b27-45ef-a886-babd1000224b",
   "metadata": {},
   "outputs": [
    {
     "data": {
      "text/plain": [
       "<generator object square_number at 0x76c1a27ebbc0>"
      ]
     },
     "execution_count": 14,
     "metadata": {},
     "output_type": "execute_result"
    }
   ],
   "source": [
    "gen = square_number(10)\n",
    "gen"
   ]
  },
  {
   "cell_type": "code",
   "execution_count": 15,
   "id": "5a8260a3-fccd-4c2e-afe3-4a54b1c7677c",
   "metadata": {},
   "outputs": [
    {
     "data": {
      "text/plain": [
       "0"
      ]
     },
     "execution_count": 15,
     "metadata": {},
     "output_type": "execute_result"
    }
   ],
   "source": [
    "next(gen)"
   ]
  },
  {
   "cell_type": "code",
   "execution_count": 16,
   "id": "25c3a689-ac4c-4757-85e9-21246452ebda",
   "metadata": {},
   "outputs": [
    {
     "data": {
      "text/plain": [
       "1"
      ]
     },
     "execution_count": 16,
     "metadata": {},
     "output_type": "execute_result"
    }
   ],
   "source": [
    "next(gen)"
   ]
  },
  {
   "cell_type": "code",
   "execution_count": 17,
   "id": "6b52e4ef-13dc-4181-8a6f-f8fac71314a8",
   "metadata": {},
   "outputs": [
    {
     "data": {
      "text/plain": [
       "4"
      ]
     },
     "execution_count": 17,
     "metadata": {},
     "output_type": "execute_result"
    }
   ],
   "source": [
    "next(gen)"
   ]
  },
  {
   "cell_type": "code",
   "execution_count": 18,
   "id": "690e8a64-cb85-4057-aa38-a65dabb83de1",
   "metadata": {},
   "outputs": [
    {
     "data": {
      "text/plain": [
       "9"
      ]
     },
     "execution_count": 18,
     "metadata": {},
     "output_type": "execute_result"
    }
   ],
   "source": [
    "next(gen)"
   ]
  },
  {
   "cell_type": "code",
   "execution_count": 19,
   "id": "2427b1c9-d37a-4b3b-ab9d-86d6dc83de46",
   "metadata": {},
   "outputs": [
    {
     "data": {
      "text/plain": [
       "16"
      ]
     },
     "execution_count": 19,
     "metadata": {},
     "output_type": "execute_result"
    }
   ],
   "source": [
    "next(gen)"
   ]
  },
  {
   "cell_type": "code",
   "execution_count": 20,
   "id": "78c2f742-417f-4db7-abfd-a47f31c502ed",
   "metadata": {},
   "outputs": [
    {
     "data": {
      "text/plain": [
       "25"
      ]
     },
     "execution_count": 20,
     "metadata": {},
     "output_type": "execute_result"
    }
   ],
   "source": [
    "next(gen)"
   ]
  },
  {
   "cell_type": "code",
   "execution_count": 22,
   "id": "02a0fe02-40e5-44a6-94ac-d2aa81dfce9b",
   "metadata": {},
   "outputs": [
    {
     "data": {
      "text/plain": [
       "<generator object febo at 0x76c1a2328430>"
      ]
     },
     "execution_count": 22,
     "metadata": {},
     "output_type": "execute_result"
    }
   ],
   "source": [
    "#fibonacci seies\n",
    "\n",
    "def febo(n):\n",
    "    a = 0\n",
    "    b = 1\n",
    "    for i in range(n):\n",
    "        yield a \n",
    "        a, b = b, a+b\n",
    "f = febo(10)\n",
    "f"
   ]
  },
  {
   "cell_type": "code",
   "execution_count": 23,
   "id": "c8b4a9dd-e99a-4b0b-96e9-636bdd26b840",
   "metadata": {},
   "outputs": [
    {
     "data": {
      "text/plain": [
       "0"
      ]
     },
     "execution_count": 23,
     "metadata": {},
     "output_type": "execute_result"
    }
   ],
   "source": [
    "next(f)"
   ]
  },
  {
   "cell_type": "code",
   "execution_count": 24,
   "id": "01854193-b00d-4b16-8f9f-3b32704f3d9a",
   "metadata": {},
   "outputs": [
    {
     "data": {
      "text/plain": [
       "1"
      ]
     },
     "execution_count": 24,
     "metadata": {},
     "output_type": "execute_result"
    }
   ],
   "source": [
    "next(f)"
   ]
  },
  {
   "cell_type": "code",
   "execution_count": 25,
   "id": "6d144b3f-8d10-437d-b642-61066047c004",
   "metadata": {},
   "outputs": [
    {
     "data": {
      "text/plain": [
       "1"
      ]
     },
     "execution_count": 25,
     "metadata": {},
     "output_type": "execute_result"
    }
   ],
   "source": [
    "next(f)"
   ]
  },
  {
   "cell_type": "code",
   "execution_count": 26,
   "id": "9ddaf781-8181-4201-89ab-20fc8464c31d",
   "metadata": {},
   "outputs": [
    {
     "data": {
      "text/plain": [
       "2"
      ]
     },
     "execution_count": 26,
     "metadata": {},
     "output_type": "execute_result"
    }
   ],
   "source": [
    "next(f)"
   ]
  },
  {
   "cell_type": "code",
   "execution_count": 1,
   "id": "e57cfeec-d3a1-48d5-be10-c2d845e1054f",
   "metadata": {},
   "outputs": [],
   "source": [
    "#Lembda funcction is anonyous funcion\n",
    "#No need to write return statement\n",
    "\n"
   ]
  },
  {
   "cell_type": "code",
   "execution_count": 3,
   "id": "46504360-cdd9-40aa-af81-9bff459c9f3e",
   "metadata": {},
   "outputs": [],
   "source": [
    "sql_lembda = lambda x: x**2"
   ]
  },
  {
   "cell_type": "code",
   "execution_count": 5,
   "id": "10a44753-8c4f-4651-bf63-03eb3da0358c",
   "metadata": {},
   "outputs": [
    {
     "data": {
      "text/plain": [
       "4"
      ]
     },
     "execution_count": 5,
     "metadata": {},
     "output_type": "execute_result"
    }
   ],
   "source": [
    "sql_lembda(2)"
   ]
  },
  {
   "cell_type": "code",
   "execution_count": 6,
   "id": "c4d362c7-c89a-43bc-ad2d-3a4b1bc2cb6f",
   "metadata": {},
   "outputs": [
    {
     "data": {
      "text/plain": [
       "7"
      ]
     },
     "execution_count": 6,
     "metadata": {},
     "output_type": "execute_result"
    }
   ],
   "source": [
    "add = lambda a, b: a+b\n",
    "add(2, 5)"
   ]
  },
  {
   "cell_type": "code",
   "execution_count": 7,
   "id": "19fdc812-b9b3-4ea6-981a-8c737c8e956a",
   "metadata": {},
   "outputs": [
    {
     "data": {
      "text/plain": [
       "4"
      ]
     },
     "execution_count": 7,
     "metadata": {},
     "output_type": "execute_result"
    }
   ],
   "source": [
    "x = [\"python\", \"ajay\", \"roman\"]\n",
    "\n",
    "le = lambda x: len(x)\n",
    "le(\"Ajay\")"
   ]
  },
  {
   "cell_type": "code",
   "execution_count": 8,
   "id": "92f306bc-ef45-4b8a-aa69-80adb64ba14d",
   "metadata": {},
   "outputs": [
    {
     "data": {
      "text/plain": [
       "['ajay', 'roman', 'python']"
      ]
     },
     "execution_count": 8,
     "metadata": {},
     "output_type": "execute_result"
    }
   ],
   "source": [
    "sorted(x, key = lambda x: len(x))"
   ]
  },
  {
   "cell_type": "code",
   "execution_count": 12,
   "id": "263a1305-9751-4444-a81f-dd3469b5a5b2",
   "metadata": {},
   "outputs": [
    {
     "data": {
      "text/plain": [
       "[0, 1, 1, 2, 3, 5, 8, 13, 21, 34]"
      ]
     },
     "execution_count": 12,
     "metadata": {},
     "output_type": "execute_result"
    }
   ],
   "source": [
    "#fibonacii series using lambda\n",
    "fib = lambda n: n if n<=1 else fib(n-1)+fib(n-2)\n",
    "[fib(i) for i in range(10)]"
   ]
  },
  {
   "cell_type": "code",
   "execution_count": 13,
   "id": "ccd6f592-b742-45ba-a2c6-be80ccbe59a8",
   "metadata": {},
   "outputs": [
    {
     "data": {
      "text/plain": [
       "120"
      ]
     },
     "execution_count": 13,
     "metadata": {},
     "output_type": "execute_result"
    }
   ],
   "source": [
    "# factorial of given number\n",
    "\n",
    "def fact(n):\n",
    "    if n==0:\n",
    "        return 1\n",
    "    else:\n",
    "        return n*fact(n-1)\n",
    "fact(5)"
   ]
  },
  {
   "cell_type": "code",
   "execution_count": 15,
   "id": "ee77f94c-0d5b-4df0-bb1a-6cbf41aa63db",
   "metadata": {},
   "outputs": [
    {
     "data": {
      "text/plain": [
       "120"
      ]
     },
     "execution_count": 15,
     "metadata": {},
     "output_type": "execute_result"
    }
   ],
   "source": [
    "fact = lambda n: 1 if n==0 else n*fact(n-1)\n",
    "fact(5)"
   ]
  },
  {
   "cell_type": "code",
   "execution_count": 16,
   "id": "edb7d954-21e0-4671-a0d1-df0b7c69aaad",
   "metadata": {},
   "outputs": [],
   "source": [
    "#map function> Executes a specified functon for each of item in itratble\n",
    "#syntax>> map(func, *iterables)\n",
    "\n",
    "l = [1, 2, 3, 4, 5]\n",
    "def square(l):\n",
    "    sq = []\n",
    "    for i in l:\n",
    "        sq.append(i**2)\n",
    "    return sq\n",
    "        "
   ]
  },
  {
   "cell_type": "code",
   "execution_count": 17,
   "id": "7f23cf60-35be-4d90-93a4-920908ce1f6a",
   "metadata": {},
   "outputs": [
    {
     "data": {
      "text/plain": [
       "[1, 4, 9, 16, 25]"
      ]
     },
     "execution_count": 17,
     "metadata": {},
     "output_type": "execute_result"
    }
   ],
   "source": [
    "square(l)"
   ]
  },
  {
   "cell_type": "code",
   "execution_count": 18,
   "id": "2ed10b6d-016a-477d-a9b9-9494411a86b7",
   "metadata": {},
   "outputs": [
    {
     "data": {
      "text/plain": [
       "[1, 2, 3, 4, 5]"
      ]
     },
     "execution_count": 18,
     "metadata": {},
     "output_type": "execute_result"
    }
   ],
   "source": [
    "def sq(x):\n",
    "    return x**2\n",
    "l"
   ]
  },
  {
   "cell_type": "code",
   "execution_count": 20,
   "id": "d14b8a67-d126-479d-93e8-dc34e1389e7a",
   "metadata": {},
   "outputs": [
    {
     "data": {
      "text/plain": [
       "[1, 4, 9, 16, 25]"
      ]
     },
     "execution_count": 20,
     "metadata": {},
     "output_type": "execute_result"
    }
   ],
   "source": [
    "list(map(sq, l))"
   ]
  },
  {
   "cell_type": "code",
   "execution_count": 21,
   "id": "21485b89-845b-4301-8b3d-4e259c504f01",
   "metadata": {},
   "outputs": [
    {
     "data": {
      "text/plain": [
       "[11, 12, 13, 14, 15]"
      ]
     },
     "execution_count": 21,
     "metadata": {},
     "output_type": "execute_result"
    }
   ],
   "source": [
    "def add(x):\n",
    "    return x+10\n",
    "list(map(add, l))"
   ]
  },
  {
   "cell_type": "code",
   "execution_count": 22,
   "id": "9f1e40e8-dbe8-438d-bee6-e4f685ccfb8d",
   "metadata": {},
   "outputs": [
    {
     "data": {
      "text/plain": [
       "[1, 4, 9, 16, 25]"
      ]
     },
     "execution_count": 22,
     "metadata": {},
     "output_type": "execute_result"
    }
   ],
   "source": [
    "#using lambda function with map\n",
    "\n",
    "list(map(lambda x: x**2, l))"
   ]
  },
  {
   "cell_type": "code",
   "execution_count": 23,
   "id": "54a881bb-856c-467e-921a-7f2d047e66e2",
   "metadata": {},
   "outputs": [
    {
     "data": {
      "text/plain": [
       "[11, 12, 13, 14, 15]"
      ]
     },
     "execution_count": 23,
     "metadata": {},
     "output_type": "execute_result"
    }
   ],
   "source": [
    "list(map(lambda x: x+10, l))"
   ]
  },
  {
   "cell_type": "code",
   "execution_count": 25,
   "id": "689713bb-0d50-4fe2-86eb-1c5233fc556f",
   "metadata": {},
   "outputs": [
    {
     "data": {
      "text/plain": [
       "[101, 202, 303, 404]"
      ]
     },
     "execution_count": 25,
     "metadata": {},
     "output_type": "execute_result"
    }
   ],
   "source": [
    "l1 = [100, 200, 300, 400]\n",
    "l2 = [1, 2, 3, 4]\n",
    "list(map(lambda x, y: x+y, l1, l2))"
   ]
  },
  {
   "cell_type": "code",
   "execution_count": 27,
   "id": "4961c5a1-52ad-4774-921a-06c8dbf53f84",
   "metadata": {},
   "outputs": [
    {
     "data": {
      "text/plain": [
       "['Python', 'Sukh']"
      ]
     },
     "execution_count": 27,
     "metadata": {},
     "output_type": "execute_result"
    }
   ],
   "source": [
    "words = [\"python\", \"sukh\"]\n",
    "list(map(str.capitalize, words))"
   ]
  },
  {
   "cell_type": "code",
   "execution_count": 28,
   "id": "69106565-1572-457d-aad2-9b70540f2594",
   "metadata": {},
   "outputs": [
    {
     "data": {
      "text/plain": [
       "[1, 3, 2, 2]"
      ]
     },
     "execution_count": 28,
     "metadata": {},
     "output_type": "execute_result"
    }
   ],
   "source": [
    "grades =[\"A\", \"b\", \"c\", \"D\"]\n",
    "list(map(lambda grade: 1 if grade == \"A\" else (3 if grade == \"b\" else 2), grades))"
   ]
  },
  {
   "cell_type": "code",
   "execution_count": 29,
   "id": "b72e36ca-b53c-4008-86da-edec70953d23",
   "metadata": {},
   "outputs": [],
   "source": [
    "#Reduce Function>> folding\n",
    "#syntax>> reduce(func, iterable)\n",
    "#reduce always take two argument function\n",
    "from functools import reduce"
   ]
  },
  {
   "cell_type": "code",
   "execution_count": 31,
   "id": "d46dd7ad-8712-41f4-a9e6-be8817f514f2",
   "metadata": {},
   "outputs": [
    {
     "data": {
      "text/plain": [
       "25"
      ]
     },
     "execution_count": 31,
     "metadata": {},
     "output_type": "execute_result"
    }
   ],
   "source": [
    "l = [2, 1, 3, 4, 4, 5, 6]\n",
    "reduce(lambda x, y: x+y, l)"
   ]
  },
  {
   "cell_type": "code",
   "execution_count": 32,
   "id": "dc3160a9-1935-46f2-9bfd-75eddcd170c1",
   "metadata": {},
   "outputs": [
    {
     "data": {
      "text/plain": [
       "'data science course'"
      ]
     },
     "execution_count": 32,
     "metadata": {},
     "output_type": "execute_result"
    }
   ],
   "source": [
    "words = [\"data\", \"science\", \"course\"]\n",
    "reduce(lambda x, y: x+ \" \"+y, words)"
   ]
  },
  {
   "cell_type": "code",
   "execution_count": 33,
   "id": "8799491f-2867-4b7a-946d-2ec14e134d9d",
   "metadata": {},
   "outputs": [
    {
     "data": {
      "text/plain": [
       "[2, 1, 3, 4, 4, 5, 6]"
      ]
     },
     "execution_count": 33,
     "metadata": {},
     "output_type": "execute_result"
    }
   ],
   "source": [
    "#filter is used to filter element from iterable using some condition\n",
    "#syntax>> filter(function, iterable)\n",
    "l"
   ]
  },
  {
   "cell_type": "code",
   "execution_count": 35,
   "id": "14e411f0-9733-49ca-b1d7-04126be36181",
   "metadata": {},
   "outputs": [
    {
     "data": {
      "text/plain": [
       "[2, 4, 4, 6]"
      ]
     },
     "execution_count": 35,
     "metadata": {},
     "output_type": "execute_result"
    }
   ],
   "source": [
    "list(filter(lambda x: x%2==0, l))"
   ]
  },
  {
   "cell_type": "code",
   "execution_count": 37,
   "id": "11fc2789-b752-4f01-b53f-c916c238156b",
   "metadata": {},
   "outputs": [
    {
     "data": {
      "text/plain": [
       "55"
      ]
     },
     "execution_count": 37,
     "metadata": {},
     "output_type": "execute_result"
    }
   ],
   "source": [
    "#write a program to create recursive function to calculate sum of no 0-10\n",
    "\n",
    "def sum_no(n):\n",
    "    if n:\n",
    "        return n + sum_no(n-1)\n",
    "    else: \n",
    "        return 0\n",
    "sum_no(10)"
   ]
  },
  {
   "cell_type": "code",
   "execution_count": 1,
   "id": "17975005-1f53-4aae-9683-d0f41f958680",
   "metadata": {},
   "outputs": [
    {
     "name": "stdin",
     "output_type": "stream",
     "text": [
      "Enter a string erttythyjh\n"
     ]
    },
    {
     "name": "stdout",
     "output_type": "stream",
     "text": [
      "string is not pangram\n"
     ]
    }
   ],
   "source": [
    "#write a python program to check if the string is pangram or not\n",
    "\n",
    "def is_pangram(s):\n",
    "    alphabet = \"qwertyuiopasdfghjklzxcvbnm\"\n",
    "    for i in alphabet:\n",
    "        if i not in s.lower():\n",
    "            return False\n",
    "    return True\n",
    "s = input(\"Enter a string\")\n",
    "if is_pangram(s):\n",
    "    print(\"string is pangram\")\n",
    "else:\n",
    "    print(\"string is not pangram\")\n",
    "    "
   ]
  },
  {
   "cell_type": "code",
   "execution_count": 2,
   "id": "d2322c76-6176-4d92-8e21-9a41fea72fa9",
   "metadata": {},
   "outputs": [
    {
     "name": "stdout",
     "output_type": "stream",
     "text": [
      "strings ['Monjo', 'Kakuda']\n",
      "float [2.2, 3.4]\n",
      "integer [1, 1, 2, 2]\n"
     ]
    }
   ],
   "source": [
    "# a list is given, sperate, integer, float, string in the three list\n",
    "\n",
    "# [ 1, 1, 2, 2, 2.2, 3.4, \"Monjo\", \"Kakuda\"]\n",
    "\n",
    "def seprate(s):\n",
    "    s = [ 1, 1, 2, 2, 2.2, 3.4, \"Monjo\", \"Kakuda\"]\n",
    "    strings = []\n",
    "    floats = []\n",
    "    ints = []\n",
    "    for i in s:\n",
    "        if type(i) == str:\n",
    "            strings.append(i)\n",
    "        elif type(i) == float:\n",
    "            floats.append(i)\n",
    "        elif type(i) == int:\n",
    "            ints.append(i)\n",
    "    return strings, floats, ints\n",
    "\n",
    "strings, floats, ints = seprate(s)\n",
    "print(\"strings\", strings)\n",
    "print(\"float\", floats)\n",
    "print(\"integer\", ints)\n"
   ]
  },
  {
   "cell_type": "code",
   "execution_count": 7,
   "id": "e7520f76-6607-4813-b774-4b1c939408ee",
   "metadata": {},
   "outputs": [
    {
     "name": "stdout",
     "output_type": "stream",
     "text": [
      "strings ['Monjo', 'Monjo', 'Monjo', 'Monjo', 'Monjo', 'Monjo', 'Monjo', 'Monjo', 'Monjo', 'Kakuda', 'Kakuda', 'Kakuda', 'Kakuda', 'Kakuda', 'Kakuda', 'Kakuda', 'Kakuda', 'Kakuda']\n",
      "float [2.2, 2.2, 2.2, 2.2, 2.2, 2.2, 2.2, 2.2, 2.2, 3.4, 3.4, 3.4, 3.4, 3.4, 3.4, 3.4, 3.4, 3.4]\n",
      "integer [1, 1, 1, 1, 1, 1, 1, 1, 1, 1, 1, 1, 1, 1, 1, 1, 1, 1, 2, 2, 2, 2, 2, 2, 2, 2, 2, 2, 2, 2, 2, 2, 2, 2, 2, 2]\n"
     ]
    }
   ],
   "source": [
    "def seprate(s):\n",
    "    s = [ 1, 1, 2, 2, 2.2, 3.4, [7, 8 , 9, 4], \"Monjo\", \"Kakuda\"]\n",
    "    strings = []\n",
    "    floats = []\n",
    "    ints = []\n",
    "    for i in s:\n",
    "        for j in s:\n",
    "            if type(i) == str:\n",
    "                strings.append(i)\n",
    "            elif type(i) == float:\n",
    "                floats.append(i)\n",
    "            elif type(i) == int:\n",
    "                ints.append(i)\n",
    "    return strings, floats, ints\n",
    "\n",
    "strings, floats, ints = seprate(s)\n",
    "print(\"strings\", strings)\n",
    "print(\"float\", floats)\n",
    "print(\"integer\", ints)\n"
   ]
  },
  {
   "cell_type": "code",
   "execution_count": 32,
   "id": "3a921397-73ec-424c-bd60-f842810ae970",
   "metadata": {},
   "outputs": [
    {
     "name": "stdout",
     "output_type": "stream",
     "text": [
      "[[1, 2, 3], (4, 5, 6), (7, 8, 9)]\n"
     ]
    }
   ],
   "source": [
    "#write a function which take variable keywords argument and variable length argument and return whichever is list or tuple\n",
    "\n",
    "def both_func(*args, **kwargs):\n",
    "    collections = []\n",
    "    \n",
    "    for i in args:\n",
    "        if type(i) == list or type(i) == tuple:\n",
    "            collections.append(i)\n",
    "    for key, value in kwargs.items():\n",
    "        if type(value) == list or type(value) == tuple:\n",
    "            collections.append(value)\n",
    "                    \n",
    "    return collections\n",
    "result = both_func([1, 2, 3], (4, 5, 6), name = \"sukh\", numbers = (7, 8, 9), message = \"word\")\n",
    "print(result)\n",
    "        "
   ]
  },
  {
   "cell_type": "code",
   "execution_count": null,
   "id": "07f1e5eb-fec3-4c62-a055-5020ffda9309",
   "metadata": {},
   "outputs": [],
   "source": []
  }
 ],
 "metadata": {
  "kernelspec": {
   "display_name": "Python 3 (ipykernel)",
   "language": "python",
   "name": "python3"
  },
  "language_info": {
   "codemirror_mode": {
    "name": "ipython",
    "version": 3
   },
   "file_extension": ".py",
   "mimetype": "text/x-python",
   "name": "python",
   "nbconvert_exporter": "python",
   "pygments_lexer": "ipython3",
   "version": "3.10.8"
  }
 },
 "nbformat": 4,
 "nbformat_minor": 5
}
