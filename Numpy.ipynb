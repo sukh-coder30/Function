{
 "cells": [
  {
   "cell_type": "code",
   "execution_count": 1,
   "id": "2314149d-830c-4b5b-b2c1-93399aa17333",
   "metadata": {},
   "outputs": [],
   "source": [
    "#Numpy>> Numerical Python\n",
    "#developed 2005 by Travis Oliphant\n",
    "#import numpy as np\n",
    "#np._version_\n",
    "#NUMPY STORE ARRAY IN HOMOGENOUSE ARRAY MATHMATICAL COMPUTATION FAST is imports c language that's why python is fastest progarmming language\n",
    "\n",
    "#mathematics Tool\n",
    "#matlab\n",
    "#lingo\n",
    "#tora\n",
    "#Spss\n"
   ]
  },
  {
   "cell_type": "code",
   "execution_count": 3,
   "id": "a4ab27d2-6b41-43e0-bd0d-377ffcf825e2",
   "metadata": {},
   "outputs": [],
   "source": [
    "import numpy as np\n"
   ]
  },
  {
   "cell_type": "code",
   "execution_count": 5,
   "id": "0928df36-98d0-4297-9536-7dab187dd013",
   "metadata": {},
   "outputs": [
    {
     "data": {
      "text/plain": [
       "numpy.ndarray"
      ]
     },
     "execution_count": 5,
     "metadata": {},
     "output_type": "execute_result"
    }
   ],
   "source": [
    "a = np.array([1, 2,3 ,4])\n",
    "type(a)"
   ]
  },
  {
   "cell_type": "code",
   "execution_count": 6,
   "id": "140f0ee1-e729-42ac-9fec-18a19b18d0d6",
   "metadata": {},
   "outputs": [
    {
     "data": {
      "text/plain": [
       "numpy.ndarray"
      ]
     },
     "execution_count": 6,
     "metadata": {},
     "output_type": "execute_result"
    }
   ],
   "source": [
    "p = np.array([[1,2,3], [1,2,3]])\n",
    "\n",
    "type(p)"
   ]
  },
  {
   "cell_type": "code",
   "execution_count": 8,
   "id": "573aecc5-88cb-44c9-84f0-fec8c1c94ccf",
   "metadata": {},
   "outputs": [
    {
     "data": {
      "text/plain": [
       "array([[1, 2, 3],\n",
       "       [1, 2, 3]])"
      ]
     },
     "execution_count": 8,
     "metadata": {},
     "output_type": "execute_result"
    }
   ],
   "source": [
    "p"
   ]
  },
  {
   "cell_type": "code",
   "execution_count": 9,
   "id": "27783622-7b03-438a-9bd3-af610464b560",
   "metadata": {},
   "outputs": [],
   "source": [
    "#matrix is a specialized  2d array"
   ]
  },
  {
   "cell_type": "code",
   "execution_count": 10,
   "id": "bf09e36f-2e43-44a5-8f40-82ea8d01f073",
   "metadata": {},
   "outputs": [
    {
     "data": {
      "text/plain": [
       "array([1, 2, 3, 4, 5])"
      ]
     },
     "execution_count": 10,
     "metadata": {},
     "output_type": "execute_result"
    }
   ],
   "source": [
    "l = [1,2,3,4,5]\n",
    "np.array(l)"
   ]
  },
  {
   "cell_type": "code",
   "execution_count": 12,
   "id": "6f8fabad-1f2b-413a-a7f8-ecde62e6ef11",
   "metadata": {},
   "outputs": [],
   "source": [
    "t = (1, 2, 3, True)"
   ]
  },
  {
   "cell_type": "code",
   "execution_count": 11,
   "id": "b48fff10-0712-419d-9193-96d0189f6027",
   "metadata": {},
   "outputs": [
    {
     "data": {
      "text/plain": [
       "array([1, 2, 3, 4, 5])"
      ]
     },
     "execution_count": 11,
     "metadata": {},
     "output_type": "execute_result"
    }
   ],
   "source": [
    "np.array(l)"
   ]
  },
  {
   "cell_type": "code",
   "execution_count": 13,
   "id": "3eec9ad5-ea97-445e-a178-1e7bd8bce203",
   "metadata": {},
   "outputs": [
    {
     "data": {
      "text/plain": [
       "array([1, 2, 3, 1])"
      ]
     },
     "execution_count": 13,
     "metadata": {},
     "output_type": "execute_result"
    }
   ],
   "source": [
    "np.array(t)"
   ]
  },
  {
   "cell_type": "code",
   "execution_count": 14,
   "id": "60219fb6-469c-4cb3-b4e8-1f9916ed34e0",
   "metadata": {},
   "outputs": [],
   "source": [
    "s = {\"ram\":500, \"shyam\":300}"
   ]
  },
  {
   "cell_type": "code",
   "execution_count": 15,
   "id": "f50ce997-df14-4ff2-8107-cb3f7a63bcf1",
   "metadata": {},
   "outputs": [
    {
     "data": {
      "text/plain": [
       "array({'ram': 500, 'shyam': 300}, dtype=object)"
      ]
     },
     "execution_count": 15,
     "metadata": {},
     "output_type": "execute_result"
    }
   ],
   "source": [
    "np.array(s)"
   ]
  },
  {
   "cell_type": "code",
   "execution_count": 16,
   "id": "19e9964a-14af-4f14-841d-e4589f688e4e",
   "metadata": {},
   "outputs": [
    {
     "data": {
      "text/plain": [
       "array([[ True, False, False],\n",
       "       [False,  True, False],\n",
       "       [False, False,  True]])"
      ]
     },
     "execution_count": 16,
     "metadata": {},
     "output_type": "execute_result"
    }
   ],
   "source": [
    "np.fromfunction(lambda i, j: i==j, (3,3))"
   ]
  },
  {
   "cell_type": "code",
   "execution_count": 18,
   "id": "e2ac8671-0b25-4de9-ae26-2b265aba4dd8",
   "metadata": {},
   "outputs": [
    {
     "data": {
      "text/plain": [
       "array([0., 1., 2., 3., 4.])"
      ]
     },
     "execution_count": 18,
     "metadata": {},
     "output_type": "execute_result"
    }
   ],
   "source": [
    "#make an array from any tuple iterables\n",
    "\n",
    "iterator = (i for i in range(5))\n",
    "np.fromiter(iterator, float)"
   ]
  },
  {
   "cell_type": "code",
   "execution_count": 21,
   "id": "2cfa3251-b01a-44f9-a4ad-500639babd61",
   "metadata": {},
   "outputs": [
    {
     "data": {
      "text/plain": [
       "array([0, 1, 2, 3, 4, 5, 6, 7, 8, 9])"
      ]
     },
     "execution_count": 21,
     "metadata": {},
     "output_type": "execute_result"
    }
   ],
   "source": [
    "np.arange(10)"
   ]
  },
  {
   "cell_type": "code",
   "execution_count": 23,
   "id": "d8e30957-0602-4760-bc44-2e537c0d39c2",
   "metadata": {},
   "outputs": [
    {
     "data": {
      "text/plain": [
       "array([ 1.        ,  2.55555556,  4.11111111,  5.66666667,  7.22222222,\n",
       "        8.77777778, 10.33333333, 11.88888889, 13.44444444, 15.        ])"
      ]
     },
     "execution_count": 23,
     "metadata": {},
     "output_type": "execute_result"
    }
   ],
   "source": [
    "np.linspace(1, 15, 10)"
   ]
  },
  {
   "cell_type": "code",
   "execution_count": 25,
   "id": "efa00b91-3d93-4956-a248-e2dcfb5edcef",
   "metadata": {},
   "outputs": [
    {
     "data": {
      "text/plain": [
       "1"
      ]
     },
     "execution_count": 25,
     "metadata": {},
     "output_type": "execute_result"
    }
   ],
   "source": [
    "a = np.zeros(5)\n",
    "a.ndim"
   ]
  },
  {
   "cell_type": "code",
   "execution_count": 26,
   "id": "3f2f4660-08df-4e15-b598-2e23b60fc415",
   "metadata": {},
   "outputs": [
    {
     "data": {
      "text/plain": [
       "array([[1., 1., 1., 1.],\n",
       "       [1., 1., 1., 1.],\n",
       "       [1., 1., 1., 1.]])"
      ]
     },
     "execution_count": 26,
     "metadata": {},
     "output_type": "execute_result"
    }
   ],
   "source": [
    "s= np.ones((3,4))"
   ]
  },
  {
   "cell_type": "code",
   "execution_count": 31,
   "id": "62ed80d7-7853-41b3-b9ae-026d34438d6b",
   "metadata": {},
   "outputs": [
    {
     "data": {
      "text/plain": [
       "2"
      ]
     },
     "execution_count": 31,
     "metadata": {},
     "output_type": "execute_result"
    }
   ],
   "source": [
    "s = np.ones((3, 4))\n",
    "s.ndim"
   ]
  },
  {
   "cell_type": "code",
   "execution_count": 37,
   "id": "25a2d045-bd38-4fc3-9aac-b072a1a767bb",
   "metadata": {},
   "outputs": [
    {
     "data": {
      "text/plain": [
       "(1, 3, 4)"
      ]
     },
     "execution_count": 37,
     "metadata": {},
     "output_type": "execute_result"
    }
   ],
   "source": [
    "s = np.zeros((1,3, 4))\n",
    "s.shape"
   ]
  },
  {
   "cell_type": "code",
   "execution_count": 39,
   "id": "a35191e6-66d5-4086-ba9f-13f9ce30cbf5",
   "metadata": {},
   "outputs": [
    {
     "data": {
      "text/plain": [
       "array([[6., 6., 6., 6.],\n",
       "       [6., 6., 6., 6.],\n",
       "       [6., 6., 6., 6.]])"
      ]
     },
     "execution_count": 39,
     "metadata": {},
     "output_type": "execute_result"
    }
   ],
   "source": [
    "s= np.ones((3,4))\n",
    "s+5"
   ]
  },
  {
   "cell_type": "code",
   "execution_count": 40,
   "id": "71998a70-000f-41aa-a0aa-5efc27c02ffd",
   "metadata": {},
   "outputs": [
    {
     "data": {
      "text/plain": [
       "array([[5., 5., 5., 5.],\n",
       "       [5., 5., 5., 5.],\n",
       "       [5., 5., 5., 5.]])"
      ]
     },
     "execution_count": 40,
     "metadata": {},
     "output_type": "execute_result"
    }
   ],
   "source": [
    "s= np.ones((3,4))\n",
    "s*5"
   ]
  },
  {
   "cell_type": "code",
   "execution_count": 42,
   "id": "2acb228e-fd2b-4ec7-8fbb-8d0eab2b576b",
   "metadata": {},
   "outputs": [
    {
     "data": {
      "text/plain": [
       "array([[1, 0, 0, 0],\n",
       "       [0, 1, 0, 0],\n",
       "       [0, 0, 1, 0],\n",
       "       [0, 0, 0, 1]])"
      ]
     },
     "execution_count": 42,
     "metadata": {},
     "output_type": "execute_result"
    }
   ],
   "source": [
    "np.eye(4, dtype = int)"
   ]
  },
  {
   "cell_type": "code",
   "execution_count": 43,
   "id": "d3d976b8-8c66-491f-b0eb-c49c6d99e7db",
   "metadata": {},
   "outputs": [
    {
     "data": {
      "text/plain": [
       "0.4548556467365592"
      ]
     },
     "execution_count": 43,
     "metadata": {},
     "output_type": "execute_result"
    }
   ],
   "source": [
    "np.random.random_sample()"
   ]
  },
  {
   "cell_type": "code",
   "execution_count": 44,
   "id": "39adc9bb-df58-470d-8682-5a819094f39f",
   "metadata": {},
   "outputs": [
    {
     "data": {
      "text/plain": [
       "array([0.88140219, 0.13235412, 0.46090732, 0.55748608, 0.66508104])"
      ]
     },
     "execution_count": 44,
     "metadata": {},
     "output_type": "execute_result"
    }
   ],
   "source": [
    "np.random.random_sample((5, ))"
   ]
  },
  {
   "cell_type": "code",
   "execution_count": 45,
   "id": "0a022ec6-dc0d-4209-8cb3-9cacdd7489ac",
   "metadata": {},
   "outputs": [
    {
     "data": {
      "text/plain": [
       "array([[0.59398003, 0.05542739, 0.2874116 ],\n",
       "       [0.4407382 , 0.14965994, 0.7000018 ]])"
      ]
     },
     "execution_count": 45,
     "metadata": {},
     "output_type": "execute_result"
    }
   ],
   "source": [
    "np.random.rand(2,3)"
   ]
  },
  {
   "cell_type": "code",
   "execution_count": 47,
   "id": "8227da35-1b98-40c4-b396-bbd5aaa57028",
   "metadata": {},
   "outputs": [
    {
     "data": {
      "text/plain": [
       "array([[4, 2, 3, 3],\n",
       "       [4, 2, 3, 1],\n",
       "       [2, 4, 4, 3]])"
      ]
     },
     "execution_count": 47,
     "metadata": {},
     "output_type": "execute_result"
    }
   ],
   "source": [
    "arr = np.random.randint(1, 5, size = (3, 4))"
   ]
  },
  {
   "cell_type": "code",
   "execution_count": 50,
   "id": "1e46607d-3dd4-4a43-8842-d1a2c661b5d5",
   "metadata": {},
   "outputs": [
    {
     "data": {
      "text/plain": [
       "array([[3],\n",
       "       [3],\n",
       "       [1],\n",
       "       [2],\n",
       "       [4],\n",
       "       [2],\n",
       "       [3],\n",
       "       [4],\n",
       "       [1],\n",
       "       [4],\n",
       "       [1],\n",
       "       [3]])"
      ]
     },
     "execution_count": 50,
     "metadata": {},
     "output_type": "execute_result"
    }
   ],
   "source": [
    "arr = np.random.randint(1, 5, size = (3, 4))\n",
    "arr.reshape(12, 1)"
   ]
  },
  {
   "cell_type": "code",
   "execution_count": 51,
   "id": "c4fd7c46-85a3-465d-a4d8-a7c79e6f3dc1",
   "metadata": {},
   "outputs": [
    {
     "data": {
      "text/plain": [
       "array([[3, 3],\n",
       "       [1, 2],\n",
       "       [4, 2],\n",
       "       [3, 4],\n",
       "       [1, 4],\n",
       "       [1, 3]])"
      ]
     },
     "execution_count": 51,
     "metadata": {},
     "output_type": "execute_result"
    }
   ],
   "source": [
    "arr.reshape(-1, 2)"
   ]
  },
  {
   "cell_type": "code",
   "execution_count": 52,
   "id": "903aa889-24c0-45e7-8e64-d3a89dc0ef7a",
   "metadata": {},
   "outputs": [
    {
     "data": {
      "text/plain": [
       "12"
      ]
     },
     "execution_count": 52,
     "metadata": {},
     "output_type": "execute_result"
    }
   ],
   "source": [
    "arr.size"
   ]
  },
  {
   "cell_type": "code",
   "execution_count": 54,
   "id": "f6b7b2f8-9c2b-4990-be73-b6d4b14d41a0",
   "metadata": {},
   "outputs": [
    {
     "data": {
      "text/plain": [
       "array([[4],\n",
       "       [3]])"
      ]
     },
     "execution_count": 54,
     "metadata": {},
     "output_type": "execute_result"
    }
   ],
   "source": [
    "arr = np.random.randint(1, 5, size = (3, 4))\n",
    "arr[0:2, [0]]"
   ]
  },
  {
   "cell_type": "code",
   "execution_count": 55,
   "id": "e2a4d1d9-03d9-468a-8a27-aa48f7c21ad1",
   "metadata": {},
   "outputs": [
    {
     "data": {
      "text/plain": [
       "array([[4, 1],\n",
       "       [3, 1]])"
      ]
     },
     "execution_count": 55,
     "metadata": {},
     "output_type": "execute_result"
    }
   ],
   "source": [
    "arr[0:2, 0:2]"
   ]
  },
  {
   "cell_type": "code",
   "execution_count": 56,
   "id": "8914ab17-25cb-41ea-a427-806dd2c2dc19",
   "metadata": {},
   "outputs": [],
   "source": [
    "arr1 = np.random.randint(1, 5, size = (3, 4))\n",
    "arr  = np.random.randint(1, 5, size = (3, 4))"
   ]
  },
  {
   "cell_type": "code",
   "execution_count": 58,
   "id": "77ad24f9-26a3-4250-9217-debfddbbfc6e",
   "metadata": {},
   "outputs": [
    {
     "data": {
      "text/plain": [
       "array([[8, 3, 5, 5],\n",
       "       [5, 2, 4, 3],\n",
       "       [5, 4, 5, 6]])"
      ]
     },
     "execution_count": 58,
     "metadata": {},
     "output_type": "execute_result"
    }
   ],
   "source": [
    "arr1+arr"
   ]
  },
  {
   "cell_type": "code",
   "execution_count": 60,
   "id": "df6612a0-8757-48ca-9447-e2ad3ca2ec59",
   "metadata": {},
   "outputs": [
    {
     "data": {
      "text/plain": [
       "array([[27, 24, 30],\n",
       "       [15, 12, 16],\n",
       "       [16, 12, 16]])"
      ]
     },
     "execution_count": 60,
     "metadata": {},
     "output_type": "execute_result"
    }
   ],
   "source": [
    "arr1 = np.random.randint(1, 5, size = (3, 3))\n",
    "arr  = np.random.randint(1, 5, size = (3, 3))\n",
    "arr1 @ arr"
   ]
  },
  {
   "cell_type": "code",
   "execution_count": 61,
   "id": "bebc39d1-2097-42ee-a1f9-107da8bec4a2",
   "metadata": {},
   "outputs": [],
   "source": [
    "arr1 = np.random.randint(1, 5, size = (3, 3))"
   ]
  },
  {
   "cell_type": "code",
   "execution_count": 62,
   "id": "bfa215f0-59c8-4cad-83af-93253441f1da",
   "metadata": {},
   "outputs": [
    {
     "data": {
      "text/plain": [
       "array([[4, 2, 3],\n",
       "       [2, 4, 2],\n",
       "       [3, 4, 3]])"
      ]
     },
     "execution_count": 62,
     "metadata": {},
     "output_type": "execute_result"
    }
   ],
   "source": [
    "arr.T"
   ]
  },
  {
   "cell_type": "code",
   "execution_count": 63,
   "id": "0b7ad980-281e-4713-bffa-d5c95d1abbe4",
   "metadata": {},
   "outputs": [],
   "source": [
    "arr1 = np.random.randint(1, 5, size = (3, 3))"
   ]
  },
  {
   "cell_type": "code",
   "execution_count": 64,
   "id": "3ebf0eca-834a-484b-98d2-b35683be10be",
   "metadata": {},
   "outputs": [
    {
     "data": {
      "text/plain": [
       "array([3, 3, 1, 4, 1, 1, 1, 1, 3])"
      ]
     },
     "execution_count": 64,
     "metadata": {},
     "output_type": "execute_result"
    }
   ],
   "source": [
    "arr1.flatten()"
   ]
  },
  {
   "cell_type": "code",
   "execution_count": 69,
   "id": "1c914878-2f89-42ff-afa7-8b99124f1205",
   "metadata": {},
   "outputs": [
    {
     "data": {
      "text/plain": [
       "array([[[1, 1, 2]],\n",
       "\n",
       "       [[3, 1, 1]],\n",
       "\n",
       "       [[2, 1, 4]]])"
      ]
     },
     "execution_count": 69,
     "metadata": {},
     "output_type": "execute_result"
    }
   ],
   "source": [
    "#expand dimension\n",
    "arr1 = np.random.randint(1, 5, size = (3, 3))\n",
    "np.expand_dims(arr1, axis = 1)"
   ]
  },
  {
   "cell_type": "code",
   "execution_count": 71,
   "id": "7e7bd54e-d044-42f3-b0ce-90524b2b5905",
   "metadata": {},
   "outputs": [
    {
     "data": {
      "text/plain": [
       "array([[ 7. ,  5.3, -3. ],\n",
       "       [ 3. , -5. ,  2. ],\n",
       "       [ 5. ,  3. , -7. ]])"
      ]
     },
     "execution_count": 71,
     "metadata": {},
     "output_type": "execute_result"
    }
   ],
   "source": [
    "a = np.array([[7, 5.3, -3], [3, -5, 2], [5, 3, -7]])\n",
    "a"
   ]
  },
  {
   "cell_type": "code",
   "execution_count": 72,
   "id": "3c98ebd0-8816-4d1c-97b0-43fa41f9b725",
   "metadata": {},
   "outputs": [
    {
     "data": {
      "text/plain": [
       "array([2.59630607, 0.84432718, 2.21635884])"
      ]
     },
     "execution_count": 72,
     "metadata": {},
     "output_type": "execute_result"
    }
   ],
   "source": [
    "b = np.array([16, 8, 0])\n",
    "np.linalg.solve(a, b)"
   ]
  },
  {
   "cell_type": "code",
   "execution_count": null,
   "id": "eeccf18b-7fa6-4ab9-8c91-dfa6fb4e17bc",
   "metadata": {},
   "outputs": [],
   "source": []
  }
 ],
 "metadata": {
  "kernelspec": {
   "display_name": "Python 3 (ipykernel)",
   "language": "python",
   "name": "python3"
  },
  "language_info": {
   "codemirror_mode": {
    "name": "ipython",
    "version": 3
   },
   "file_extension": ".py",
   "mimetype": "text/x-python",
   "name": "python",
   "nbconvert_exporter": "python",
   "pygments_lexer": "ipython3",
   "version": "3.10.8"
  }
 },
 "nbformat": 4,
 "nbformat_minor": 5
}
