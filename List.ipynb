{
 "cells": [
  {
   "cell_type": "code",
   "execution_count": null,
   "id": "12f8b60b-882a-4ae7-8d9a-d4f47dff6e30",
   "metadata": {},
   "outputs": [],
   "source": [
    "# list >> sequence "
   ]
  },
  {
   "cell_type": "code",
   "execution_count": 1,
   "id": "70634549-4a63-48c9-b535-239e5a27bb48",
   "metadata": {},
   "outputs": [
    {
     "data": {
      "text/plain": [
       "'kakuda'"
      ]
     },
     "execution_count": 1,
     "metadata": {},
     "output_type": "execute_result"
    }
   ],
   "source": [
    "queue = [\"Monjolika\", \"stri\", \"kakuda\"]\n",
    "queue[-1]"
   ]
  },
  {
   "cell_type": "code",
   "execution_count": 2,
   "id": "6913b318-abd4-4e07-9d1a-c595d4946207",
   "metadata": {},
   "outputs": [
    {
     "data": {
      "text/plain": [
       "['Monjolika', 'stri', 'kakuda', 'annabelle']"
      ]
     },
     "execution_count": 2,
     "metadata": {},
     "output_type": "execute_result"
    }
   ],
   "source": [
    "queue.append(\"annabelle\")\n",
    "queue"
   ]
  },
  {
   "cell_type": "code",
   "execution_count": 7,
   "id": "056a8ebd-f8c5-4085-b8fd-a579516b4328",
   "metadata": {},
   "outputs": [],
   "source": [
    "playlist = []\n",
    "playlist.append(\"saare jahan se acha\")\n",
    "playlist.append(\"jeeta the jiska li\")\n"
   ]
  },
  {
   "cell_type": "code",
   "execution_count": 8,
   "id": "642cbea2-bead-4a02-88ec-bff364b77363",
   "metadata": {},
   "outputs": [
    {
     "data": {
      "text/plain": [
       "['saare jahan se acha', 'jeeta the jiska li']"
      ]
     },
     "execution_count": 8,
     "metadata": {},
     "output_type": "execute_result"
    }
   ],
   "source": [
    "playlist"
   ]
  },
  {
   "cell_type": "code",
   "execution_count": 9,
   "id": "dc391739-c815-4d14-9772-3a6f22e2e699",
   "metadata": {},
   "outputs": [],
   "source": [
    "#list is mutable"
   ]
  },
  {
   "cell_type": "code",
   "execution_count": 10,
   "id": "ab1ba970-9c7c-424e-ad25-f2c185d037b3",
   "metadata": {},
   "outputs": [
    {
     "data": {
      "text/plain": [
       "\"['saare jahan se acha', 'jeeta the jiska li']\""
      ]
     },
     "execution_count": 10,
     "metadata": {},
     "output_type": "execute_result"
    }
   ],
   "source": [
    "str(playlist).replace(\"peene\", \"jeene\")"
   ]
  },
  {
   "cell_type": "code",
   "execution_count": 11,
   "id": "cb7e0e0f-3759-4681-adef-b98083e81612",
   "metadata": {},
   "outputs": [],
   "source": [
    "playlist.insert(1, \"tauba tauba\")"
   ]
  },
  {
   "cell_type": "code",
   "execution_count": 12,
   "id": "987ecb8f-e56f-42d9-af6c-887a992337ff",
   "metadata": {},
   "outputs": [],
   "source": [
    "# append is at the last and insert is at s specific index\n"
   ]
  },
  {
   "cell_type": "code",
   "execution_count": 14,
   "id": "afbb76d4-342d-423d-bcf1-92c29ff2bd3f",
   "metadata": {},
   "outputs": [
    {
     "data": {
      "text/plain": [
       "['mujhe peene ka shauk ni', 'tauba tuaba', 'bhago mai a gyi']"
      ]
     },
     "execution_count": 14,
     "metadata": {},
     "output_type": "execute_result"
    }
   ],
   "source": [
    "my_playlist = ['mujhe peene ka shauk ni', 'tauba tuaba']\n",
    "monjo_playlist = [\"bhago mai a gyi\"]\n",
    "\n",
    "my_playlist.extend(monjo_playlist)\n",
    "my_playlist"
   ]
  },
  {
   "cell_type": "code",
   "execution_count": 15,
   "id": "6f28f77f-b4e5-49ba-808d-f02770e54929",
   "metadata": {},
   "outputs": [],
   "source": [
    "#extend is modified original list\n",
    "#concatination creating a new list"
   ]
  },
  {
   "cell_type": "code",
   "execution_count": 17,
   "id": "f83e11ed-6028-4886-9146-37fe6ad7550c",
   "metadata": {},
   "outputs": [
    {
     "data": {
      "text/plain": [
       "[1,\n",
       " 2,\n",
       " 3,\n",
       " 4,\n",
       " 1,\n",
       " 2,\n",
       " 3,\n",
       " 4,\n",
       " 1,\n",
       " 2,\n",
       " 3,\n",
       " 4,\n",
       " 1,\n",
       " 2,\n",
       " 3,\n",
       " 4,\n",
       " 1,\n",
       " 2,\n",
       " 3,\n",
       " 4,\n",
       " 1,\n",
       " 2,\n",
       " 3,\n",
       " 4,\n",
       " 1,\n",
       " 2,\n",
       " 3,\n",
       " 4,\n",
       " 1,\n",
       " 2,\n",
       " 3,\n",
       " 4,\n",
       " 1,\n",
       " 2,\n",
       " 3,\n",
       " 4,\n",
       " 1,\n",
       " 2,\n",
       " 3,\n",
       " 4]"
      ]
     },
     "execution_count": 17,
     "metadata": {},
     "output_type": "execute_result"
    }
   ],
   "source": [
    "#Repetation pattern\n",
    "list(range(1, 5)) * 10"
   ]
  },
  {
   "cell_type": "code",
   "execution_count": 18,
   "id": "885c427c-afc0-48b2-a0a6-3beba74dc72c",
   "metadata": {},
   "outputs": [
    {
     "data": {
      "text/plain": [
       "' you are invited in this event you are invited in this event you are invited in this event you are invited in this event you are invited in this event you are invited in this event you are invited in this event you are invited in this event you are invited in this event you are invited in this event'"
      ]
     },
     "execution_count": 18,
     "metadata": {},
     "output_type": "execute_result"
    }
   ],
   "source": [
    "msg = \" you are invited in this event\"\n",
    "msg * 10"
   ]
  },
  {
   "cell_type": "code",
   "execution_count": 1,
   "id": "5aeb7174-4e5d-486a-82f6-21acddbb72dd",
   "metadata": {},
   "outputs": [],
   "source": [
    "#membership\n",
    "l = [\"baingan\", \"aaloo\", \"monjo\"]\n"
   ]
  },
  {
   "cell_type": "code",
   "execution_count": 2,
   "id": "9eb13bc5-f990-48c7-b97b-a73085e10ee4",
   "metadata": {},
   "outputs": [],
   "source": [
    "#list can store any data type\n"
   ]
  },
  {
   "cell_type": "code",
   "execution_count": 3,
   "id": "f99afbce-647f-4e16-be78-9974c3b7cddb",
   "metadata": {},
   "outputs": [
    {
     "data": {
      "text/plain": [
       "['baingan', 'aaloo', 'monjo', 'orang']"
      ]
     },
     "execution_count": 3,
     "metadata": {},
     "output_type": "execute_result"
    }
   ],
   "source": [
    "#adding element in the list\n",
    "l.append(\"orang\")\n",
    "l"
   ]
  },
  {
   "cell_type": "code",
   "execution_count": 5,
   "id": "4db851a0-de82-407a-9483-19aafe55a86b",
   "metadata": {},
   "outputs": [
    {
     "data": {
      "text/plain": [
       "['baingan', 'aaloo', 'monjo', 'orang', 'pwskills']"
      ]
     },
     "execution_count": 5,
     "metadata": {},
     "output_type": "execute_result"
    }
   ],
   "source": [
    "l.append(\"pwskills\")\n",
    "l"
   ]
  },
  {
   "cell_type": "code",
   "execution_count": 6,
   "id": "5764011a-012f-4bf5-b2dd-3acc21f9a3e9",
   "metadata": {},
   "outputs": [],
   "source": [
    "l.remove(\"aaloo\")"
   ]
  },
  {
   "cell_type": "code",
   "execution_count": 7,
   "id": "3210d32c-b715-4c20-bfc8-c01a0d1423b2",
   "metadata": {},
   "outputs": [
    {
     "data": {
      "text/plain": [
       "['baingan', 'monjo', 'orang', 'pwskills']"
      ]
     },
     "execution_count": 7,
     "metadata": {},
     "output_type": "execute_result"
    }
   ],
   "source": [
    "l"
   ]
  },
  {
   "cell_type": "code",
   "execution_count": 11,
   "id": "85b9cd75-482a-4769-bed4-ef8d06d050bc",
   "metadata": {},
   "outputs": [
    {
     "name": "stdout",
     "output_type": "stream",
     "text": [
      "baingan\n",
      "monjo\n",
      "orang\n",
      "pwskills\n"
     ]
    }
   ],
   "source": [
    "for i in l:\n",
    "    print(i)"
   ]
  },
  {
   "cell_type": "code",
   "execution_count": 8,
   "id": "85491166-ef00-484f-a2d9-44d66534a084",
   "metadata": {},
   "outputs": [
    {
     "data": {
      "text/plain": [
       "[1, 2, 3]"
      ]
     },
     "execution_count": 8,
     "metadata": {},
     "output_type": "execute_result"
    }
   ],
   "source": [
    "lis = [[1, 2, 3], [4, 5, 6], [7, 8, 9]]\n",
    "lis[0]"
   ]
  },
  {
   "cell_type": "code",
   "execution_count": 9,
   "id": "72ca4008-f675-4a38-b480-78816357b45b",
   "metadata": {},
   "outputs": [
    {
     "data": {
      "text/plain": [
       "2"
      ]
     },
     "execution_count": 9,
     "metadata": {},
     "output_type": "execute_result"
    }
   ],
   "source": [
    "lis[0][1]"
   ]
  },
  {
   "cell_type": "code",
   "execution_count": 12,
   "id": "8a952e2d-7a5b-4eca-ac1b-102240aebc3e",
   "metadata": {},
   "outputs": [
    {
     "data": {
      "text/plain": [
       "[[1, 2, 3], [4, 5, 6], [7, 8, 9]]"
      ]
     },
     "execution_count": 12,
     "metadata": {},
     "output_type": "execute_result"
    }
   ],
   "source": [
    "sorted(lis, reverse = True, key = len)"
   ]
  },
  {
   "cell_type": "code",
   "execution_count": 13,
   "id": "ac1adf37-3fb1-490b-b125-8744f54376c1",
   "metadata": {},
   "outputs": [
    {
     "name": "stdout",
     "output_type": "stream",
     "text": [
      "Integer: 100\n",
      "Type of num_int: <class 'int'>\n"
     ]
    }
   ],
   "source": [
    "#Deep copy and Shallow copy\n"
   ]
  },
  {
   "cell_type": "code",
   "execution_count": 14,
   "id": "04ad19f7-62b8-405c-91e1-29224d3dbafa",
   "metadata": {},
   "outputs": [],
   "source": [
    "#Deep Copy - When you change in the one variable the change will be not refelect in other variable\n",
    "#shallow copy - When you change in the one variable the change will be reflect in othe"
   ]
  },
  {
   "cell_type": "code",
   "execution_count": 15,
   "id": "d74e6291-0e57-4c1f-bc34-af2378e3740b",
   "metadata": {},
   "outputs": [
    {
     "data": {
      "text/plain": [
       "['a', 'b', 'a', 'b']"
      ]
     },
     "execution_count": 15,
     "metadata": {},
     "output_type": "execute_result"
    }
   ],
   "source": [
    "kirti = [\"a\", \"b\", \"a\", \"b\"]\n",
    "ajay = kirti #shallow copy\n",
    "ajay"
   ]
  },
  {
   "cell_type": "code",
   "execution_count": 16,
   "id": "2e77dc78-f22f-49ae-94d0-4e7685bcafd4",
   "metadata": {},
   "outputs": [
    {
     "data": {
      "text/plain": [
       "['d', 'b', 'a', 'b']"
      ]
     },
     "execution_count": 16,
     "metadata": {},
     "output_type": "execute_result"
    }
   ],
   "source": [
    "kirti[0] = \"d\"\n",
    "kirti"
   ]
  },
  {
   "cell_type": "code",
   "execution_count": 17,
   "id": "78d606a4-0123-427b-a9fb-bf5eb5d8c537",
   "metadata": {},
   "outputs": [
    {
     "data": {
      "text/plain": [
       "['d', 'b', 'a', 'b']"
      ]
     },
     "execution_count": 17,
     "metadata": {},
     "output_type": "execute_result"
    }
   ],
   "source": [
    "kirti = [\"a\", \"b\", \"a\", \"b\"]\n",
    "ajay = kirti.copy() #deep copy\n",
    "kirti[0] = \"d\"\n",
    "kirti"
   ]
  },
  {
   "cell_type": "code",
   "execution_count": 18,
   "id": "41323a07-ee5c-4f96-9cc1-09d8e4ca235b",
   "metadata": {},
   "outputs": [
    {
     "data": {
      "text/plain": [
       "['a', 'b', 'a', 'b']"
      ]
     },
     "execution_count": 18,
     "metadata": {},
     "output_type": "execute_result"
    }
   ],
   "source": [
    "ajay"
   ]
  },
  {
   "cell_type": "code",
   "execution_count": 19,
   "id": "4a9afc5c-b187-4276-8c9b-612feabb81ff",
   "metadata": {},
   "outputs": [
    {
     "data": {
      "text/plain": [
       "[20, 40, 60, 80]"
      ]
     },
     "execution_count": 19,
     "metadata": {},
     "output_type": "execute_result"
    }
   ],
   "source": [
    "prices = [10, 20, 30, 40]\n",
    "double = []\n",
    "for i in prices:\n",
    "    double.append(i*2)\n",
    "double\n"
   ]
  },
  {
   "cell_type": "code",
   "execution_count": 20,
   "id": "400b4bc5-5b5b-40a3-bf15-dab4299addee",
   "metadata": {},
   "outputs": [
    {
     "name": "stdout",
     "output_type": "stream",
     "text": [
      "[7, 14, 21, 28, 35, 42, 49, 56, 63, 70, 77, 84, 91, 98, 105, 112, 119, 126, 133, 140, 147, 154, 161, 168, 175, 182, 189, 196, 203, 210, 217, 224, 231, 238, 245, 252, 259, 266, 273, 280, 287, 294, 301, 308, 315, 322, 329, 336, 343, 350, 357, 364, 371, 378, 385, 392, 399, 406, 413, 420, 427, 434, 441, 448, 455, 462, 469, 476, 483, 490, 497, 504, 511, 518, 525, 532, 539, 546, 553, 560, 567, 574, 581, 588, 595, 602, 609, 616, 623, 630, 637, 644, 651, 658, 665, 672, 679, 686, 693, 700, 707, 714, 721, 728, 735, 742, 749, 756, 763, 770, 777, 784, 791, 798, 805, 812, 819, 826, 833, 840, 847, 854, 861, 868, 875, 882, 889, 896, 903, 910, 917, 924, 931, 938, 945, 952, 959, 966, 973, 980, 987, 994]\n"
     ]
    }
   ],
   "source": [
    "divisible_by_7 = [num for num in range(1, 1001) if num % 7 == 0]\n",
    "\n",
    "print(divisible_by_7)"
   ]
  },
  {
   "cell_type": "code",
   "execution_count": 23,
   "id": "54fefd9d-f27d-4108-8182-0754817c2ce7",
   "metadata": {},
   "outputs": [
    {
     "data": {
      "text/plain": [
       "13"
      ]
     },
     "execution_count": 23,
     "metadata": {},
     "output_type": "execute_result"
    }
   ],
   "source": [
    "s = \"monjolika is my love but I hater her because hater her ex is kakuda\"\n",
    "\n",
    "space_count = sum([1 for char in s if char == \" \"])\n",
    "space_count \n"
   ]
  },
  {
   "cell_type": "code",
   "execution_count": null,
   "id": "3fb13771-0650-476c-b02a-a2b3dd2c9f3e",
   "metadata": {},
   "outputs": [],
   "source": [
    "#using a list compriheshon find all the no from 1-1000 that is divisble by any single digit from 2 to 9"
   ]
  },
  {
   "cell_type": "code",
   "execution_count": 2,
   "id": "3cc70865-c128-4b1e-be0a-7883806247e3",
   "metadata": {},
   "outputs": [
    {
     "data": {
      "text/plain": [
       "'+++++++++++++++'"
      ]
     },
     "execution_count": 2,
     "metadata": {},
     "output_type": "execute_result"
    }
   ],
   "source": [
    "\"+\" * 15"
   ]
  },
  {
   "cell_type": "code",
   "execution_count": 3,
   "id": "7a49969b-f205-41fb-864d-92b1fa5590be",
   "metadata": {},
   "outputs": [
    {
     "data": {
      "text/plain": [
       "['ppt', 'svg', 'jpg']"
      ]
     },
     "execution_count": 3,
     "metadata": {},
     "output_type": "execute_result"
    }
   ],
   "source": [
    "file_name = [\"doc1.ppt\", \"doc2.svg\", \"doc3.jpg\"]\n",
    "[file.split(\".\")[-1] for file in file_name]"
   ]
  },
  {
   "cell_type": "code",
   "execution_count": 4,
   "id": "b62d24d9-46a9-4955-994d-2fe750dd4ef1",
   "metadata": {},
   "outputs": [
    {
     "data": {
      "text/plain": [
       "[[1, 4], [1, 5], [1, 6], [2, 4], [2, 5], [2, 6], [3, 4], [3, 5], [3, 6]]"
      ]
     },
     "execution_count": 4,
     "metadata": {},
     "output_type": "execute_result"
    }
   ],
   "source": [
    "#nested list\n",
    "pairs = []\n",
    "for x in [1,2,3]:\n",
    "    for y in [4,5,6]:\n",
    "        pairs.append([x,y])\n",
    "pairs"
   ]
  },
  {
   "cell_type": "code",
   "execution_count": 6,
   "id": "d7a8756b-fb77-40be-ad2a-835052e944a8",
   "metadata": {},
   "outputs": [
    {
     "data": {
      "text/plain": [
       "['plate1', 'plate2', 'plate3', 'plate4']"
      ]
     },
     "execution_count": 6,
     "metadata": {},
     "output_type": "execute_result"
    }
   ],
   "source": [
    "stack_of_plate = []\n",
    "stack_of_plate.append(\"plate1\")\n",
    "stack_of_plate.append(\"plate2\")\n",
    "stack_of_plate.append(\"plate3\")\n",
    "stack_of_plate.append(\"plate4\")\n",
    "stack_of_plate"
   ]
  },
  {
   "cell_type": "code",
   "execution_count": 7,
   "id": "b5d77837-d812-4643-94f4-6ed31167fc7a",
   "metadata": {},
   "outputs": [
    {
     "data": {
      "text/plain": [
       "'plate4'"
      ]
     },
     "execution_count": 7,
     "metadata": {},
     "output_type": "execute_result"
    }
   ],
   "source": [
    "stack_of_plate.pop()"
   ]
  },
  {
   "cell_type": "code",
   "execution_count": 8,
   "id": "ad0273a7-6da2-49e1-b6c2-a2720d38e210",
   "metadata": {},
   "outputs": [],
   "source": [
    "#stack has one hand amd queue has 2 end\n",
    "#queue first in firt out\n",
    "#stack last in first out\n"
   ]
  },
  {
   "cell_type": "code",
   "execution_count": null,
   "id": "8a0d30be-f030-4ef6-a923-3e6ea64154a9",
   "metadata": {},
   "outputs": [],
   "source": [
    "from collections import deque"
   ]
  }
 ],
 "metadata": {
  "kernelspec": {
   "display_name": "Python 3 (ipykernel)",
   "language": "python",
   "name": "python3"
  },
  "language_info": {
   "codemirror_mode": {
    "name": "ipython",
    "version": 3
   },
   "file_extension": ".py",
   "mimetype": "text/x-python",
   "name": "python",
   "nbconvert_exporter": "python",
   "pygments_lexer": "ipython3",
   "version": "3.10.8"
  }
 },
 "nbformat": 4,
 "nbformat_minor": 5
}
