{
 "cells": [
  {
   "cell_type": "code",
   "execution_count": 1,
   "id": "1817a54a-5748-4827-9812-f0d02b301cb8",
   "metadata": {},
   "outputs": [
    {
     "name": "stdout",
     "output_type": "stream",
     "text": [
      " the a is grater\n"
     ]
    }
   ],
   "source": [
    "a = 100\n",
    "if a > 0:\n",
    "    print(\" the a is grater\")\n"
   ]
  },
  {
   "cell_type": "code",
   "execution_count": 2,
   "id": "1f076368-8475-4f9c-933a-3be03272b622",
   "metadata": {},
   "outputs": [
    {
     "name": "stdout",
     "output_type": "stream",
     "text": [
      " the no is even\n"
     ]
    }
   ],
   "source": [
    "num = 42\n",
    "if num % 2 == 0:\n",
    "    print(\" the no is even\")"
   ]
  },
  {
   "cell_type": "code",
   "execution_count": 3,
   "id": "8d6b496e-22ce-4a50-8556-fd1dfa0ae505",
   "metadata": {},
   "outputs": [
    {
     "name": "stdout",
     "output_type": "stream",
     "text": [
      " the no is interest\n"
     ]
    }
   ],
   "source": [
    "num = 42\n",
    "if ((num % 2 == 0) & (num > 2)):\n",
    "    print(\" the no is interest\")"
   ]
  },
  {
   "cell_type": "code",
   "execution_count": 7,
   "id": "72a52f2f-c100-4286-9b3a-c8a36930edd0",
   "metadata": {},
   "outputs": [
    {
     "name": "stdout",
     "output_type": "stream",
     "text": [
      " you are all rounder\n"
     ]
    }
   ],
   "source": [
    "grade = 8\n",
    "co_cir = True\n",
    "if ((grade >= 8) and (co_cir == True)):\n",
    "    print(\" you are all rounder\")"
   ]
  },
  {
   "cell_type": "code",
   "execution_count": 9,
   "id": "a435245e-849c-429e-98fe-71b1cd2da98f",
   "metadata": {},
   "outputs": [
    {
     "name": "stdout",
     "output_type": "stream",
     "text": [
      " x is not grater than 5\n"
     ]
    }
   ],
   "source": [
    "x = 5\n",
    "y = 6\n",
    "if x > 5:\n",
    "    if y > 5:\n",
    "        print(\"both x and y grater\")\n",
    "    else:\n",
    "        print(\"x is grater than 5 but y is less than 5\")\n",
    "else:\n",
    "    print(\" x is not grater than 5\")"
   ]
  },
  {
   "cell_type": "code",
   "execution_count": null,
   "id": "679c5f6e-ec6e-42d1-9505-9cf3c4ad6b91",
   "metadata": {},
   "outputs": [
    {
     "name": "stderr",
     "output_type": "stream",
     "text": [
      "<>:7: SyntaxWarning: \"is not\" with a literal. Did you mean \"!=\"?\n",
      "<>:7: SyntaxWarning: \"is not\" with a literal. Did you mean \"!=\"?\n"
     ]
    }
   ],
   "source": [
    "name = input(\"please enter your name\")\n",
    "email = input(\"please enter your email\")\n",
    "password = input(\"please enter your password\")\n",
    "if name == \"\":\n",
    "    print(\"please enter valid name, can not be empty\")\n",
    "else:\n",
    "    if \"@\" is not in email:\n",
    "        print(\"please enter a valid email\")\n",
    "    else:\n",
    "        if len(passwor) < 0:\n",
    "            print(\"no password entered please provide a valid password\")\n",
    "        else:\n",
    "            print(\" login successfully registered\")"
   ]
  },
  {
   "cell_type": "code",
   "execution_count": 2,
   "id": "4e121582-3ac4-48cb-900a-918a548d81bf",
   "metadata": {},
   "outputs": [],
   "source": [
    "# loop statement>> it allows you to execute block of code repeteatedly.\n",
    "# while loop and for loop\n",
    "# while loop  excute block of code untill the condition will met"
   ]
  },
  {
   "cell_type": "code",
   "execution_count": 4,
   "id": "d0910420-3c48-404d-b78b-32786872dc39",
   "metadata": {},
   "outputs": [
    {
     "name": "stdout",
     "output_type": "stream",
     "text": [
      "1\n",
      "2\n",
      "3\n",
      "4\n",
      "5\n",
      "6\n"
     ]
    }
   ],
   "source": [
    "n = 7\n",
    "i = 1\n",
    "while i < 7:\n",
    "    print(i)\n",
    "    i = i+1"
   ]
  },
  {
   "cell_type": "code",
   "execution_count": 5,
   "id": "24e51f12-8e66-4ecf-b02f-50eea47d25e9",
   "metadata": {},
   "outputs": [
    {
     "name": "stdout",
     "output_type": "stream",
     "text": [
      "5\n",
      "4\n",
      "3\n",
      "2\n",
      "1\n"
     ]
    }
   ],
   "source": [
    "count = 5\n",
    "while count > 0:\n",
    "    print(count)\n",
    "    count = count - 1"
   ]
  },
  {
   "cell_type": "code",
   "execution_count": null,
   "id": "36d431dc-69ae-46ec-b6b4-428bc7fa6f22",
   "metadata": {},
   "outputs": [],
   "source": [
    "for i in \"pwskill\":\n",
    "    print(i) "
   ]
  },
  {
   "cell_type": "code",
   "execution_count": null,
   "id": "1de7cf52-08c4-4a7a-9a33-d1f5a59603f8",
   "metadata": {},
   "outputs": [],
   "source": []
  },
  {
   "cell_type": "code",
   "execution_count": null,
   "id": "b3b66742-4830-4c7d-a65f-abeeefea9b73",
   "metadata": {},
   "outputs": [],
   "source": []
  }
 ],
 "metadata": {
  "kernelspec": {
   "display_name": "Python 3 (ipykernel)",
   "language": "python",
   "name": "python3"
  },
  "language_info": {
   "codemirror_mode": {
    "name": "ipython",
    "version": 3
   },
   "file_extension": ".py",
   "mimetype": "text/x-python",
   "name": "python",
   "nbconvert_exporter": "python",
   "pygments_lexer": "ipython3",
   "version": "3.10.8"
  }
 },
 "nbformat": 4,
 "nbformat_minor": 5
}
