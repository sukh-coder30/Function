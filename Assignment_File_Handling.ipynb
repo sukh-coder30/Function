{
  "nbformat": 4,
  "nbformat_minor": 0,
  "metadata": {
    "colab": {
      "provenance": [],
      "authorship_tag": "ABX9TyPCoYWqB7XfgSbtT+c10/1g",
      "include_colab_link": true
    },
    "kernelspec": {
      "name": "python3",
      "display_name": "Python 3"
    },
    "language_info": {
      "name": "python"
    }
  },
  "cells": [
    {
      "cell_type": "markdown",
      "metadata": {
        "id": "view-in-github",
        "colab_type": "text"
      },
      "source": [
        "<a href=\"https://colab.research.google.com/github/sukh-coder30/Function/blob/main/Assignment_File_Handling.ipynb\" target=\"_parent\"><img src=\"https://colab.research.google.com/assets/colab-badge.svg\" alt=\"Open In Colab\"/></a>"
      ]
    },
    {
      "cell_type": "code",
      "execution_count": null,
      "metadata": {
        "id": "ZXi5JNb_p1kl"
      },
      "outputs": [],
      "source": []
    },
    {
      "cell_type": "markdown",
      "source": [
        "Q.4.  Write a Python program using multithreading where one thread adds numbers to a list, and another\n",
        "thread removes numbers from the list. Implement a mechanism to avoid race conditions using\n",
        "threading.Lock."
      ],
      "metadata": {
        "id": "VI9JvVOpp7OC"
      }
    },
    {
      "cell_type": "code",
      "source": [
        "import threading\n",
        "import time\n",
        "import random\n",
        "\n",
        "# Shared resource (the list)\n",
        "numbers_list = []\n",
        "\n",
        "# Lock to prevent race conditions\n",
        "list_lock = threading.Lock()\n",
        "\n",
        "# Function to add numbers to the list\n",
        "def add_numbers():\n",
        "    for _ in range(10):\n",
        "        number = random.randint(1, 100)\n",
        "        with list_lock:\n",
        "            numbers_list.append(number)\n",
        "            print(f\"Added {number} to the list\")\n",
        "        time.sleep(random.uniform(0.1, 0.5))\n",
        "\n",
        "# Function to remove numbers from the list\n",
        "def remove_numbers():\n",
        "    for _ in range(10):\n",
        "        time.sleep(random.uniform(0.1, 0.5))\n",
        "        with list_lock:\n",
        "            if numbers_list:\n",
        "                removed_number = numbers_list.pop(0)\n",
        "                print(f\"Removed {removed_number} from the list\")\n",
        "            else:\n",
        "                print(\"List is empty, can't remove\")\n",
        "\n",
        "if __name__ == \"__main__\":\n",
        "    thread_add = threading.Thread(target=add_numbers)\n",
        "    thread_remove = threading.Thread(target=remove_numbers)\n",
        "\n",
        "    thread_add.start()\n",
        "    thread_remove.start()\n",
        "\n",
        "    thread_add.join()\n",
        "    thread_remove.join()\n",
        "\n",
        "    print(f\"Final list: {numbers_list}\")"
      ],
      "metadata": {
        "colab": {
          "base_uri": "https://localhost:8080/"
        },
        "id": "jrMoV-pCqCh6",
        "outputId": "87472dda-eb6a-40a8-9ce7-bb6b5b4e61b0"
      },
      "execution_count": 1,
      "outputs": [
        {
          "output_type": "stream",
          "name": "stdout",
          "text": [
            "Added 86 to the list\n",
            "Added 21 to the list\n",
            "Removed 86 from the list\n",
            "Added 97 to the list\n",
            "Added 36 to the list\n",
            "Removed 21 from the list\n",
            "Removed 97 from the list\n",
            "Added 42 to the list\n",
            "Removed 36 from the list\n",
            "Added 28 to the list\n",
            "Removed 42 from the list\n",
            "Removed 28 from the list\n",
            "Added 83 to the list\n",
            "Removed 83 from the list\n",
            "Added 67 to the list\n",
            "Removed 67 from the list\n",
            "Added 92 to the list\n",
            "Added 26 to the list\n",
            "Removed 92 from the list\n",
            "Removed 26 from the list\n",
            "Final list: []\n"
          ]
        }
      ]
    },
    {
      "cell_type": "code",
      "source": [],
      "metadata": {
        "id": "EER3kTuKqjoM"
      },
      "execution_count": null,
      "outputs": []
    },
    {
      "cell_type": "markdown",
      "source": [
        "Q7.  Create a program that uses a thread pool to calculate the factorial of numbers from 1 to 10 concurrently.\n",
        "Use concurrent.futures.ThreadPoolExecutor to manage the threads."
      ],
      "metadata": {
        "id": "yv50CIHyq0kQ"
      }
    },
    {
      "cell_type": "code",
      "source": [
        "import concurrent.futures\n",
        "import math\n",
        "\n",
        "# Function to calculate the factorial of a number\n",
        "def factorial(n):\n",
        "    print(f\"Calculating factorial of {n}\")\n",
        "    return math.factorial(n)\n",
        "\n",
        "if __name__ == \"__main__\":\n",
        "    # List of numbers from 1 to 10\n",
        "    numbers = list(range(1, 11))\n",
        "\n",
        "    # Create a ThreadPoolExecutor to manage threads\n",
        "    with concurrent.futures.ThreadPoolExecutor() as executor:\n",
        "        # Submit the tasks to the thread pool\n",
        "        results = [executor.submit(factorial, num) for num in numbers]\n",
        "\n",
        "        # Process the results as they complete\n",
        "        for future in concurrent.futures.as_completed(results):\n",
        "            print(f\"Result: {future.result()}\")"
      ],
      "metadata": {
        "colab": {
          "base_uri": "https://localhost:8080/"
        },
        "id": "LBSx1_Jyq28r",
        "outputId": "b39385f3-e059-43ee-c35d-a19c75bac2bd"
      },
      "execution_count": 2,
      "outputs": [
        {
          "output_type": "stream",
          "name": "stdout",
          "text": [
            "Calculating factorial of 1\n",
            "Calculating factorial of 2\n",
            "Calculating factorial of 3\n",
            "Calculating factorial of 4Calculating factorial of 5\n",
            "Calculating factorial of 6\n",
            "\n",
            "Calculating factorial of 7Calculating factorial of 8\n",
            "Calculating factorial of 9\n",
            "\n",
            "Result: 6\n",
            "Result: 40320\n",
            "Result: 720\n",
            "Result: 2\n",
            "Result: 362880\n",
            "Result: 120\n",
            "Result: 1\n",
            "Result: 24\n",
            "Calculating factorial of 10Result: 5040\n",
            "\n",
            "Result: 3628800\n"
          ]
        }
      ]
    },
    {
      "cell_type": "markdown",
      "source": [
        "Q10.  Create a Python program that uses multiprocessing.Pool to compute the square of numbers from 1 to 10 in\n",
        "parallel. Measure the time taken to perform this computation using a pool of different sizes (e.g., 2, 4, 8\n",
        "processes)."
      ],
      "metadata": {
        "id": "S08MbdxlrYQN"
      }
    },
    {
      "cell_type": "code",
      "source": [
        "import multiprocessing\n",
        "import time\n",
        "\n",
        "# Function to compute the square of a number\n",
        "def square(n):\n",
        "    return n * n\n",
        "\n",
        "# Function to measure the time taken for parallel computation\n",
        "def measure_pool_size(pool_size):\n",
        "    numbers = list(range(1, 11))  # Numbers from 1 to 10\n",
        "\n",
        "    print(f\"\\nUsing pool size: {pool_size}\")\n",
        "    start_time = time.time()  # Start timer\n",
        "\n",
        "    # Create a Pool with 'pool_size' processes\n",
        "    with multiprocessing.Pool(processes=pool_size) as pool:\n",
        "        # Use pool.map to compute the squares in parallel\n",
        "        results = pool.map(square, numbers)\n",
        "\n",
        "    end_time = time.time()  # End timer\n",
        "\n",
        "    print(f\"Results: {results}\")\n",
        "    print(f\"Time taken with pool size {pool_size}: {end_time - start_time:.4f} seconds\")\n",
        "\n",
        "if __name__ == \"__main__\":\n",
        "    # Measure time taken with different pool sizes\n",
        "    for pool_size in [2, 4, 8]:\n",
        "        measure_pool_size(pool_size)\n"
      ],
      "metadata": {
        "colab": {
          "base_uri": "https://localhost:8080/"
        },
        "id": "Brm7KQD-raMr",
        "outputId": "adf1fd98-32a2-4594-bbf4-7fcf670b358a"
      },
      "execution_count": 3,
      "outputs": [
        {
          "output_type": "stream",
          "name": "stdout",
          "text": [
            "\n",
            "Using pool size: 2\n",
            "Results: [1, 4, 9, 16, 25, 36, 49, 64, 81, 100]\n",
            "Time taken with pool size 2: 0.0487 seconds\n",
            "\n",
            "Using pool size: 4\n",
            "Results: [1, 4, 9, 16, 25, 36, 49, 64, 81, 100]\n",
            "Time taken with pool size 4: 0.1339 seconds\n",
            "\n",
            "Using pool size: 8\n",
            "Results: [1, 4, 9, 16, 25, 36, 49, 64, 81, 100]\n",
            "Time taken with pool size 8: 0.1856 seconds\n"
          ]
        }
      ]
    },
    {
      "cell_type": "code",
      "source": [],
      "metadata": {
        "id": "CFDP9r1TrjCv"
      },
      "execution_count": null,
      "outputs": []
    }
  ]
}