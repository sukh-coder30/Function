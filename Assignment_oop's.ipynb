{
  "nbformat": 4,
  "nbformat_minor": 0,
  "metadata": {
    "colab": {
      "provenance": [],
      "authorship_tag": "ABX9TyMUSHJT28x1hYECQ/jFNuUL",
      "include_colab_link": true
    },
    "kernelspec": {
      "name": "python3",
      "display_name": "Python 3"
    },
    "language_info": {
      "name": "python"
    }
  },
  "cells": [
    {
      "cell_type": "markdown",
      "metadata": {
        "id": "view-in-github",
        "colab_type": "text"
      },
      "source": [
        "<a href=\"https://colab.research.google.com/github/sukh-coder30/Function/blob/main/Assignment_oop's.ipynb\" target=\"_parent\"><img src=\"https://colab.research.google.com/assets/colab-badge.svg\" alt=\"Open In Colab\"/></a>"
      ]
    },
    {
      "cell_type": "markdown",
      "source": [
        "2. Write a Python class for a `Car` with attributes for `make`, `model`, and `year`. Include a method to display\n",
        "the car's information."
      ],
      "metadata": {
        "id": "H4sBDjK2YGzo"
      }
    },
    {
      "cell_type": "code",
      "source": [
        "class Car:\n",
        "    def __init__(self, make, model, year):\n",
        "        self.make = make\n",
        "        self.model = model\n",
        "        self.year = year\n",
        "\n",
        "    def display_info(self):\n",
        "        print(f\"Car Info: {self.year} {self.make} {self.model}\")\n",
        "\n",
        "car1 = Car(\"Toyota\", \"Corolla\", 2020)\n",
        "car1.display_info()"
      ],
      "metadata": {
        "colab": {
          "base_uri": "https://localhost:8080/"
        },
        "id": "C5AA_vQfYT52",
        "outputId": "64ded5ea-c604-4f99-808c-683cbefe222d"
      },
      "execution_count": 1,
      "outputs": [
        {
          "output_type": "stream",
          "name": "stdout",
          "text": [
            "Car Info: 2020 Toyota Corolla\n"
          ]
        }
      ]
    },
    {
      "cell_type": "markdown",
      "source": [
        " Q. 7 What is the Method Resolution Order (MRO) in Python? How can you retrieve it programmatically?\n",
        "\n",
        " Ans: Method Resolution Order (MRO) in Python is the order in which Python looks for a method or attribute in a hierarchy of classes. It is important when dealing with inheritance, especially multiple inheritance, because Python needs to determine the order in which to search classes to find methods or attributes.\n",
        "\n",
        "Python uses the C3 linearization algorithm (also known as C3 superclass linearization) to compute the MRO for a class. This ensures that:\n",
        "\n",
        "\n",
        "*   A class is checked before its parents.\n",
        "*   The order respects the inheritance of subclasses (i.e., subclasses are prioritized).\n",
        "*   The order follows a depth-first, left-to-right search for the method or attribute.\n",
        "\n",
        "**We can retrieve the MRO of a class using below code**"
      ],
      "metadata": {
        "id": "DEA-XrDBZTz6"
      }
    },
    {
      "cell_type": "code",
      "source": [
        "class A:\n",
        "    pass\n",
        "\n",
        "class B(A):\n",
        "    pass\n",
        "\n",
        "class C(A):\n",
        "    pass\n",
        "\n",
        "class D(B, C):\n",
        "    pass\n",
        "\n",
        "print(D.__mro__)\n",
        "\n",
        "print(D.mro())"
      ],
      "metadata": {
        "colab": {
          "base_uri": "https://localhost:8080/"
        },
        "id": "-7iqRy2VaUnk",
        "outputId": "abe49e29-fc50-4844-b41d-e1e759e3d602"
      },
      "execution_count": 2,
      "outputs": [
        {
          "output_type": "stream",
          "name": "stdout",
          "text": [
            "(<class '__main__.D'>, <class '__main__.B'>, <class '__main__.C'>, <class '__main__.A'>, <class 'object'>)\n",
            "[<class '__main__.D'>, <class '__main__.B'>, <class '__main__.C'>, <class '__main__.A'>, <class 'object'>]\n"
          ]
        }
      ]
    },
    {
      "cell_type": "markdown",
      "source": [
        "8. Create an abstract base class `Shape` with an abstract method `area()`. Then create two subclasses\n",
        "`Circle` and `Rectangle` that implement the `area()` method."
      ],
      "metadata": {
        "id": "z0EiMCNTbJoP"
      }
    },
    {
      "cell_type": "code",
      "source": [
        "from abc import ABC, abstractmethod\n",
        "import math\n",
        "\n",
        "# Abstract base class\n",
        "class Shape(ABC):\n",
        "\n",
        "    # Abstract method\n",
        "    @abstractmethod\n",
        "    def area(self):\n",
        "        pass\n",
        "\n",
        "# Subclass Circle implementing area() method\n",
        "class Circle(Shape):\n",
        "    def __init__(self, radius):\n",
        "        self.radius = radius\n",
        "\n",
        "    def area(self):\n",
        "        return math.pi * self.radius ** 2\n",
        "\n",
        "# Subclass Rectangle implementing area() method\n",
        "class Rectangle(Shape):\n",
        "    def __init__(self, width, height):\n",
        "        self.width = width\n",
        "        self.height = height\n",
        "\n",
        "    def area(self):\n",
        "        return self.width * self.height\n",
        "\n",
        "circle = Circle(5)\n",
        "rectangle = Rectangle(4, 6)\n",
        "\n",
        "print(f\"Circle area: {circle.area()}\")\n",
        "print(f\"Rectangle area: {rectangle.area()}\")\n"
      ],
      "metadata": {
        "colab": {
          "base_uri": "https://localhost:8080/"
        },
        "id": "Vv4xr26GbNnR",
        "outputId": "fe4afd03-ec51-4faf-8fd6-a3fdda35a3ed"
      },
      "execution_count": 3,
      "outputs": [
        {
          "output_type": "stream",
          "name": "stdout",
          "text": [
            "Circle area: 78.53981633974483\n",
            "Rectangle area: 24\n"
          ]
        }
      ]
    },
    {
      "cell_type": "markdown",
      "source": [
        "9. Demonstrate polymorphism by creating a function that can work with different shape objects to calculate\n",
        "and print their areas.\n",
        "\n",
        "---\n",
        "\n"
      ],
      "metadata": {
        "id": "PHjv9P4qbj9L"
      }
    },
    {
      "cell_type": "code",
      "source": [
        "import math\n",
        "\n",
        "# Base Shape class (optional, for clarity)\n",
        "class Shape:\n",
        "    def area(self):\n",
        "        pass\n",
        "\n",
        "# Circle class\n",
        "class Circle(Shape):\n",
        "    def __init__(self, radius):\n",
        "        self.radius = radius\n",
        "\n",
        "    def area(self):\n",
        "        return math.pi * self.radius ** 2\n",
        "\n",
        "# Rectangle class\n",
        "class Rectangle(Shape):\n",
        "    def __init__(self, width, height):\n",
        "        self.width = width\n",
        "        self.height = height\n",
        "\n",
        "    def area(self):\n",
        "        return self.width * self.height\n",
        "\n",
        "# Triangle class\n",
        "class Triangle(Shape):\n",
        "    def __init__(self, base, height):\n",
        "        self.base = base\n",
        "        self.height = height\n",
        "\n",
        "    def area(self):\n",
        "        return 0.5 * self.base * self.height\n",
        "\n",
        "# Polymorphic function to print area\n",
        "def print_area(shape):\n",
        "    print(f\"The area is: {shape.area()}\")\n",
        "\n",
        "circle = Circle(5)\n",
        "rectangle = Rectangle(4, 6)\n",
        "triangle = Triangle(4, 5)\n",
        "print_area(circle)\n",
        "print_area(rectangle)\n",
        "print_area(triangle)"
      ],
      "metadata": {
        "colab": {
          "base_uri": "https://localhost:8080/"
        },
        "id": "jXZbIx9wbp_9",
        "outputId": "7b72de57-41cc-4515-f48a-6482ddc6c95c"
      },
      "execution_count": 4,
      "outputs": [
        {
          "output_type": "stream",
          "name": "stdout",
          "text": [
            "The area is: 78.53981633974483\n",
            "The area is: 24\n",
            "The area is: 10.0\n"
          ]
        }
      ]
    },
    {
      "cell_type": "markdown",
      "source": [
        "10. Implement encapsulation in a `BankAccount` class with private attributes for `balance` and\n",
        "`account_number`. Include methods for deposit, withdrawal, and balance inquiry."
      ],
      "metadata": {
        "id": "b7cbNevUc9fi"
      }
    },
    {
      "cell_type": "code",
      "source": [
        "class BankAccount:\n",
        "    def __init__(self, account_number, balance=0):\n",
        "        self.__account_number = account_number  # Private attribute\n",
        "        self.__balance = balance  # Private attribute\n",
        "\n",
        "    # Public method to deposit money\n",
        "    def deposit(self, amount):\n",
        "        if amount > 0:\n",
        "            self.__balance += amount\n",
        "            print(f\"Deposited ${amount}. New balance is ${self.__balance}\")\n",
        "        else:\n",
        "            print(\"Deposit amount must be positive.\")\n",
        "\n",
        "    # Public method to withdraw money\n",
        "    def withdraw(self, amount):\n",
        "        if 0 < amount <= self.__balance:\n",
        "            self.__balance -= amount\n",
        "            print(f\"Withdrew ${amount}. Remaining balance is ${self.__balance}\")\n",
        "        else:\n",
        "            print(\"Invalid withdrawal amount or insufficient balance.\")\n",
        "\n",
        "    # Public method to check balance\n",
        "    def check_balance(self):\n",
        "        return f\"Account Number: {self.__account_number}, Balance: ${self.__balance}\"\n",
        "\n",
        "    # Optional: Getter for account number (without exposing it directly)\n",
        "    def get_account_number(self):\n",
        "        return self.__account_number\n",
        "\n",
        "account = BankAccount(\"123456789\", 1000)\n",
        "account.deposit(500)\n",
        "account.withdraw(200)\n",
        "print(account.check_balance())\n",
        "print(f\"Account Number: {account.get_account_number()}\")"
      ],
      "metadata": {
        "colab": {
          "base_uri": "https://localhost:8080/"
        },
        "id": "kHFZ-9X0dLen",
        "outputId": "8bb0c191-1c93-4883-897a-b89849310240"
      },
      "execution_count": 5,
      "outputs": [
        {
          "output_type": "stream",
          "name": "stdout",
          "text": [
            "Deposited $500. New balance is $1500\n",
            "Withdrew $200. Remaining balance is $1300\n",
            "Account Number: 123456789, Balance: $1300\n",
            "Account Number: 123456789\n"
          ]
        }
      ]
    },
    {
      "cell_type": "markdown",
      "source": [
        "11. Write a class that overrides the `__str__` and `__add__` magic methods. What will these methods allow\n",
        "you to do?"
      ],
      "metadata": {
        "id": "VZsrizundXAy"
      }
    },
    {
      "cell_type": "code",
      "source": [
        "class Point:\n",
        "    def __init__(self, x, y):\n",
        "        self.x = x\n",
        "        self.y = y\n",
        "\n",
        "    # Override the __str__ method to provide a custom string representation\n",
        "    def __str__(self):\n",
        "        return f\"Point({self.x}, {self.y})\"\n",
        "\n",
        "    # Override the __add__ method to define how two Point objects are added\n",
        "    def __add__(self, other):\n",
        "        if isinstance(other, Point):\n",
        "            return Point(self.x + other.x, self.y + other.y)\n",
        "        return NotImplemented\n",
        "p1 = Point(2, 3)\n",
        "p2 = Point(4, 5)\n",
        "print(p1)\n",
        "p3 = p1 + p2\n",
        "print(p3)"
      ],
      "metadata": {
        "colab": {
          "base_uri": "https://localhost:8080/"
        },
        "id": "soCMxRaHdcaP",
        "outputId": "eb080b1e-8ce5-4f9d-a522-bd49a9992a1f"
      },
      "execution_count": 6,
      "outputs": [
        {
          "output_type": "stream",
          "name": "stdout",
          "text": [
            "Point(2, 3)\n",
            "Point(6, 8)\n"
          ]
        }
      ]
    },
    {
      "cell_type": "markdown",
      "source": [
        "12. Create a decorator that measures and prints the execution time of a function."
      ],
      "metadata": {
        "id": "k7OxpwOid1Et"
      }
    },
    {
      "cell_type": "code",
      "source": [
        "import time\n",
        "\n",
        "# Define the decorator\n",
        "def execution_time_decorator(func):\n",
        "    def wrapper(*args, **kwargs):\n",
        "        start_time = time.time()\n",
        "        result = func(*args, **kwargs)\n",
        "        end_time = time.time()\n",
        "        execution_time = end_time - start_time\n",
        "        print(f\"Execution time of {func.__name__}: {execution_time:.6f} seconds\")\n",
        "        return result\n",
        "    return wrapper\n",
        "\n",
        "@execution_time_decorator\n",
        "def example_function(n):\n",
        "    total = 0\n",
        "    for i in range(n):\n",
        "        total += i\n",
        "    return total\n",
        "example_function(1000000)"
      ],
      "metadata": {
        "colab": {
          "base_uri": "https://localhost:8080/"
        },
        "id": "bKOIc-sFeB2M",
        "outputId": "ddfaeddb-bf24-4308-e900-253477e6c931"
      },
      "execution_count": 8,
      "outputs": [
        {
          "output_type": "stream",
          "name": "stdout",
          "text": [
            "Execution time of example_function: 0.076169 seconds\n"
          ]
        },
        {
          "output_type": "execute_result",
          "data": {
            "text/plain": [
              "499999500000"
            ]
          },
          "metadata": {},
          "execution_count": 8
        }
      ]
    },
    {
      "cell_type": "markdown",
      "source": [
        "13. Explain the concept of the Diamond Problem in multiple inheritance. How does Python resolve it?"
      ],
      "metadata": {
        "id": "3uHP6XlWeZHU"
      }
    },
    {
      "cell_type": "markdown",
      "source": [
        "The Diamond Problem in Multiple Inheritance\n",
        "The Diamond Problem occurs in object-oriented programming when a class inherits from two or more classes that share a common base class. This leads to an ambiguity about which method or attribute to use from the base class, as there can be multiple paths of inheritance.\n",
        "\n",
        "Diamond Shape of Inheritance\n",
        "The problem gets its name from the inheritance diagram, which forms a diamond-like shape. Here’s an example:\n",
        "\n",
        "        A\n",
        "       / \\\n",
        "      B   C\n",
        "       \\ /\n",
        "        D\n",
        "Class A is the base class.\n",
        "Classes B and C both inherit from A.\n",
        "Class D inherits from both B and C.\n",
        "Now, if D tries to access a method or attribute that A defines, it is unclear whether it should take the path through B or C to reach A. This is the Diamond Problem."
      ],
      "metadata": {
        "id": "FzXAW2hye4Ts"
      }
    },
    {
      "cell_type": "code",
      "source": [
        "class A:\n",
        "    def display(self):\n",
        "        print(\"Display from class A\")\n",
        "\n",
        "class B(A):\n",
        "    def display(self):\n",
        "        print(\"Display from class B\")\n",
        "\n",
        "class C(A):\n",
        "    def display(self):\n",
        "        print(\"Display from class C\")\n",
        "\n",
        "class D(B, C):\n",
        "    pass\n",
        "\n",
        "d = D()\n",
        "d.display()\n",
        "print(D.__mro__)\n"
      ],
      "metadata": {
        "colab": {
          "base_uri": "https://localhost:8080/"
        },
        "id": "Kyr5OZywfvVy",
        "outputId": "aa9f0bae-d8de-409c-b2ae-cec4cea061c3"
      },
      "execution_count": 11,
      "outputs": [
        {
          "output_type": "stream",
          "name": "stdout",
          "text": [
            "Display from class B\n",
            "(<class '__main__.D'>, <class '__main__.B'>, <class '__main__.C'>, <class '__main__.A'>, <class 'object'>)\n"
          ]
        }
      ]
    },
    {
      "cell_type": "markdown",
      "source": [
        "**How Python Resolves the Diamond Problem: Method Resolution Order (MRO)**\n",
        "\n",
        "Python uses a technique called Method Resolution Order (MRO) to solve this ambiguity. The MRO defines the order in which Python looks for a method in a hierarchy of classes. It follows the C3 Linearization algorithm, which ensures that each class is only called once in the inheritance chain and follows a specific order.\n",
        "\n",
        "In the example above, Python resolves this by searching the classes in a specific order determined by the MRO. We can inspect the MRO of any class using the __mro__ attribute or the mro() method.\n",
        "\n",
        "**Benefits of MRO:**\n",
        "\n",
        "Deterministic: Python’s MRO ensures that the inheritance chain is resolved in a consistent, predictable order.\n",
        "Avoids Duplication: The MRO ensures that each class is only considered once, avoiding issues with methods or attributes being accessed multiple times."
      ],
      "metadata": {
        "id": "6uYnCx1rf_-9"
      }
    },
    {
      "cell_type": "markdown",
      "source": [
        "14. Write a class method that keeps track of the number of instances created from a class."
      ],
      "metadata": {
        "id": "LDiBxg0rgsbs"
      }
    },
    {
      "cell_type": "code",
      "source": [
        "class MyClass:\n",
        "\n",
        "    instance_count = 0\n",
        "\n",
        "    def __init__(self):\n",
        "\n",
        "        MyClass.instance_count += 1\n",
        "\n",
        "    @classmethod\n",
        "    def get_instance_count(cls):\n",
        "        return cls.instance_count\n",
        "obj1 = MyClass()\n",
        "obj2 = MyClass()\n",
        "obj3 = MyClass()\n",
        "\n",
        "print(MyClass.get_instance_count())"
      ],
      "metadata": {
        "colab": {
          "base_uri": "https://localhost:8080/"
        },
        "id": "mkpTv52Pg5vO",
        "outputId": "9b4c9868-7100-4f6e-a22e-78ec58c61909"
      },
      "execution_count": 12,
      "outputs": [
        {
          "output_type": "stream",
          "name": "stdout",
          "text": [
            "3\n"
          ]
        }
      ]
    },
    {
      "cell_type": "markdown",
      "source": [
        "15. Implement a static method in a class that checks if a given year is a leap year."
      ],
      "metadata": {
        "id": "7cqYOJ1XhGna"
      }
    },
    {
      "cell_type": "code",
      "source": [
        "class YearUtility:\n",
        "\n",
        "    @staticmethod\n",
        "    def is_leap_year(year):\n",
        "        if (year % 4 == 0 and year % 100 != 0) or (year % 400 == 0):\n",
        "            return True\n",
        "        return False\n",
        "\n",
        "print(YearUtility.is_leap_year(2024))\n",
        "\n",
        "print(YearUtility.is_leap_year(1900))\n",
        "\n",
        "print(YearUtility.is_leap_year(2000))"
      ],
      "metadata": {
        "colab": {
          "base_uri": "https://localhost:8080/"
        },
        "id": "iABqkr3FhUeO",
        "outputId": "984290e2-4985-4976-845a-e4f1393c7281"
      },
      "execution_count": 13,
      "outputs": [
        {
          "output_type": "stream",
          "name": "stdout",
          "text": [
            "True\n",
            "False\n",
            "True\n"
          ]
        }
      ]
    },
    {
      "cell_type": "code",
      "source": [],
      "metadata": {
        "id": "ZZEhqDqgha5h"
      },
      "execution_count": null,
      "outputs": []
    }
  ]
}