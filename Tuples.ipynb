{
 "cells": [
  {
   "cell_type": "code",
   "execution_count": 1,
   "id": "b7fbf2a7-0b67-4310-a981-99d1fc6725a4",
   "metadata": {},
   "outputs": [],
   "source": [
    "# Tuples is immutable()"
   ]
  },
  {
   "cell_type": "code",
   "execution_count": 2,
   "id": "febdc23f-3ad7-4a14-b6d1-263849fc0561",
   "metadata": {},
   "outputs": [
    {
     "data": {
      "text/plain": [
       "(2, 3)"
      ]
     },
     "execution_count": 2,
     "metadata": {},
     "output_type": "execute_result"
    }
   ],
   "source": [
    "point = (2, 3)\n",
    "point"
   ]
  },
  {
   "cell_type": "code",
   "execution_count": 3,
   "id": "8cdb1b92-c682-4af5-bb50-e9fc5b7cfd8a",
   "metadata": {},
   "outputs": [
    {
     "data": {
      "text/plain": [
       "tuple"
      ]
     },
     "execution_count": 3,
     "metadata": {},
     "output_type": "execute_result"
    }
   ],
   "source": [
    "type(point)"
   ]
  },
  {
   "cell_type": "code",
   "execution_count": 4,
   "id": "d60e8d80-7176-4974-a0a9-44b9b7d77775",
   "metadata": {},
   "outputs": [
    {
     "data": {
      "text/plain": [
       "('Ajay', 'Ajay1', 'Bijay', 'Sanjay')"
      ]
     },
     "execution_count": 4,
     "metadata": {},
     "output_type": "execute_result"
    }
   ],
   "source": [
    "#use case>> adhar card\n",
    "emp_name =(\"Ajay\", \"Ajay1\", \"Bijay\", \"Sanjay\")\n",
    "emp_name"
   ]
  },
  {
   "cell_type": "code",
   "execution_count": 5,
   "id": "009c50dd-2657-4c0e-8c5c-dcddedcf6bf1",
   "metadata": {},
   "outputs": [],
   "source": [
    "box1 = (\"a\", \"b\")\n",
    "box2 = (\"c\", \"d\")\n",
    "choc = (box1, box2)"
   ]
  },
  {
   "cell_type": "code",
   "execution_count": 6,
   "id": "de541cdf-25f5-41fe-8d85-2d1327f80ea8",
   "metadata": {},
   "outputs": [
    {
     "data": {
      "text/plain": [
       "(('a', 'b'), ('c', 'd'))"
      ]
     },
     "execution_count": 6,
     "metadata": {},
     "output_type": "execute_result"
    }
   ],
   "source": [
    "choc"
   ]
  },
  {
   "cell_type": "code",
   "execution_count": 7,
   "id": "abd01832-c59a-46dc-bfee-d7839534f464",
   "metadata": {},
   "outputs": [
    {
     "name": "stdout",
     "output_type": "stream",
     "text": [
      "a\n",
      "b\n",
      "c\n",
      "d\n"
     ]
    }
   ],
   "source": [
    "for box in choc:\n",
    "    for choc in box:\n",
    "        print(choc)"
   ]
  },
  {
   "cell_type": "code",
   "execution_count": 8,
   "id": "dca2bb54-2bdd-4bba-af31-6ff20eab0dfe",
   "metadata": {},
   "outputs": [],
   "source": [
    "# sets >> are unordered collection of unique elemets\n"
   ]
  },
  {
   "cell_type": "code",
   "execution_count": 9,
   "id": "f1dce0c5-56c5-4fcc-b741-3fff2525192b",
   "metadata": {},
   "outputs": [
    {
     "data": {
      "text/plain": [
       "{'blue', 'orange', 'red'}"
      ]
     },
     "execution_count": 9,
     "metadata": {},
     "output_type": "execute_result"
    }
   ],
   "source": [
    "s = {\"red\", \"orange\", \"red\", \"blue\", \"red\"}\n",
    "s"
   ]
  },
  {
   "cell_type": "code",
   "execution_count": 10,
   "id": "2a4314bc-c93b-4098-847f-41c7118a4b67",
   "metadata": {},
   "outputs": [
    {
     "data": {
      "text/plain": [
       "{'blue', 'orange', 'pwskill', 'red'}"
      ]
     },
     "execution_count": 10,
     "metadata": {},
     "output_type": "execute_result"
    }
   ],
   "source": [
    "s.add(\"pwskill\")\n",
    "s"
   ]
  },
  {
   "cell_type": "code",
   "execution_count": 11,
   "id": "edd2b72b-b081-4327-b4b0-010e0138a2a9",
   "metadata": {},
   "outputs": [],
   "source": [
    "gor_list = {\"apple\", \"orang\", \"banana\"}\n"
   ]
  },
  {
   "cell_type": "code",
   "execution_count": 12,
   "id": "691cb643-3706-4e72-a0fe-ff7182498fd2",
   "metadata": {},
   "outputs": [],
   "source": [
    "#use case \n",
    "#immutable data that is used to store data that cannot be change\n",
    "#ex>> account no,"
   ]
  },
  {
   "cell_type": "code",
   "execution_count": 13,
   "id": "b88cfe14-7a39-4a55-ac46-4b928979a66e",
   "metadata": {},
   "outputs": [
    {
     "data": {
      "text/plain": [
       "3"
      ]
     },
     "execution_count": 13,
     "metadata": {},
     "output_type": "execute_result"
    }
   ],
   "source": [
    "t = (1, 2, 2, 2)\n",
    "t.count(2)"
   ]
  },
  {
   "cell_type": "code",
   "execution_count": 15,
   "id": "792ddae4-c3c3-46ba-833d-d4b79f6165d2",
   "metadata": {},
   "outputs": [
    {
     "ename": "ValueError",
     "evalue": "tuple.index(x): x not in tuple",
     "output_type": "error",
     "traceback": [
      "\u001b[0;31m---------------------------------------------------------------------------\u001b[0m",
      "\u001b[0;31mValueError\u001b[0m                                Traceback (most recent call last)",
      "Cell \u001b[0;32mIn[15], line 1\u001b[0m\n\u001b[0;32m----> 1\u001b[0m \u001b[43mt\u001b[49m\u001b[38;5;241;43m.\u001b[39;49m\u001b[43mindex\u001b[49m\u001b[43m(\u001b[49m\u001b[38;5;124;43m\"\u001b[39;49m\u001b[38;5;124;43mpwskills\u001b[39;49m\u001b[38;5;124;43m\"\u001b[39;49m\u001b[43m)\u001b[49m\n",
      "\u001b[0;31mValueError\u001b[0m: tuple.index(x): x not in tuple"
     ]
    }
   ],
   "source": [
    "t.index(\"pwskills\")"
   ]
  },
  {
   "cell_type": "code",
   "execution_count": 1,
   "id": "213d9ee5-7684-4d52-9b36-96b27141ba20",
   "metadata": {},
   "outputs": [
    {
     "name": "stdout",
     "output_type": "stream",
     "text": [
      "0\n",
      "1\n",
      "2\n",
      "3\n",
      "4\n"
     ]
    }
   ],
   "source": [
    "count = 0\n",
    "\n",
    "while count < 5:\n",
    "    print(count)\n",
    "    count += 1"
   ]
  },
  {
   "cell_type": "code",
   "execution_count": 2,
   "id": "a1a153dc-e1b6-47c8-87fc-28e9233ac3c2",
   "metadata": {},
   "outputs": [],
   "source": [
    "#tuples are ordered collection of elements, hetrogenouse, immutable\n"
   ]
  },
  {
   "cell_type": "code",
   "execution_count": 3,
   "id": "5e6f3a3f-8308-4862-b026-fb25acff8a54",
   "metadata": {},
   "outputs": [
    {
     "data": {
      "text/plain": [
       "tuple"
      ]
     },
     "execution_count": 3,
     "metadata": {},
     "output_type": "execute_result"
    }
   ],
   "source": [
    "t = (\"pwskills\", \"Ajay\", 2, 2.3, True, 3j+1)\n",
    "type(t)"
   ]
  },
  {
   "cell_type": "code",
   "execution_count": 4,
   "id": "0ced29a5-0331-46b0-a74d-bdcd54bf0bd8",
   "metadata": {},
   "outputs": [
    {
     "data": {
      "text/plain": [
       "'pwskills'"
      ]
     },
     "execution_count": 4,
     "metadata": {},
     "output_type": "execute_result"
    }
   ],
   "source": [
    "t[0]\n"
   ]
  },
  {
   "cell_type": "code",
   "execution_count": 5,
   "id": "57287472-7b32-493d-9162-17e7b759b19f",
   "metadata": {},
   "outputs": [
    {
     "data": {
      "text/plain": [
       "1"
      ]
     },
     "execution_count": 5,
     "metadata": {},
     "output_type": "execute_result"
    }
   ],
   "source": [
    "t.count(1)"
   ]
  },
  {
   "cell_type": "code",
   "execution_count": 6,
   "id": "9bc5fe7b-2195-4d65-943b-146ee7bfbd04",
   "metadata": {},
   "outputs": [],
   "source": [
    "#sets>> sets are unordered an unique collection of elements.\n",
    "#doesn't allow duplicate \n",
    "#unordered >> indexing will not appliacble"
   ]
  },
  {
   "cell_type": "code",
   "execution_count": 7,
   "id": "13f475f5-28ef-467e-b96d-8f0369d58c5e",
   "metadata": {},
   "outputs": [
    {
     "data": {
      "text/plain": [
       "set"
      ]
     },
     "execution_count": 7,
     "metadata": {},
     "output_type": "execute_result"
    }
   ],
   "source": [
    "s = {1, 2, 3, 4}\n",
    "type(s)"
   ]
  },
  {
   "cell_type": "code",
   "execution_count": 2,
   "id": "4d4654cd-7ad7-4178-8932-094bdf6383f6",
   "metadata": {},
   "outputs": [
    {
     "data": {
      "text/plain": [
       "{1, 2, 3, 4, 100}"
      ]
     },
     "execution_count": 2,
     "metadata": {},
     "output_type": "execute_result"
    }
   ],
   "source": [
    "s = {1, 2, 3, 4}\n",
    "s.add(100)\n",
    "s"
   ]
  },
  {
   "cell_type": "code",
   "execution_count": 3,
   "id": "d14e7879-aeee-44a8-932a-a048deb6f1ba",
   "metadata": {},
   "outputs": [
    {
     "data": {
      "text/plain": [
       "1"
      ]
     },
     "execution_count": 3,
     "metadata": {},
     "output_type": "execute_result"
    }
   ],
   "source": [
    "s.pop() #its is not compulsory it will remove last element"
   ]
  },
  {
   "cell_type": "code",
   "execution_count": 4,
   "id": "bc36697e-f6e5-4c67-990d-6c04454fb573",
   "metadata": {},
   "outputs": [],
   "source": [
    "s.update([\"ajay\"])"
   ]
  },
  {
   "cell_type": "code",
   "execution_count": 6,
   "id": "0750b03e-64b6-438e-b3ea-9184105ff04c",
   "metadata": {},
   "outputs": [
    {
     "data": {
      "text/plain": [
       "{100, 2, 3, 4, 'a', 'j', 'y'}"
      ]
     },
     "execution_count": 6,
     "metadata": {},
     "output_type": "execute_result"
    }
   ],
   "source": [
    "s"
   ]
  },
  {
   "cell_type": "code",
   "execution_count": 7,
   "id": "b0ea6400-4939-4dd3-b1c5-8b28910f269d",
   "metadata": {},
   "outputs": [],
   "source": [
    "s.update([\"ajay\"])"
   ]
  },
  {
   "cell_type": "code",
   "execution_count": 8,
   "id": "cf314572-962c-4f67-8cab-affb31beb390",
   "metadata": {},
   "outputs": [
    {
     "data": {
      "text/plain": [
       "{100, 2, 3, 4, 'a', 'ajay', 'j', 'y'}"
      ]
     },
     "execution_count": 8,
     "metadata": {},
     "output_type": "execute_result"
    }
   ],
   "source": [
    "s"
   ]
  },
  {
   "cell_type": "code",
   "execution_count": 9,
   "id": "77e82694-6f73-4392-a737-e6849b76e762",
   "metadata": {},
   "outputs": [
    {
     "data": {
      "text/plain": [
       "{1, 2, 3, 4, 5, 6, 7, 8}"
      ]
     },
     "execution_count": 9,
     "metadata": {},
     "output_type": "execute_result"
    }
   ],
   "source": [
    "#set operations\n",
    "#union\n",
    "#intersection\n",
    "#symmetry diference\n",
    "#minus, differnce\n",
    "\n",
    "s1 = {1, 2, 3, 4, 5}\n",
    "s2 = {4, 6, 7, 1, 8}\n",
    "\n",
    "s1 | s2"
   ]
  },
  {
   "cell_type": "code",
   "execution_count": 10,
   "id": "a624a5a1-e472-42cb-9615-42ef2b98f00a",
   "metadata": {},
   "outputs": [
    {
     "data": {
      "text/plain": [
       "{1, 4}"
      ]
     },
     "execution_count": 10,
     "metadata": {},
     "output_type": "execute_result"
    }
   ],
   "source": [
    "s1 & s2"
   ]
  },
  {
   "cell_type": "code",
   "execution_count": 11,
   "id": "9040d905-4661-4f39-b720-c0453a498c60",
   "metadata": {},
   "outputs": [
    {
     "data": {
      "text/plain": [
       "{2, 3, 5}"
      ]
     },
     "execution_count": 11,
     "metadata": {},
     "output_type": "execute_result"
    }
   ],
   "source": [
    "s1-s2"
   ]
  },
  {
   "cell_type": "code",
   "execution_count": 12,
   "id": "708bb477-6ab5-40ee-a0e3-bc38a9e892ef",
   "metadata": {},
   "outputs": [
    {
     "data": {
      "text/plain": [
       "{2, 3, 5, 6, 7, 8}"
      ]
     },
     "execution_count": 12,
     "metadata": {},
     "output_type": "execute_result"
    }
   ],
   "source": [
    "s1 ^ s2"
   ]
  },
  {
   "cell_type": "code",
   "execution_count": 13,
   "id": "10e6ed38-1eef-4d76-8afb-b71679012e2d",
   "metadata": {},
   "outputs": [
    {
     "data": {
      "text/plain": [
       "frozenset({1, 2, 3, 4, 5})"
      ]
     },
     "execution_count": 13,
     "metadata": {},
     "output_type": "execute_result"
    }
   ],
   "source": [
    "# frozen sets\n",
    "\n",
    "s1 = frozenset([1, 2, 3, 4, 5])\n",
    "\n",
    "s1\n"
   ]
  },
  {
   "cell_type": "code",
   "execution_count": 14,
   "id": "9959cf32-5e1d-45b6-b54c-a00e4ec214df",
   "metadata": {},
   "outputs": [
    {
     "ename": "AttributeError",
     "evalue": "'frozenset' object has no attribute 'add'",
     "output_type": "error",
     "traceback": [
      "\u001b[0;31m---------------------------------------------------------------------------\u001b[0m",
      "\u001b[0;31mAttributeError\u001b[0m                            Traceback (most recent call last)",
      "Cell \u001b[0;32mIn[14], line 1\u001b[0m\n\u001b[0;32m----> 1\u001b[0m \u001b[43ms1\u001b[49m\u001b[38;5;241;43m.\u001b[39;49m\u001b[43madd\u001b[49m(\u001b[38;5;241m5\u001b[39m)\n",
      "\u001b[0;31mAttributeError\u001b[0m: 'frozenset' object has no attribute 'add'"
     ]
    }
   ],
   "source": [
    "s1.add(5)"
   ]
  },
  {
   "cell_type": "code",
   "execution_count": null,
   "id": "ed12b010-361b-41d1-8cfd-33dc0a33e1df",
   "metadata": {},
   "outputs": [],
   "source": []
  }
 ],
 "metadata": {
  "kernelspec": {
   "display_name": "Python 3 (ipykernel)",
   "language": "python",
   "name": "python3"
  },
  "language_info": {
   "codemirror_mode": {
    "name": "ipython",
    "version": 3
   },
   "file_extension": ".py",
   "mimetype": "text/x-python",
   "name": "python",
   "nbconvert_exporter": "python",
   "pygments_lexer": "ipython3",
   "version": "3.10.8"
  }
 },
 "nbformat": 4,
 "nbformat_minor": 5
}
