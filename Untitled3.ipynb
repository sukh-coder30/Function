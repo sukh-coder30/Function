{
 "cells": [
  {
   "cell_type": "code",
   "execution_count": 1,
   "id": "c86598a6-e00c-464e-aaa7-bff67dfbca08",
   "metadata": {},
   "outputs": [
    {
     "name": "stdout",
     "output_type": "stream",
     "text": [
      "p\n",
      "w\n",
      "s\n",
      "k\n",
      "i\n",
      "l\n",
      "l\n"
     ]
    }
   ],
   "source": [
    "for i in \"pwskill\":\n",
    "    print(i)"
   ]
  },
  {
   "cell_type": "code",
   "execution_count": 2,
   "id": "a7ddb262-11e8-42f9-907d-788827105c50",
   "metadata": {},
   "outputs": [
    {
     "name": "stdout",
     "output_type": "stream",
     "text": [
      "1\n",
      "2\n",
      "pwskill\n",
      "pichu\n"
     ]
    }
   ],
   "source": [
    "a = [1,2, \"pwskill\", \"pichu\"]\n",
    "for i in a:\n",
    "    print(i)"
   ]
  },
  {
   "cell_type": "code",
   "execution_count": 3,
   "id": "45fcd437-5738-4ab5-b615-e61a8024353b",
   "metadata": {},
   "outputs": [
    {
     "name": "stdout",
     "output_type": "stream",
     "text": [
      "0\n",
      "1\n",
      "2\n",
      "3\n",
      "4\n",
      "5\n",
      "6\n",
      "7\n",
      "8\n",
      "9\n"
     ]
    }
   ],
   "source": [
    "for i in range(10):\n",
    "    print(i)"
   ]
  },
  {
   "cell_type": "code",
   "execution_count": 4,
   "id": "3286cf5a-f199-4c40-98e6-e6a34c415b06",
   "metadata": {},
   "outputs": [],
   "source": [
    "#problem statement print and right trangle with astric"
   ]
  },
  {
   "cell_type": "code",
   "execution_count": 6,
   "id": "fc33660c-a235-45e3-b670-3ba4367464c0",
   "metadata": {},
   "outputs": [
    {
     "name": "stdout",
     "output_type": "stream",
     "text": [
      "* \n",
      "* * \n",
      "* * * \n",
      "* * * * \n"
     ]
    }
   ],
   "source": [
    "row = 1\n",
    "while row <= 4:\n",
    "    col = 1\n",
    "    while col <= row:\n",
    "        print(\"*\", end = \" \")\n",
    "        col = col + 1\n",
    "    print()\n",
    "    row = row + 1\n",
    "            \n",
    "            "
   ]
  },
  {
   "cell_type": "code",
   "execution_count": 7,
   "id": "55980b2d-499c-4044-8e34-5d99cb8224b2",
   "metadata": {},
   "outputs": [
    {
     "name": "stdout",
     "output_type": "stream",
     "text": [
      "* * * * \n",
      "* * * * \n",
      "* * * * \n",
      "* * * * \n"
     ]
    }
   ],
   "source": [
    "row = 1\n",
    "\n",
    "while row <= 4:\n",
    "    col = 1\n",
    "    while col <= 4:\n",
    "        print(\"*\", end = \" \")\n",
    "        col = col + 1\n",
    "    print()\n",
    "    row = row + 1"
   ]
  },
  {
   "cell_type": "code",
   "execution_count": 13,
   "id": "cdaa3365-f59f-49c3-ad88-6281ac979bef",
   "metadata": {},
   "outputs": [
    {
     "name": "stdout",
     "output_type": "stream",
     "text": [
      "* * * * \n",
      "* * * * \n",
      "* * * * \n",
      "* * * * \n"
     ]
    }
   ],
   "source": [
    "row = 1\n",
    "\n",
    "while row <= 4:\n",
    "    col = 1\n",
    "    while col <= 4:\n",
    "        if ((col <= 1) and (col == 4)):\n",
    "            continue\n",
    "        else:\n",
    "            print(\"*\", end = \" \")\n",
    "        col = col + 1\n",
    "    print()\n",
    "    row = row + 1"
   ]
  },
  {
   "cell_type": "code",
   "execution_count": 14,
   "id": "3b4ee93c-d3a7-4982-8f31-71c6a6f46075",
   "metadata": {},
   "outputs": [
    {
     "name": "stdout",
     "output_type": "stream",
     "text": [
      "* \n",
      "* * \n",
      "* * * \n",
      "* * * * \n"
     ]
    }
   ],
   "source": [
    "for i in range(4):\n",
    "    for j in range(i+1):\n",
    "        print(\"*\", end = \" \")   \n",
    "    print()\n",
    "        "
   ]
  },
  {
   "cell_type": "code",
   "execution_count": 17,
   "id": "3d55502d-0914-4284-af5f-0fe18c62a753",
   "metadata": {},
   "outputs": [
    {
     "ename": "NameError",
     "evalue": "name 'J' is not defined",
     "output_type": "error",
     "traceback": [
      "\u001b[0;31m---------------------------------------------------------------------------\u001b[0m",
      "\u001b[0;31mNameError\u001b[0m                                 Traceback (most recent call last)",
      "Cell \u001b[0;32mIn[17], line 3\u001b[0m\n\u001b[1;32m      1\u001b[0m \u001b[38;5;28;01mfor\u001b[39;00m i \u001b[38;5;129;01min\u001b[39;00m \u001b[38;5;28mrange\u001b[39m(\u001b[38;5;241m1\u001b[39m, \u001b[38;5;241m6\u001b[39m):\n\u001b[1;32m      2\u001b[0m     \u001b[38;5;28;01mfor\u001b[39;00m j \u001b[38;5;129;01min\u001b[39;00m \u001b[38;5;28mrange\u001b[39m(\u001b[38;5;241m1\u001b[39m, \u001b[38;5;241m11\u001b[39m):\n\u001b[0;32m----> 3\u001b[0m         c \u001b[38;5;241m=\u001b[39m i \u001b[38;5;241m*\u001b[39m \u001b[43mJ\u001b[49m\n\u001b[1;32m      4\u001b[0m         \u001b[38;5;28mprint\u001b[39m(\u001b[38;5;124mf\u001b[39m\u001b[38;5;124m\"\u001b[39m\u001b[38;5;132;01m{\u001b[39;00mi\u001b[38;5;132;01m}\u001b[39;00m\u001b[38;5;124m * \u001b[39m\u001b[38;5;132;01m{\u001b[39;00mj\u001b[38;5;132;01m}\u001b[39;00m\u001b[38;5;124m = \u001b[39m\u001b[38;5;132;01m{\u001b[39;00mc\u001b[38;5;132;01m}\u001b[39;00m\u001b[38;5;124m\"\u001b[39m)\n\u001b[1;32m      5\u001b[0m     \u001b[38;5;28mprint\u001b[39m()\n",
      "\u001b[0;31mNameError\u001b[0m: name 'J' is not defined"
     ]
    }
   ],
   "source": [
    "for i in range(1, 6):\n",
    "    for j in range(1, 11):\n",
    "        c = i * J\n",
    "        print(f\"{i} * {j} = {c}\")\n",
    "    print()"
   ]
  },
  {
   "cell_type": "code",
   "execution_count": null,
   "id": "f570d6a9-0a0a-49ce-8e3a-f4e9d1464dd8",
   "metadata": {},
   "outputs": [],
   "source": []
  }
 ],
 "metadata": {
  "kernelspec": {
   "display_name": "Python 3 (ipykernel)",
   "language": "python",
   "name": "python3"
  },
  "language_info": {
   "codemirror_mode": {
    "name": "ipython",
    "version": 3
   },
   "file_extension": ".py",
   "mimetype": "text/x-python",
   "name": "python",
   "nbconvert_exporter": "python",
   "pygments_lexer": "ipython3",
   "version": "3.10.8"
  }
 },
 "nbformat": 4,
 "nbformat_minor": 5
}
