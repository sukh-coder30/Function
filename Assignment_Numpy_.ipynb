{
  "nbformat": 4,
  "nbformat_minor": 0,
  "metadata": {
    "colab": {
      "provenance": [],
      "authorship_tag": "ABX9TyMorU9jIB4AucQ8WJsFYO08",
      "include_colab_link": true
    },
    "kernelspec": {
      "name": "python3",
      "display_name": "Python 3"
    },
    "language_info": {
      "name": "python"
    }
  },
  "cells": [
    {
      "cell_type": "markdown",
      "metadata": {
        "id": "view-in-github",
        "colab_type": "text"
      },
      "source": [
        "<a href=\"https://colab.research.google.com/github/sukh-coder30/Function/blob/main/Assignment_Numpy_.ipynb\" target=\"_parent\"><img src=\"https://colab.research.google.com/assets/colab-badge.svg\" alt=\"Open In Colab\"/></a>"
      ]
    },
    {
      "cell_type": "markdown",
      "source": [
        "Q 1. Create a 3x3 NumPy array with random integers between 1 and 100. Then, interchange its rows and columns."
      ],
      "metadata": {
        "id": "SPZBP6sg8A2H"
      }
    },
    {
      "cell_type": "code",
      "source": [
        "import numpy as np\n"
      ],
      "metadata": {
        "id": "MZcow9Sx8GHq"
      },
      "execution_count": 3,
      "outputs": []
    },
    {
      "cell_type": "markdown",
      "source": [],
      "metadata": {
        "id": "9o02ggyp9DhD"
      }
    },
    {
      "cell_type": "code",
      "source": [
        "arr = np.random.randint(1, 101, (3, 3))"
      ],
      "metadata": {
        "id": "40XidfI18Pca"
      },
      "execution_count": null,
      "outputs": []
    },
    {
      "cell_type": "code",
      "source": [
        "arr"
      ],
      "metadata": {
        "colab": {
          "base_uri": "https://localhost:8080/"
        },
        "id": "re7rp4e78cDv",
        "outputId": "e096b054-e58e-4f11-dfbe-0df0ebe7bda1"
      },
      "execution_count": null,
      "outputs": [
        {
          "output_type": "execute_result",
          "data": {
            "text/plain": [
              "array([[18,  1, 77],\n",
              "       [22, 44, 31],\n",
              "       [41, 41, 36]])"
            ]
          },
          "metadata": {},
          "execution_count": 6
        }
      ]
    },
    {
      "cell_type": "code",
      "source": [
        "Transposed_arr = arr.T\n",
        "print(\"\\nTransposed Array:\")\n",
        "print(Transposed_arr)"
      ],
      "metadata": {
        "colab": {
          "base_uri": "https://localhost:8080/"
        },
        "id": "6LKc1jSM8fGZ",
        "outputId": "d290e4cf-5d3f-4deb-a242-2744ce561c0b"
      },
      "execution_count": null,
      "outputs": [
        {
          "output_type": "stream",
          "name": "stdout",
          "text": [
            "\n",
            "Transposed Array:\n",
            "[[18 22 41]\n",
            " [ 1 44 41]\n",
            " [77 31 36]]\n"
          ]
        }
      ]
    },
    {
      "cell_type": "markdown",
      "source": [
        "Q2.  Generate a 1D NumPy array with 10 elements. Reshape it into a 2x5 array, then into a 5x2 array."
      ],
      "metadata": {
        "id": "qZ815XwK91fZ"
      }
    },
    {
      "cell_type": "code",
      "source": [
        "arr1 = np.random.rand(10)"
      ],
      "metadata": {
        "id": "oTLAPCV6ztlw"
      },
      "execution_count": 4,
      "outputs": []
    },
    {
      "cell_type": "code",
      "source": [
        "arr1"
      ],
      "metadata": {
        "colab": {
          "base_uri": "https://localhost:8080/"
        },
        "id": "yhiUKWihz1EJ",
        "outputId": "e730fb6d-12c4-463d-bbd9-6231d8160d26"
      },
      "execution_count": 5,
      "outputs": [
        {
          "output_type": "execute_result",
          "data": {
            "text/plain": [
              "array([0.03722985, 0.25980901, 0.78650409, 0.08673294, 0.30601691,\n",
              "       0.65977299, 0.01014099, 0.99552176, 0.42080545, 0.33209044])"
            ]
          },
          "metadata": {},
          "execution_count": 5
        }
      ]
    },
    {
      "cell_type": "code",
      "source": [
        "np.reshape(arr1,(2, 5) )"
      ],
      "metadata": {
        "colab": {
          "base_uri": "https://localhost:8080/"
        },
        "id": "NKV_-PYpz3hF",
        "outputId": "abdacd09-2b6f-4daa-ab58-a1d97f0cf296"
      },
      "execution_count": 6,
      "outputs": [
        {
          "output_type": "execute_result",
          "data": {
            "text/plain": [
              "array([[0.03722985, 0.25980901, 0.78650409, 0.08673294, 0.30601691],\n",
              "       [0.65977299, 0.01014099, 0.99552176, 0.42080545, 0.33209044]])"
            ]
          },
          "metadata": {},
          "execution_count": 6
        }
      ]
    },
    {
      "cell_type": "code",
      "source": [
        "np.reshape(arr1,(5, 2) )"
      ],
      "metadata": {
        "colab": {
          "base_uri": "https://localhost:8080/"
        },
        "id": "ij3hFvfm0Jr0",
        "outputId": "afa97ef0-b8b8-4443-a288-638ce16f1a40"
      },
      "execution_count": 7,
      "outputs": [
        {
          "output_type": "execute_result",
          "data": {
            "text/plain": [
              "array([[0.03722985, 0.25980901],\n",
              "       [0.78650409, 0.08673294],\n",
              "       [0.30601691, 0.65977299],\n",
              "       [0.01014099, 0.99552176],\n",
              "       [0.42080545, 0.33209044]])"
            ]
          },
          "metadata": {},
          "execution_count": 7
        }
      ]
    },
    {
      "cell_type": "markdown",
      "source": [
        "3. Create a 4x4 NumPy array with random float values. Add a border of zeros around it, resulting in a 6x6 array.\n",
        "\n"
      ],
      "metadata": {
        "id": "ERSHWhCC0gqW"
      }
    },
    {
      "cell_type": "code",
      "source": [
        "arr = np.random.rand(4, 4)\n",
        "print(\"Original 4x4 Array:\")\n",
        "print(arr)\n",
        "\n",
        "padded_arr = np.pad(arr, pad_width=1, mode='constant', constant_values=0)\n",
        "print(\"\\n6x6 Array with Zero Border:\")\n",
        "print(padded_arr)"
      ],
      "metadata": {
        "colab": {
          "base_uri": "https://localhost:8080/"
        },
        "id": "yyzIXQGr21il",
        "outputId": "cf906440-4f2a-4c15-b66e-6031764572d6"
      },
      "execution_count": 21,
      "outputs": [
        {
          "output_type": "stream",
          "name": "stdout",
          "text": [
            "Original 4x4 Array:\n",
            "[[0.72481353 0.97132334 0.16108459 0.79514043]\n",
            " [0.31246162 0.4865634  0.88753364 0.42178613]\n",
            " [0.29796715 0.69741429 0.40996767 0.13997979]\n",
            " [0.66495805 0.26978458 0.17120037 0.68927723]]\n",
            "\n",
            "6x6 Array with Zero Border:\n",
            "[[0.         0.         0.         0.         0.         0.        ]\n",
            " [0.         0.72481353 0.97132334 0.16108459 0.79514043 0.        ]\n",
            " [0.         0.31246162 0.4865634  0.88753364 0.42178613 0.        ]\n",
            " [0.         0.29796715 0.69741429 0.40996767 0.13997979 0.        ]\n",
            " [0.         0.66495805 0.26978458 0.17120037 0.68927723 0.        ]\n",
            " [0.         0.         0.         0.         0.         0.        ]]\n"
          ]
        }
      ]
    },
    {
      "cell_type": "markdown",
      "source": [
        "4. Using NumPy, create an array of integers from 10 to 60 with a step of 5."
      ],
      "metadata": {
        "id": "z0KiWnCq4afE"
      }
    },
    {
      "cell_type": "code",
      "source": [
        "\n",
        "arr = np.arange(10, 65, 5)\n",
        "print(arr)"
      ],
      "metadata": {
        "colab": {
          "base_uri": "https://localhost:8080/"
        },
        "id": "hNKreOY54PXy",
        "outputId": "8a38dbfa-f19e-4a2b-d5a9-1b8220c512bc"
      },
      "execution_count": 22,
      "outputs": [
        {
          "output_type": "stream",
          "name": "stdout",
          "text": [
            "[10 15 20 25 30 35 40 45 50 55 60]\n"
          ]
        }
      ]
    },
    {
      "cell_type": "markdown",
      "source": [
        "Create a NumPy array of strings ['python', 'numpy', 'pandas']. Apply different case transformations\n",
        "(uppercase, lowercase, title case, etc.) to each element"
      ],
      "metadata": {
        "id": "g3Lb8Gwa4y9_"
      }
    },
    {
      "cell_type": "code",
      "source": [
        "arr = np.array(['python', 'numpy', 'pandas'])\n",
        "\n",
        "uppercase_arr = np.char.upper(arr)\n",
        "\n",
        "lowercase_arr = np.char.lower(arr)\n",
        "\n",
        "titlecase_arr = np.char.title(arr)\n",
        "\n",
        "print(\"Original Array:\", arr)\n",
        "print(\"Uppercase:\", uppercase_arr)\n",
        "print(\"Lowercase:\", lowercase_arr)\n",
        "print(\"Title Case:\", titlecase_arr)"
      ],
      "metadata": {
        "colab": {
          "base_uri": "https://localhost:8080/"
        },
        "id": "bhhYx5C9427I",
        "outputId": "ef4ea851-c699-420d-b6ab-6888501cca93"
      },
      "execution_count": 23,
      "outputs": [
        {
          "output_type": "stream",
          "name": "stdout",
          "text": [
            "Original Array: ['python' 'numpy' 'pandas']\n",
            "Uppercase: ['PYTHON' 'NUMPY' 'PANDAS']\n",
            "Lowercase: ['python' 'numpy' 'pandas']\n",
            "Title Case: ['Python' 'Numpy' 'Pandas']\n"
          ]
        }
      ]
    },
    {
      "cell_type": "markdown",
      "source": [
        " 5. Generate a NumPy array of words. Insert a space between each character of every word in the array"
      ],
      "metadata": {
        "id": "sO1O9sYr5KPp"
      }
    },
    {
      "cell_type": "code",
      "source": [
        "arr = np.array(['python', 'numpy', 'pandas'])\n",
        "\n",
        "spaced_arr = np.char.join(' ', arr)\n",
        "\n",
        "print(\"Original Array:\", arr)\n",
        "print(\"Spaced Array:\", spaced_arr)"
      ],
      "metadata": {
        "colab": {
          "base_uri": "https://localhost:8080/"
        },
        "id": "6RthXZqE5Sr0",
        "outputId": "447c3d0f-e655-4952-9780-837df4c4bba1"
      },
      "execution_count": 24,
      "outputs": [
        {
          "output_type": "stream",
          "name": "stdout",
          "text": [
            "Original Array: ['python' 'numpy' 'pandas']\n",
            "Spaced Array: ['p y t h o n' 'n u m p y' 'p a n d a s']\n"
          ]
        }
      ]
    },
    {
      "cell_type": "markdown",
      "source": [
        "7. Create two 2D NumPy arrays and perform element-wise addition, subtraction, multiplication, and division"
      ],
      "metadata": {
        "id": "24OkDk1n6B95"
      }
    },
    {
      "cell_type": "code",
      "source": [
        "arr1 = np.array([[1, 2, 3], [4, 5, 6]])\n",
        "arr2 = np.array([[7, 8, 9], [10, 11, 12]])\n",
        "\n",
        "addition = np.add(arr1, arr2)\n",
        "subtraction = np.subtract(arr1, arr2)\n",
        "multiplication = np.multiply(arr1, arr2)\n",
        "division = np.divide(arr1, arr2)\n",
        "\n",
        "print(\"Array 1:\\n\", arr1)\n",
        "print(\"Array 2:\\n\", arr2)\n",
        "\n",
        "print(\"\\nElement-wise Addition:\\n\", addition)\n",
        "print(\"Element-wise Subtraction:\\n\", subtraction)\n",
        "print(\"Element-wise Multiplication:\\n\", multiplication)\n",
        "print(\"Element-wise Division:\\n\", division)"
      ],
      "metadata": {
        "colab": {
          "base_uri": "https://localhost:8080/"
        },
        "id": "bSCV3i1v6Bnp",
        "outputId": "8bb24ee4-cb98-4237-d91f-f28ebc47e2df"
      },
      "execution_count": 25,
      "outputs": [
        {
          "output_type": "stream",
          "name": "stdout",
          "text": [
            "Array 1:\n",
            " [[1 2 3]\n",
            " [4 5 6]]\n",
            "Array 2:\n",
            " [[ 7  8  9]\n",
            " [10 11 12]]\n",
            "\n",
            "Element-wise Addition:\n",
            " [[ 8 10 12]\n",
            " [14 16 18]]\n",
            "Element-wise Subtraction:\n",
            " [[-6 -6 -6]\n",
            " [-6 -6 -6]]\n",
            "Element-wise Multiplication:\n",
            " [[ 7 16 27]\n",
            " [40 55 72]]\n",
            "Element-wise Division:\n",
            " [[0.14285714 0.25       0.33333333]\n",
            " [0.4        0.45454545 0.5       ]]\n"
          ]
        }
      ]
    },
    {
      "cell_type": "markdown",
      "source": [
        "8. Use NumPy to create a 5x5 identity matrix, then extract its diagonal elements."
      ],
      "metadata": {
        "id": "jREl3Mdh6WQ6"
      }
    },
    {
      "cell_type": "code",
      "source": [
        "identity_matrix = np.eye(5)\n",
        "print(\"5x5 Identity Matrix:\")\n",
        "print(identity_matrix)\n",
        "\n",
        "diagonal_elements = np.diag(identity_matrix)\n",
        "print(\"\\nDiagonal Elements:\")\n",
        "print(diagonal_elements)"
      ],
      "metadata": {
        "colab": {
          "base_uri": "https://localhost:8080/"
        },
        "id": "BRs9Fnjx6SZX",
        "outputId": "ecba2dd1-978d-431e-b8ef-7a9c79aefefe"
      },
      "execution_count": 26,
      "outputs": [
        {
          "output_type": "stream",
          "name": "stdout",
          "text": [
            "5x5 Identity Matrix:\n",
            "[[1. 0. 0. 0. 0.]\n",
            " [0. 1. 0. 0. 0.]\n",
            " [0. 0. 1. 0. 0.]\n",
            " [0. 0. 0. 1. 0.]\n",
            " [0. 0. 0. 0. 1.]]\n",
            "\n",
            "Diagonal Elements:\n",
            "[1. 1. 1. 1. 1.]\n"
          ]
        }
      ]
    },
    {
      "cell_type": "markdown",
      "source": [
        "9. Generate a NumPy array of 100 random integers between 0 and 1000. Find and display all prime numbers in\n",
        "this array."
      ],
      "metadata": {
        "id": "5udybCrS7LpN"
      }
    },
    {
      "cell_type": "code",
      "source": [
        "random_array = np.random.randint(0, 1000, size=100)\n",
        "\n",
        "def is_prime(n):\n",
        "    if n < 2:\n",
        "        return False\n",
        "    for i in range(2, int(np.sqrt(n)) + 1):\n",
        "        if n % i == 0:\n",
        "            return False\n",
        "    return True\n",
        "\n",
        "prime_numbers = [num for num in random_array if is_prime(num)]\n",
        "print(\"\\nPrime Numbers in the Array:\")\n",
        "print(prime_numbers)"
      ],
      "metadata": {
        "colab": {
          "base_uri": "https://localhost:8080/"
        },
        "id": "Xk5-PjCa7OgC",
        "outputId": "b4d9bf68-b23f-4500-ef54-d734d0f426f0"
      },
      "execution_count": 27,
      "outputs": [
        {
          "output_type": "stream",
          "name": "stdout",
          "text": [
            "\n",
            "Prime Numbers in the Array:\n",
            "[907, 613, 683, 317, 349, 97, 739, 617, 863, 751, 751, 643, 229, 431, 109]\n"
          ]
        }
      ]
    },
    {
      "cell_type": "markdown",
      "source": [
        "10. Create a NumPy array representing daily temperatures for a month. Calculate and display the weekly\n",
        "averages."
      ],
      "metadata": {
        "id": "r-nVKt-98Dtq"
      }
    },
    {
      "cell_type": "code",
      "source": [
        "np.random.seed(42)\n",
        "\n",
        "temperatures = np.random.uniform(15, 30, 30)\n",
        "\n",
        "print(\"Daily temperatures for the month:\")\n",
        "print(temperatures)\n",
        "print(\"\\Shape of the array:\", temperatures.shape)\n",
        "\n",
        "weekly_temps = temperatures[:28].reshape(4, 7)\n",
        "\n",
        "weekly_averages = np.mean(weekly_temps, axis=1)\n",
        "\n",
        "print(\"Weekly averages:\")\n",
        "for week, avg in enumerate(weekly_averages, 1):\n",
        "    print(f\"Week {week}: {avg:.2f}\\u00b0C\")\n"
      ],
      "metadata": {
        "colab": {
          "base_uri": "https://localhost:8080/"
        },
        "id": "EWmdHbV68RC_",
        "outputId": "3a4f7dd5-76b4-4df2-d57b-5146ba4c2674"
      },
      "execution_count": 30,
      "outputs": [
        {
          "output_type": "stream",
          "name": "stdout",
          "text": [
            "Daily temperatures for the month:\n",
            "[20.61810178 29.2607146  25.97990913 23.97987726 17.34027961 17.33991781\n",
            " 15.87125418 27.99264219 24.01672518 25.62108867 15.30876741 29.54864778\n",
            " 27.48663961 18.18508666 17.72737451 17.75106765 19.56363364 22.87134647\n",
            " 21.47917528 19.3684371  24.17779342 17.09240791 19.38216973 20.49542765\n",
            " 21.84104976 26.77763942 17.99510673 22.71351658 23.88621853 15.69675619]\n",
            "Shape of the array: (30,)\n",
            "Weekly averages:\n",
            "Week 1: 21.48°C\n",
            "Week 2: 24.02°C\n",
            "Week 3: 20.42°C\n",
            "Week 4: 20.90°C\n"
          ]
        }
      ]
    },
    {
      "cell_type": "code",
      "source": [],
      "metadata": {
        "id": "EpaVuGLU9JH6"
      },
      "execution_count": null,
      "outputs": []
    }
  ]
}